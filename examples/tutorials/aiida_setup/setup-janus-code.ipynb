{
 "cells": [
  {
   "cell_type": "markdown",
   "metadata": {
    "tags": []
   },
   "source": [
    "# Setting up janus code"
   ]
  },
  {
   "cell_type": "markdown",
   "metadata": {
    "id": "_VQOcUDx26EH"
   },
   "source": [
    "To run anything, we need to make sure a profile, computer and code are set up in AiiDA.\n",
    "The command \"verdi\" represents the command line interface of AiiDA and it is used to set it up and interact with the database.\n",
    "If you run verdi status you can see what the status of the database is"
   ]
  },
  {
   "cell_type": "code",
   "execution_count": null,
   "metadata": {
    "id": "FySKV9vIH2EZ"
   },
   "outputs": [],
   "source": [
    "! verdi status"
   ]
  },
  {
   "cell_type": "markdown",
   "metadata": {},
   "source": [
    "Then we can see that there is already a default profile setup"
   ]
  },
  {
   "cell_type": "code",
   "execution_count": null,
   "metadata": {},
   "outputs": [],
   "source": [
    "! verdi profile list"
   ]
  },
  {
   "cell_type": "markdown",
   "metadata": {},
   "source": [
    "We can also see that the localhost computer is set up"
   ]
  },
  {
   "cell_type": "code",
   "execution_count": null,
   "metadata": {
    "id": "swIorHevLooP"
   },
   "outputs": [],
   "source": [
    "! verdi computer list"
   ]
  },
  {
   "cell_type": "markdown",
   "metadata": {
    "id": "fT5TWbmOPuJe"
   },
   "source": [
    "Then we need to check if the code is already set up or not.\n"
   ]
  },
  {
   "cell_type": "code",
   "execution_count": null,
   "metadata": {},
   "outputs": [],
   "source": [
    "! verdi code list"
   ]
  },
  {
   "cell_type": "markdown",
   "metadata": {},
   "source": [
    "If it's not, let's set it up. Otherwise we are good to go.\n",
    "\n",
    "The code we are using is janus, that manages the mlips submission. \n",
    "We need to know the executable path"
   ]
  },
  {
   "cell_type": "code",
   "execution_count": null,
   "metadata": {
    "id": "fT5TWbmOPuJe"
   },
   "outputs": [],
   "source": [
    "! which janus"
   ]
  },
  {
   "cell_type": "markdown",
   "metadata": {},
   "source": [
    "As you can see in the config file for the code that we are going to write, we use this path."
   ]
  },
  {
   "cell_type": "code",
   "execution_count": null,
   "metadata": {
    "id": "fT5TWbmOPuJe"
   },
   "outputs": [],
   "source": [
    "%%writefile config_code.yml\n",
    "append_text: ''\n",
    "computer: localhost\n",
    "default_calc_job_plugin: mlip.sp\n",
    "description: janus-core\n",
    "filepath_executable: /opt/conda/bin/janus\n",
    "label: janus\n",
    "prepend_text: ''\n",
    "use_double_quotes: 'False'"
   ]
  },
  {
   "cell_type": "markdown",
   "metadata": {},
   "source": [
    "Let's create the code. We create it as a `InstalledCode` instance of the AiiDA data type."
   ]
  },
  {
   "cell_type": "code",
   "execution_count": null,
   "metadata": {
    "id": "fT5TWbmOPuJe"
   },
   "outputs": [],
   "source": [
    "! verdi code create core.code.installed --config config_code.yml"
   ]
  },
  {
   "cell_type": "code",
   "execution_count": null,
   "metadata": {},
   "outputs": [],
   "source": [
    "! verdi code list"
   ]
  },
  {
   "cell_type": "markdown",
   "metadata": {},
   "source": [
    "The code is saved in the database with a PK (1 in my case but could be different for other people). \n",
    "We can see the details for the code."
   ]
  },
  {
   "cell_type": "code",
   "execution_count": null,
   "metadata": {},
   "outputs": [],
   "source": [
    "! verdi code show 1"
   ]
  },
  {
   "cell_type": "code",
   "execution_count": null,
   "metadata": {},
   "outputs": [],
   "source": []
  }
 ],
 "metadata": {
  "colab": {
   "private_outputs": true,
   "provenance": []
  },
  "kernelspec": {
   "display_name": "Python 3 (ipykernel)",
   "language": "python",
   "name": "python3"
  },
  "language_info": {
   "codemirror_mode": {
    "name": "ipython",
    "version": 3
   },
   "file_extension": ".py",
   "mimetype": "text/x-python",
   "name": "python",
   "nbconvert_exporter": "python",
   "pygments_lexer": "ipython3",
   "version": "3.9.13"
  }
 },
 "nbformat": 4,
 "nbformat_minor": 4
}
