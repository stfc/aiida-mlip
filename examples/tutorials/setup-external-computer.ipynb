{
 "cells": [
  {
   "cell_type": "markdown",
   "id": "afe742d7",
   "metadata": {},
   "source": [
    "# Setting up an external computer"
   ]
  },
  {
   "cell_type": "markdown",
   "id": "927e4a25",
   "metadata": {},
   "source": [
    "## Aim"
   ]
  },
  {
   "cell_type": "markdown",
   "id": "1c46a870",
   "metadata": {},
   "source": [
    "We can use aiida to submit jobs to an external computer. In this notebook we will: configure a profile, setup a computer, configure the SSH transport layer and create a code."
   ]
  },
  {
   "cell_type": "markdown",
   "id": "1ab75593",
   "metadata": {},
   "source": [
    "## Setup"
   ]
  },
  {
   "cell_type": "markdown",
   "id": "e7ba5ac9",
   "metadata": {},
   "source": [
    "For this tutorial we will assume you have:\n",
    "\n",
    "<ul>\n",
    "        <li>Aiida setup and can run jobs locally</li>\n",
    "        <li>A database setup:</li>\n",
    "        <ul>\n",
    "                <li>user: aiida_stfc</li> \n",
    "                <li>database: aiida_stfc_db</li>\n",
    "        </ul>\n",
    "        <li>Quantum Espresso setup on the remote computer</li>\n",
    "</ul>"
   ]
  },
  {
   "cell_type": "markdown",
   "id": "f16a8c8e",
   "metadata": {},
   "source": [
    "### Profile"
   ]
  },
  {
   "cell_type": "markdown",
   "id": "0be9e6d7",
   "metadata": {},
   "source": [
    "Run the following cell to create a yaml file with the settings of the profile. Replacing [XXX] with appropriate settings"
   ]
  },
  {
   "cell_type": "code",
   "execution_count": null,
   "id": "1deef4aa",
   "metadata": {},
   "outputs": [],
   "source": [
    "%%writefile ~/profile.yaml\n",
    "profile: scarf\n",
    "email: [EMAIL]\n",
    "first_name: [NAME]    \n",
    "last_name: [LASTNAME]\n",
    "institution: [INSTITUTION]\n",
    "database_username: aiida_stfc\n",
    "database_password: [PASSWORD]\n",
    "database_name: aiida_stfc_db\n",
    "repository_uri: file:///home/[USERNAME]/.aiida/repository/scarf"
   ]
  },
  {
   "cell_type": "markdown",
   "id": "d8ea7e52",
   "metadata": {},
   "source": [
    "Setup the profile ( **NOTE**: For this example we are using `core.psql_dos` (Postgres), but you can use `core.sqlite_dos` (SQLite) by replacing `core.psql_dos` in command line params and changing the configuration file. Use `verdi profile setup core.sqlite_dos -h` for more details on how to setup config file ):"
   ]
  },
  {
   "cell_type": "code",
   "execution_count": null,
   "id": "836afef3",
   "metadata": {},
   "outputs": [],
   "source": [
    "! verdi profile setup core.sqlite_dos --config ~/profile.yaml --non-interactive --set-as-default"
   ]
  },
  {
   "cell_type": "markdown",
   "id": "a4c7c122",
   "metadata": {},
   "source": [
    "### Computer"
   ]
  },
  {
   "cell_type": "markdown",
   "id": "a6696a1e",
   "metadata": {},
   "source": [
    "Now we setup the computer with following settings. ( **NOTE**: This setup is to connect to SCARF, you should change the label, description, hostname and workdir respectively inline with your system setting )"
   ]
  },
  {
   "cell_type": "code",
   "execution_count": null,
   "id": "65057015",
   "metadata": {},
   "outputs": [],
   "source": [
    "%%writefile ~/computer.yaml\n",
    "label: scarf\n",
    "description: https://www.scarf.rl.ac.uk/index.html\n",
    "hostname: ui1.scarf.rl.ac.uk\n",
    "transport: core.ssh\n",
    "scheduler: core.slurm\n",
    "shebang: '#!/bin/bash'\n",
    "work_dir: /work4/scd/scarf1480/aiida\n",
    "mpirun_command: srun -u -n {tot_num_mpiprocs}\n",
    "mpiprocs_per_machine: 32\n",
    "use_double_quotes: False\n",
    "prepend_text: ''\n",
    "append_text: ''"
   ]
  },
  {
   "cell_type": "markdown",
   "id": "c7b34fe6",
   "metadata": {},
   "source": [
    "Run the following command"
   ]
  },
  {
   "cell_type": "code",
   "execution_count": null,
   "id": "811e10d3",
   "metadata": {},
   "outputs": [],
   "source": [
    "! verdi computer setup -n --config ~/computer.yaml"
   ]
  },
  {
   "cell_type": "markdown",
   "id": "c3d975f7",
   "metadata": {},
   "source": [
    "Once the computer is created, you then have to configure the ssh transport to communicate with the computer. Replace username, key_filename and gss_host with your respective settings."
   ]
  },
  {
   "cell_type": "code",
   "execution_count": null,
   "id": "5d292fb1",
   "metadata": {},
   "outputs": [],
   "source": [
    "%%writefile ~/ssh_transport.yaml\n",
    "username: [USERNAME]\n",
    "port: 22\n",
    "look_for_keys: True\n",
    "key_filename: [SSH_KEY_PATH]\n",
    "timeout: 60\n",
    "allow_agent: True\n",
    "proxy_command: ''\n",
    "proxy_jump: ''\n",
    "compress: True\n",
    "gss_auth: False\n",
    "gss_kex: False\n",
    "gss_deleg_creds: False\n",
    "gss_host: ui1.scarf.rl.ac.uk\n",
    "load_system_host_keys: True\n",
    "key_policy: AutoAddPolicy\n",
    "use_login_shell: True\n",
    "safe_interval: 30.0"
   ]
  },
  {
   "cell_type": "code",
   "execution_count": null,
   "id": "5976b3f9",
   "metadata": {},
   "outputs": [],
   "source": [
    "! verdi computer configure core.ssh scarf -n --config ~/ssh_transport.yaml"
   ]
  },
  {
   "cell_type": "markdown",
   "id": "a8fccf0e",
   "metadata": {},
   "source": [
    "Once the compuuter is setup, you can test the connection"
   ]
  },
  {
   "cell_type": "code",
   "execution_count": null,
   "id": "ce2132c3",
   "metadata": {},
   "outputs": [],
   "source": [
    "! verdi computer test scarf"
   ]
  },
  {
   "cell_type": "markdown",
   "id": "25efa7b3",
   "metadata": {},
   "source": [
    "### External Code"
   ]
  },
  {
   "cell_type": "markdown",
   "id": "c376a8be",
   "metadata": {},
   "source": [
    "If you want to run a calculation that is only available on the external machine, you can set up a code which accesses the external library. `verdi code setup -h` goes into more detail about what each of options does"
   ]
  },
  {
   "cell_type": "code",
   "execution_count": null,
   "id": "475b35b9",
   "metadata": {},
   "outputs": [],
   "source": [
    "%%writefile ~/qe_code.yaml\n",
    "label: qe\n",
    "description: Quantum ESPRESSO pw.x\n",
    "default_calc_job_plugin: quantumespresso.pw\n",
    "computer: scarf\n",
    "filepath_executable: /work4/scd/scarf562/eb-amd/software/QuantumESPRESSO/7.2-foss-2023a/bin/pw.x\n",
    "use_double_quotes: true\n",
    "prepend_text: |+\n",
    "  module load amd-modules\n",
    "  module load QuantumESPRESSO/7.2-foss-2023a\n",
    "\n",
    "append_text: ' '"
   ]
  },
  {
   "cell_type": "code",
   "execution_count": null,
   "id": "c354f007",
   "metadata": {},
   "outputs": [],
   "source": [
    "! verdi code create core.code.installed -n --config ~/qe_code.yaml"
   ]
  }
 ],
 "metadata": {
  "kernelspec": {
   "display_name": "aiida-mlip (3.12.3)",
   "language": "python",
   "name": "python3"
  },
  "language_info": {
   "codemirror_mode": {
    "name": "ipython",
    "version": 3
   },
   "file_extension": ".py",
   "mimetype": "text/x-python",
   "name": "python",
   "nbconvert_exporter": "python",
   "pygments_lexer": "ipython3",
   "version": "3.12.3"
  }
 },
 "nbformat": 4,
 "nbformat_minor": 5
}
