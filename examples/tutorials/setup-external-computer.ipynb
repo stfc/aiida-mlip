{
 "cells": [
  {
   "cell_type": "markdown",
   "id": "afe742d7",
   "metadata": {},
   "source": [
    "# Setting up an external computer"
   ]
  },
  {
   "cell_type": "markdown",
   "id": "927e4a25",
   "metadata": {},
   "source": [
    "## Aim"
   ]
  },
  {
   "cell_type": "markdown",
   "id": "1c46a870",
   "metadata": {},
   "source": [
    "We can use aiida to submit jobs to an external computer, something with more processing power, and get the result of the jobs locally"
   ]
  },
  {
   "cell_type": "markdown",
   "id": "1ab75593",
   "metadata": {},
   "source": [
    "## Setup"
   ]
  },
  {
   "cell_type": "markdown",
   "id": "e7ba5ac9",
   "metadata": {},
   "source": [
    "For this tutorial we will assume you have:\n",
    "\n",
    "<ul>\n",
    "        <li>Aiida setup and can run jobs locally</li>\n",
    "        <li>Setup Postgres:</li>\n",
    "        <ul>\n",
    "                <li>user: aiida_stfc</li> \n",
    "                <li>database: aiida_stfc_db</li>\n",
    "        </ul>\n",
    "</ul>"
   ]
  },
  {
   "cell_type": "markdown",
   "id": "f16a8c8e",
   "metadata": {},
   "source": [
    "### Profile"
   ]
  },
  {
   "cell_type": "markdown",
   "id": "0be9e6d7",
   "metadata": {},
   "source": [
    "Run the following cell to create a yaml file with the settings of the profile. Replacing [XXX] with appropriate settings"
   ]
  },
  {
   "cell_type": "code",
   "execution_count": null,
   "id": "1deef4aa",
   "metadata": {},
   "outputs": [],
   "source": [
    "%%writefile ~/profile.yaml\n",
    "profile: scarf\n",
    "email: [EMAIL]\n",
    "first_name: [NAME]\n",
    "last_name: [NAME]\n",
    "institution: [INSTITUTION_NAME]\n",
    "db_name: aiida_stfc_db\n",
    "db_username: aiida_stfc\n",
    "db_password: [PASSWORD]\n",
    "repository: /home/[USERNAME]/.aiida/repository/aiida_stfc\n"
   ]
  },
  {
   "cell_type": "markdown",
   "id": "d8ea7e52",
   "metadata": {},
   "source": [
    "Setup the the profile:"
   ]
  },
  {
   "cell_type": "code",
   "execution_count": null,
   "id": "836afef3",
   "metadata": {},
   "outputs": [],
   "source": [
    "! verdi setup -n --config ~/profile.yaml\n"
   ]
  },
  {
   "cell_type": "markdown",
   "id": "9a70e0e9",
   "metadata": {},
   "source": [
    "Set new profile as default:"
   ]
  },
  {
   "cell_type": "code",
   "execution_count": null,
   "id": "ccb9b2ad",
   "metadata": {},
   "outputs": [],
   "source": [
    "! verdi profile set-default scarf"
   ]
  },
  {
   "cell_type": "markdown",
   "id": "a4c7c122",
   "metadata": {},
   "source": [
    "### Computer"
   ]
  },
  {
   "cell_type": "markdown",
   "id": "a6696a1e",
   "metadata": {},
   "source": [
    "Now we setup the computer with following settings"
   ]
  },
  {
   "cell_type": "code",
   "execution_count": null,
   "id": "65057015",
   "metadata": {},
   "outputs": [],
   "source": [
    "%%writefile ~/computer.yaml\n",
    "label: scarf\n",
    "description: https://www.scarf.rl.ac.uk/index.html\n",
    "hostname: ui1.scarf.rl.ac.uk\n",
    "transport: core.ssh\n",
    "scheduler: core.slurm\n",
    "shebang: '#!/bin/bash'\n",
    "work_dir: [WORD_DIR]\n",
    "mpirun_command: srun -u -n {tot_num_mpiprocs}\n",
    "mpiprocs_per_machine: 32\n",
    "use_double_quotes: False\n",
    "prepend_text: ''\n",
    "append_text: ''"
   ]
  },
  {
   "cell_type": "markdown",
   "id": "c7b34fe6",
   "metadata": {},
   "source": [
    "Run the following command"
   ]
  },
  {
   "cell_type": "code",
   "execution_count": null,
   "id": "811e10d3",
   "metadata": {},
   "outputs": [],
   "source": [
    "! verdi computer setup -n --config ~/computer.yaml"
   ]
  },
  {
   "cell_type": "markdown",
   "id": "c3d975f7",
   "metadata": {},
   "source": [
    "Once the computer is created, you then have to configure the ssh transport to communicate with the computer"
   ]
  },
  {
   "cell_type": "code",
   "execution_count": null,
   "id": "5d292fb1",
   "metadata": {},
   "outputs": [],
   "source": [
    "%%writefile ~/ssh_transport.yaml\n",
    "username: [USERNAME]\n",
    "port: 22\n",
    "look_for_keys: True\n",
    "key_filename: [PATH_TO_SSH_KEY]\n",
    "timeout: 60\n",
    "allow_agent: True\n",
    "proxy_command: ''\n",
    "proxy_jump: ''\n",
    "compress: True\n",
    "gss_auth: False\n",
    "gss_kex: False\n",
    "gss_deleg_creds: False\n",
    "gss_host: ui1.scarf.rl.ac.uk\n",
    "load_system_host_keys: True\n",
    "key_policy: AutoAddPolicy\n",
    "use_login_shell: True\n",
    "safe_interval: 30.0"
   ]
  },
  {
   "cell_type": "code",
   "execution_count": null,
   "id": "5976b3f9",
   "metadata": {},
   "outputs": [],
   "source": [
    "! verdi computer configure core.ssh scarf -n --config ~/ssh_transport.yaml"
   ]
  },
  {
   "cell_type": "markdown",
   "id": "a8fccf0e",
   "metadata": {},
   "source": [
    "Once the compuuter is setup, you can test the connection"
   ]
  },
  {
   "cell_type": "code",
   "execution_count": null,
   "id": "ce2132c3",
   "metadata": {},
   "outputs": [],
   "source": [
    "! verdi computer test scarf"
   ]
  },
  {
   "cell_type": "markdown",
   "id": "25efa7b3",
   "metadata": {},
   "source": [
    "### External Code"
   ]
  },
  {
   "cell_type": "markdown",
   "id": "c376a8be",
   "metadata": {},
   "source": [
    "If you want to run a calculation that is only available on the external machine, you can set up a code which accesses the external library"
   ]
  },
  {
   "cell_type": "code",
   "execution_count": null,
   "id": "475b35b9",
   "metadata": {},
   "outputs": [],
   "source": [
    "%%writefile ~/qe_code.yaml\n",
    "label: qe\n",
    "description: Quantum ESPRESSO pw.x\n",
    "default_calc_job_plugin: quantumespresso.pw\n",
    "computer: scarf\n",
    "filepath_executable: /work4/scd/scarf562/eb-amd/software/QuantumESPRESSO/7.2-foss-2023a/bin/pw.x\n",
    "use_double_quotes: true\n",
    "prepend_text: |+\n",
    "  module load amd-modules\n",
    "  module load QuantumESPRESSO/7.2-foss-2023a\n",
    "\n",
    "append_text: ' '"
   ]
  },
  {
   "cell_type": "code",
   "execution_count": null,
   "id": "c354f007",
   "metadata": {},
   "outputs": [],
   "source": [
    "! verdi code create core.code.installed -n --config ~/qe_code.yaml"
   ]
  }
 ],
 "metadata": {
  "kernelspec": {
   "display_name": "aiida-mlip (3.12.3)",
   "language": "python",
   "name": "python3"
  },
  "language_info": {
   "codemirror_mode": {
    "name": "ipython",
    "version": 3
   },
   "file_extension": ".py",
   "mimetype": "text/x-python",
   "name": "python",
   "nbconvert_exporter": "python",
   "pygments_lexer": "ipython3",
   "version": "3.12.3"
  }
 },
 "nbformat": 4,
 "nbformat_minor": 5
}
