{
 "cells": [
  {
   "cell_type": "markdown",
   "id": "c13c1dd7",
   "metadata": {},
   "source": [
    "# Running multiple calculations on a given model\n"
   ]
  },
  {
   "cell_type": "markdown",
   "id": "ca81fa1b",
   "metadata": {},
   "source": [
    "## Aim"
   ]
  },
  {
   "cell_type": "markdown",
   "id": "35ecbb39",
   "metadata": {},
   "source": [
    "This notebook shows how we can run multiple calculations of a given structure"
   ]
  },
  {
   "cell_type": "markdown",
   "id": "5acf0b46",
   "metadata": {},
   "source": [
    "### Setup\n",
    "\n",
    "The initial setup is very similar to the other tutorials, such as `singlepoint.ipynb`, which goes into more detail about what each step is doing"
   ]
  },
  {
   "cell_type": "markdown",
   "id": "73bfb65e",
   "metadata": {},
   "source": [
    "Load the aiida profile and code:"
   ]
  },
  {
   "cell_type": "code",
   "execution_count": 1,
   "id": "79098139",
   "metadata": {},
   "outputs": [
    {
     "data": {
      "text/plain": [
       "Profile<uuid='fcd6e413ff67451981fc4de1bfe379bf' name='scarf'>"
      ]
     },
     "execution_count": 1,
     "metadata": {},
     "output_type": "execute_result"
    }
   ],
   "source": [
    "from aiida import load_profile\n",
    "load_profile()"
   ]
  },
  {
   "cell_type": "code",
   "execution_count": 2,
   "id": "3bc2cf3b",
   "metadata": {},
   "outputs": [],
   "source": [
    "from aiida_mlip.data.model import ModelData\n",
    "uri = \"https://github.com/stfc/janus-core/raw/main/tests/models/mace_mp_small.model\"\n",
    "model = ModelData.from_uri(uri, architecture=\"mace_mp\", cache_dir=\"mlips\")"
   ]
  },
  {
   "cell_type": "code",
   "execution_count": 3,
   "id": "ae62816f",
   "metadata": {},
   "outputs": [],
   "source": [
    "from aiida.orm import load_code\n",
    "janus_code = load_code(\"janus@localhost\")"
   ]
  },
  {
   "cell_type": "markdown",
   "id": "65fbe939",
   "metadata": {},
   "source": [
    "Inputs should include the model, code, metadata, and any other keyword arguments expected by the calculation we are running:"
   ]
  },
  {
   "cell_type": "code",
   "execution_count": 4,
   "id": "1795dd41",
   "metadata": {},
   "outputs": [],
   "source": [
    "from aiida.orm import Str, Float, Bool\n",
    "inputs = {\n",
    "    \"code\": janus_code,\n",
    "    \"model\": model,\n",
    "    \"arch\": Str(model.architecture),\n",
    "    \"precision\": Str(\"float64\"),\n",
    "    \"device\": Str(\"cpu\"),\n",
    "    \"fmax\": Float(0.1), \n",
    "    \"opt_cell_lengths\": Bool(False), \n",
    "    \"opt_cell_fully\": Bool(True), \n",
    "    \"metadata\": {\"options\": {\"resources\": {\"num_machines\": 1}}},\n",
    "    }"
   ]
  },
  {
   "cell_type": "markdown",
   "id": "1d661593",
   "metadata": {},
   "source": [
    "We must now choose the calculations to perform:"
   ]
  },
  {
   "cell_type": "code",
   "execution_count": 5,
   "id": "0e4c78c9",
   "metadata": {},
   "outputs": [],
   "source": [
    "from aiida.plugins import CalculationFactory\n",
    "geomoptCalc = CalculationFactory(\"mlip.opt\")\n",
    "descriptorsCalc = CalculationFactory(\"mlip.descriptors\")\n"
   ]
  },
  {
   "cell_type": "markdown",
   "id": "37df1f81",
   "metadata": {},
   "source": [
    "Now we can create our WorkGraph. This includes passing in the inputs, checking the amount of structures we have and interating through. Note for this workbook we have decreased the amount of structures to two for the sake of simplicity. In the loop we can call each structure; run geomopt calculation, pass the output file into descriptors calculation, and get the final outputs of all the structures"
   ]
  },
  {
   "cell_type": "code",
   "execution_count": 6,
   "id": "e186c8e2",
   "metadata": {},
   "outputs": [
    {
     "name": "stdout",
     "output_type": "stream",
     "text": [
      "defining outputnode\n",
      "defining outputnode\n"
     ]
    }
   ],
   "source": [
    "from sample_split import build_filters_workgraph\n",
    "from aiida.orm import Str, Float, Bool, Int\n",
    "from ase.io import read\n",
    "\n",
    "structure = \"../../examples/tutorials/structures/lj-traj.xyz\"\n",
    "\n",
    "split_inputs = {\n",
    "    \"config_types\": Str(\"\"),\n",
    "    \"prefix\": Str(\"\"),\n",
    "    \"scale\": Float(1.0e5),\n",
    "    \"append_mode\": Bool(False)\n",
    "}\n",
    "\n",
    "wg = build_filters_workgraph(\n",
    "    initial_struct = structure,\n",
    "    calc_inputs = [geomoptCalc,descriptorsCalc],\n",
    "    wg_inputs= inputs,\n",
    "    split_inputs = split_inputs\n",
    ")\n",
    "\n"
   ]
  },
  {
   "cell_type": "code",
   "execution_count": 7,
   "id": "0d119cad",
   "metadata": {},
   "outputs": [
    {
     "data": {
      "application/vnd.jupyter.widget-view+json": {
       "model_id": "61d0b02f79534e12b63df681b97348e0",
       "version_major": 2,
       "version_minor": 1
      },
      "text/plain": [
       "NodeGraphWidget(settings={'minimap': True}, style={'width': '90%', 'height': '600px'}, value={'name': 'Calcula…"
      ]
     },
     "execution_count": 7,
     "metadata": {},
     "output_type": "execute_result"
    }
   ],
   "source": [
    "wg\n"
   ]
  },
  {
   "cell_type": "code",
   "execution_count": 8,
   "id": "5c5fd6df",
   "metadata": {},
   "outputs": [
    {
     "name": "stderr",
     "output_type": "stream",
     "text": [
      "08/13/2025 09:31:06 AM <85934> aiida.broker.rabbitmq: [WARNING] RabbitMQ v3.12.1 is not supported and will cause unexpected problems!\n",
      "08/13/2025 09:31:06 AM <85934> aiida.broker.rabbitmq: [WARNING] It can cause long-running workflows to crash and jobs to be submitted multiple times.\n",
      "08/13/2025 09:31:06 AM <85934> aiida.broker.rabbitmq: [WARNING] See https://github.com/aiidateam/aiida-core/wiki/RabbitMQ-version-to-use for details.\n",
      "08/13/2025 09:31:23 AM <85934> aiida.orm.nodes.process.workflow.workchain.WorkChainNode: [REPORT] [688|WorkGraphEngine|continue_workgraph]: tasks ready to run: GeomOpt,GeomOpt1,GeomOpt2,GeomOpt3,GeomOpt4,GeomOpt5,GeomOpt6,GeomOpt7,GeomOpt8,GeomOpt9,GeomOpt10\n",
      "08/13/2025 09:31:45 AM <85934> aiida.orm.nodes.process.workflow.workchain.WorkChainNode: [REPORT] [688|WorkGraphEngine|on_wait]: Process status: Waiting for child processes: 692, 696, 700, 704, 708, 712, 716, 720, 724, 728, 732\n",
      "08/13/2025 09:32:48 AM <85934> aiida.orm.nodes.process.workflow.workchain.WorkChainNode: [REPORT] [688|WorkGraphEngine|update_task_state]: Task: GeomOpt1, type: CALCJOB, finished.\n",
      "08/13/2025 09:32:49 AM <85934> aiida.orm.nodes.process.workflow.workchain.WorkChainNode: [REPORT] [688|WorkGraphEngine|update_task_state]: Task: GeomOpt5, type: CALCJOB, finished.\n",
      "08/13/2025 09:32:50 AM <85934> aiida.orm.nodes.process.workflow.workchain.WorkChainNode: [REPORT] [688|WorkGraphEngine|update_task_state]: Task: GeomOpt8, type: CALCJOB, finished.\n",
      "08/13/2025 09:32:50 AM <85934> aiida.orm.nodes.process.workflow.workchain.WorkChainNode: [REPORT] [688|WorkGraphEngine|update_task_state]: Task: GeomOpt10, type: CALCJOB, finished.\n",
      "08/13/2025 09:32:58 AM <85934> aiida.orm.nodes.process.workflow.workchain.WorkChainNode: [REPORT] [688|WorkGraphEngine|continue_workgraph]: tasks ready to run: Descriptors1,Descriptors5,Descriptors8,Descriptors10\n",
      "08/13/2025 09:33:08 AM <85934> aiida.orm.nodes.process.workflow.workchain.WorkChainNode: [REPORT] [688|WorkGraphEngine|on_wait]: Process status: Waiting for child processes: 692, 700, 704, 708, 716, 720, 728, 779, 783, 787, 791\n",
      "08/13/2025 09:33:18 AM <85934> aiida.orm.nodes.process.workflow.workchain.WorkChainNode: [REPORT] [688|WorkGraphEngine|update_task_state]: Task: GeomOpt, type: CALCJOB, finished.\n",
      "08/13/2025 09:33:19 AM <85934> aiida.orm.nodes.process.workflow.workchain.WorkChainNode: [REPORT] [688|WorkGraphEngine|update_task_state]: Task: GeomOpt3, type: CALCJOB, finished.\n",
      "08/13/2025 09:33:20 AM <85934> aiida.orm.nodes.process.workflow.workchain.WorkChainNode: [REPORT] [688|WorkGraphEngine|update_task_state]: Task: GeomOpt4, type: CALCJOB, finished.\n",
      "08/13/2025 09:33:21 AM <85934> aiida.orm.nodes.process.workflow.workchain.WorkChainNode: [REPORT] [688|WorkGraphEngine|update_task_state]: Task: GeomOpt6, type: CALCJOB, finished.\n",
      "08/13/2025 09:33:22 AM <85934> aiida.orm.nodes.process.workflow.workchain.WorkChainNode: [REPORT] [688|WorkGraphEngine|update_task_state]: Task: GeomOpt7, type: CALCJOB, finished.\n",
      "08/13/2025 09:33:23 AM <85934> aiida.orm.nodes.process.workflow.workchain.WorkChainNode: [REPORT] [688|WorkGraphEngine|update_task_state]: Task: GeomOpt9, type: CALCJOB, finished.\n",
      "08/13/2025 09:33:31 AM <85934> aiida.orm.nodes.process.workflow.workchain.WorkChainNode: [REPORT] [688|WorkGraphEngine|continue_workgraph]: tasks ready to run: Descriptors,Descriptors3,Descriptors4,Descriptors6,Descriptors7,Descriptors9\n",
      "08/13/2025 09:33:45 AM <85934> aiida.orm.nodes.process.workflow.workchain.WorkChainNode: [REPORT] [688|WorkGraphEngine|on_wait]: Process status: Waiting for child processes: 700, 779, 783, 787, 791, 843, 847, 851, 855, 859, 863\n",
      "08/13/2025 09:33:53 AM <85934> aiida.orm.nodes.process.workflow.workchain.WorkChainNode: [REPORT] [688|WorkGraphEngine|update_task_state]: Task: GeomOpt2, type: CALCJOB, finished.\n",
      "08/13/2025 09:33:59 AM <85934> aiida.orm.nodes.process.workflow.workchain.WorkChainNode: [REPORT] [688|WorkGraphEngine|continue_workgraph]: tasks ready to run: Descriptors2\n",
      "08/13/2025 09:34:04 AM <85934> aiida.orm.nodes.process.workflow.workchain.WorkChainNode: [REPORT] [688|WorkGraphEngine|on_wait]: Process status: Waiting for child processes: 779, 783, 787, 791, 843, 847, 851, 855, 859, 863, 879\n",
      "08/13/2025 09:34:56 AM <85934> aiida.orm.nodes.process.workflow.workchain.WorkChainNode: [REPORT] [688|WorkGraphEngine|update_task_state]: Task: Descriptors1, type: CALCJOB, finished.\n",
      "08/13/2025 09:34:57 AM <85934> aiida.orm.nodes.process.workflow.workchain.WorkChainNode: [REPORT] [688|WorkGraphEngine|update_task_state]: Task: Descriptors5, type: CALCJOB, finished.\n",
      "08/13/2025 09:34:58 AM <85934> aiida.orm.nodes.process.workflow.workchain.WorkChainNode: [REPORT] [688|WorkGraphEngine|update_task_state]: Task: Descriptors10, type: CALCJOB, finished.\n",
      "08/13/2025 09:35:04 AM <85934> aiida.orm.nodes.process.workflow.workchain.WorkChainNode: [REPORT] [688|WorkGraphEngine|continue_workgraph]: tasks ready to run: \n",
      "08/13/2025 09:35:08 AM <85934> aiida.orm.nodes.process.workflow.workchain.WorkChainNode: [REPORT] [688|WorkGraphEngine|on_wait]: Process status: Waiting for child processes: 787, 843, 847, 851, 855, 859, 863, 879\n",
      "08/13/2025 09:35:15 AM <85934> aiida.orm.nodes.process.workflow.workchain.WorkChainNode: [REPORT] [688|WorkGraphEngine|update_task_state]: Task: Descriptors8, type: CALCJOB, finished.\n",
      "08/13/2025 09:35:21 AM <85934> aiida.orm.nodes.process.workflow.workchain.WorkChainNode: [REPORT] [688|WorkGraphEngine|continue_workgraph]: tasks ready to run: \n",
      "08/13/2025 09:35:25 AM <85934> aiida.orm.nodes.process.workflow.workchain.WorkChainNode: [REPORT] [688|WorkGraphEngine|on_wait]: Process status: Waiting for child processes: 843, 847, 851, 855, 859, 863, 879\n",
      "08/13/2025 09:35:34 AM <85934> aiida.orm.nodes.process.workflow.workchain.WorkChainNode: [REPORT] [688|WorkGraphEngine|update_task_state]: Task: Descriptors2, type: CALCJOB, finished.\n",
      "08/13/2025 09:35:35 AM <85934> aiida.orm.nodes.process.workflow.workchain.WorkChainNode: [REPORT] [688|WorkGraphEngine|update_task_state]: Task: Descriptors, type: CALCJOB, finished.\n",
      "08/13/2025 09:35:36 AM <85934> aiida.orm.nodes.process.workflow.workchain.WorkChainNode: [REPORT] [688|WorkGraphEngine|update_task_state]: Task: Descriptors3, type: CALCJOB, finished.\n",
      "08/13/2025 09:35:37 AM <85934> aiida.orm.nodes.process.workflow.workchain.WorkChainNode: [REPORT] [688|WorkGraphEngine|update_task_state]: Task: Descriptors4, type: CALCJOB, finished.\n",
      "08/13/2025 09:35:38 AM <85934> aiida.orm.nodes.process.workflow.workchain.WorkChainNode: [REPORT] [688|WorkGraphEngine|update_task_state]: Task: Descriptors6, type: CALCJOB, finished.\n",
      "08/13/2025 09:35:39 AM <85934> aiida.orm.nodes.process.workflow.workchain.WorkChainNode: [REPORT] [688|WorkGraphEngine|update_task_state]: Task: Descriptors7, type: CALCJOB, finished.\n",
      "08/13/2025 09:35:40 AM <85934> aiida.orm.nodes.process.workflow.workchain.WorkChainNode: [REPORT] [688|WorkGraphEngine|update_task_state]: Task: Descriptors9, type: CALCJOB, finished.\n",
      "08/13/2025 09:35:47 AM <85934> aiida.orm.nodes.process.workflow.workchain.WorkChainNode: [REPORT] [688|WorkGraphEngine|continue_workgraph]: tasks ready to run: process_and_split_data\n"
     ]
    },
    {
     "name": "stdout",
     "output_type": "stream",
     "text": [
      "create files: train_file=PosixPath('train.xyz'), valid_file=PosixPath('valid.xyz') and test_file=PosixPath('test.xyz')\n",
      "Processing: ('all', 'aiida'), 11 frames\n",
      "  ('all', 'aiida'): total=11, train_target=8,                     vt_target=3\n"
     ]
    },
    {
     "name": "stderr",
     "output_type": "stream",
     "text": [
      "/home/mtr46585/aiida-mlip/.venv/lib/python3.12/site-packages/fpsample/wrapper.py:98: UserWarning: k is too large, set to 11\n",
      "  warnings.warn(f\"k is too large, set to {n_pts}\")\n",
      "/home/mtr46585/aiida-mlip/.venv/lib/python3.12/site-packages/fpsample/wrapper.py:98: UserWarning: k is too large, set to 3\n",
      "  warnings.warn(f\"k is too large, set to {n_pts}\")\n",
      "08/13/2025 09:35:49 AM <85934> aiida.orm.nodes.process.workflow.workchain.WorkChainNode: [REPORT] [688|WorkGraphEngine|update_task_state]: Task: process_and_split_data, type: CALCFUNCTION, finished.\n",
      "08/13/2025 09:35:50 AM <85934> aiida.orm.nodes.process.workflow.workchain.WorkChainNode: [REPORT] [688|WorkGraphEngine|continue_workgraph]: tasks ready to run: \n",
      "08/13/2025 09:35:54 AM <85934> aiida.orm.nodes.process.workflow.workchain.WorkChainNode: [REPORT] [688|WorkGraphEngine|finalize]: Finalize workgraph.\n"
     ]
    },
    {
     "name": "stderr",
     "output_type": "stream",
     "text": [
      "08/13/2025 10:17:44 AM <85934> aiida.orm.nodes.process.workflow.workchain.WorkChainNode: [REPORT] [1514|WorkGraphEngine|update_task_state]: Task: PwCalculation2, type: CALCJOB, finished.\n",
      "08/13/2025 10:18:57 AM <85934> aiida.orm.nodes.process.workflow.workchain.WorkChainNode: [REPORT] [1514|WorkGraphEngine|update_task_state]: Task: PwCalculation, type: CALCJOB, finished.\n",
      "08/13/2025 10:18:58 AM <85934> aiida.orm.nodes.process.workflow.workchain.WorkChainNode: [REPORT] [1514|WorkGraphEngine|update_task_state]: Task: PwCalculation1, type: CALCJOB, finished.\n",
      "08/13/2025 10:19:30 AM <85934> aiida.orm.nodes.process.workflow.workchain.WorkChainNode: [REPORT] [1514|WorkGraphEngine|update_task_state]: Task: PwCalculation3, type: CALCJOB, finished.\n",
      "08/13/2025 10:19:31 AM <85934> aiida.orm.nodes.process.workflow.workchain.WorkChainNode: [REPORT] [1514|WorkGraphEngine|update_task_state]: Task: PwCalculation5, type: CALCJOB, finished.\n",
      "08/13/2025 10:20:03 AM <85934> aiida.orm.nodes.process.workflow.workchain.WorkChainNode: [REPORT] [1514|WorkGraphEngine|update_task_state]: Task: PwCalculation4, type: CALCJOB, finished.\n",
      "08/13/2025 10:20:36 AM <85934> aiida.orm.nodes.process.workflow.workchain.WorkChainNode: [REPORT] [1514|WorkGraphEngine|update_task_state]: Task: PwCalculation6, type: CALCJOB, finished.\n",
      "08/13/2025 10:20:37 AM <85934> aiida.orm.nodes.process.workflow.workchain.WorkChainNode: [REPORT] [1514|WorkGraphEngine|update_task_state]: Task: PwCalculation10, type: CALCJOB, finished.\n",
      "08/13/2025 10:21:10 AM <85934> aiida.orm.nodes.process.workflow.workchain.WorkChainNode: [REPORT] [1514|WorkGraphEngine|update_task_state]: Task: PwCalculation7, type: CALCJOB, finished.\n",
      "08/13/2025 10:21:10 AM <85934> aiida.orm.nodes.process.workflow.workchain.WorkChainNode: [REPORT] [1514|WorkGraphEngine|update_task_state]: Task: PwCalculation8, type: CALCJOB, finished.\n",
      "08/13/2025 10:21:41 AM <85934> aiida.orm.nodes.process.workflow.workchain.WorkChainNode: [REPORT] [1514|WorkGraphEngine|update_task_state]: Task: PwCalculation9, type: CALCJOB, finished.\n"
     ]
    }
   ],
   "source": [
    "wg.run()"
   ]
  },
  {
   "cell_type": "code",
   "execution_count": 10,
   "id": "7e5fd2f5",
   "metadata": {},
   "outputs": [
    {
     "name": "stdout",
     "output_type": "stream",
     "text": [
      "8\n"
     ]
    }
   ],
   "source": [
    "from ase.io import read\n",
    "\n",
    "file_dict = wg.tasks.process_and_split_data.outputs.result.value.get_dict()\n",
    "train = file_dict['train_file']\n",
    "\n",
    "print(len(read(train, index=':')))"
   ]
  },
  {
   "cell_type": "markdown",
   "id": "bb77dab0",
   "metadata": {},
   "source": [
    "Now we can run the calculations"
   ]
  },
  {
   "cell_type": "code",
   "execution_count": 11,
   "id": "b7ec4aa7",
   "metadata": {},
   "outputs": [],
   "source": [
    "from aiida.orm import load_node, load_code, load_computer\n",
    "from aiida import load_profile\n",
    "\n",
    "\n",
    "load_profile(\"scarf\", allow_switch=True)\n",
    "qe_code = load_code(\"qe@scarf\")\n",
    "\n",
    "computer_label = 'scarf'\n",
    "scarf = load_computer(computer_label)\n",
    "scarf.set_workdir('/work4/scd/scarf1480/aiida') \n",
    "# file_dict = load_node(3588).get_dict()"
   ]
  },
  {
   "cell_type": "code",
   "execution_count": 12,
   "id": "10f25e5b",
   "metadata": {},
   "outputs": [],
   "source": [
    "from ase.build import bulk\n",
    "from aiida.orm import Dict, KpointsData, StructureData, load_code, load_group\n",
    "from aiida.plugins.factories import WorkflowFactory\n",
    "\n",
    "from ase.io import read\n",
    "from aiida_workgraph import WorkGraph\n",
    "from aiida_quantumespresso.calculations.pw import PwCalculation\n",
    "\n",
    "kpoints = KpointsData()\n",
    "kpoints.set_kpoints_mesh([1, 1, 1])\n",
    "pseudo_family = load_group('SSSP/1.3/PBE/efficiency')\n",
    "metadata =  {\n",
    "    \"options\": {\n",
    "        \"resources\": {\n",
    "            \"num_machines\": 1\n",
    "        },\n",
    "        'max_wallclock_seconds': 3600,         # Set maximum wallclock time\n",
    "        #'account': 'elph',                     # Set account name\n",
    "        'queue_name': 'scarf',                  # Set queue name\n",
    "        'qos': 'scarf',\n",
    "        'environment_variables': {},\n",
    "        'withmpi': True,                       # Use MPI\n",
    "        'prepend_text': '''\n",
    "        module purge\n",
    "        module use /work4/scd/scarf562/eb-common/modules/all\n",
    "        module load amd-modules\n",
    "        module load QuantumESPRESSO/7.2-foss-2023a\n",
    "        ''',\n",
    "        'append_text': ''  \n",
    "    }\n",
    "}\n",
    "\n",
    "output_traj = {}\n",
    "with WorkGraph(\"QE\") as wg:\n",
    "\n",
    "    for _, filepath_out in file_dict.items():\n",
    "\n",
    "        for i in range(len(read(filepath_out, index=':'))):\n",
    "\n",
    "            structure = StructureData(ase=read(filepath_out, index=i))\n",
    "            pseudos = pseudo_family.get_pseudos(structure=structure)\n",
    "\n",
    "            ecutwfc, ecutrho = pseudo_family.get_recommended_cutoffs(\n",
    "                structure=structure,\n",
    "                unit='Ry',\n",
    "            )\n",
    "\n",
    "            pw_paras = {\n",
    "                \"CONTROL\": {\n",
    "                    \"calculation\": \"scf\",\n",
    "                },\n",
    "                \"SYSTEM\": {\n",
    "                    \"ecutwfc\": ecutwfc,\n",
    "                    \"ecutrho\": ecutrho,\n",
    "                },\n",
    "            }\n",
    "\n",
    "            qe_task = wg.add_task(\n",
    "                PwCalculation,\n",
    "                code= qe_code,\n",
    "                parameters= pw_paras,\n",
    "                kpoints= kpoints,\n",
    "                pseudos= pseudos,\n",
    "                metadata= metadata,\n",
    "                structure= structure,\n",
    "            )\n",
    "\n",
    "            output_traj[f\"{_}.struct{i}\"] = qe_task.outputs.output_trajectory\n",
    "\n",
    "wg.outputs = output_traj\n",
    "    \n",
    "\n"
   ]
  },
  {
   "cell_type": "code",
   "execution_count": 13,
   "id": "b3cd304a",
   "metadata": {},
   "outputs": [
    {
     "data": {
      "application/vnd.jupyter.widget-view+json": {
       "model_id": "61158f7645644fd18c71b3171a83d5b4",
       "version_major": 2,
       "version_minor": 1
      },
      "text/plain": [
       "NodeGraphWidget(settings={'minimap': True}, style={'width': '90%', 'height': '600px'}, value={'name': 'QE', 'u…"
      ]
     },
     "execution_count": 13,
     "metadata": {},
     "output_type": "execute_result"
    }
   ],
   "source": [
    "wg"
   ]
  },
  {
   "cell_type": "code",
   "execution_count": null,
   "id": "8dcb33f5",
   "metadata": {},
   "outputs": [],
   "source": [
    "wg.outputs.train_file"
   ]
  },
  {
   "cell_type": "code",
   "execution_count": null,
   "id": "a20b3adc",
   "metadata": {},
   "outputs": [
    {
     "name": "stderr",
     "output_type": "stream",
     "text": [
      "08/13/2025 10:09:10 AM <85934> aiida.orm.nodes.process.workflow.workchain.WorkChainNode: [REPORT] [1514|WorkGraphEngine|continue_workgraph]: tasks ready to run: PwCalculation,PwCalculation1,PwCalculation2,PwCalculation3,PwCalculation4,PwCalculation5,PwCalculation6,PwCalculation7,PwCalculation8,PwCalculation9,PwCalculation10\n",
      "08/13/2025 10:09:22 AM <85934> aiida.orm.nodes.process.workflow.workchain.WorkChainNode: [REPORT] [1514|WorkGraphEngine|on_wait]: Process status: Waiting for child processes: 1516, 1518, 1520, 1522, 1524, 1526, 1528, 1530, 1532, 1534, 1536\n",
      "/home/mtr46585/aiida-mlip/.venv/lib/python3.12/site-packages/aiida/transports/plugins/ssh.py:674: AiidaDeprecationWarning: `chdir()` is deprecated and will be removed in the next major version. Use absolute paths instead. (this will be removed in v3)\n",
      "  warn_deprecation(\n",
      "/home/mtr46585/aiida-mlip/.venv/lib/python3.12/site-packages/aiida/transports/plugins/ssh.py:674: AiidaDeprecationWarning: `chdir()` is deprecated and will be removed in the next major version. Use absolute paths instead. (this will be removed in v3)\n",
      "  warn_deprecation(\n",
      "/home/mtr46585/aiida-mlip/.venv/lib/python3.12/site-packages/aiida/transports/plugins/ssh.py:674: AiidaDeprecationWarning: `chdir()` is deprecated and will be removed in the next major version. Use absolute paths instead. (this will be removed in v3)\n",
      "  warn_deprecation(\n",
      "/home/mtr46585/aiida-mlip/.venv/lib/python3.12/site-packages/aiida/transports/plugins/ssh.py:674: AiidaDeprecationWarning: `chdir()` is deprecated and will be removed in the next major version. Use absolute paths instead. (this will be removed in v3)\n",
      "  warn_deprecation(\n",
      "/home/mtr46585/aiida-mlip/.venv/lib/python3.12/site-packages/aiida/transports/plugins/ssh.py:674: AiidaDeprecationWarning: `chdir()` is deprecated and will be removed in the next major version. Use absolute paths instead. (this will be removed in v3)\n",
      "  warn_deprecation(\n",
      "/home/mtr46585/aiida-mlip/.venv/lib/python3.12/site-packages/aiida/transports/plugins/ssh.py:674: AiidaDeprecationWarning: `chdir()` is deprecated and will be removed in the next major version. Use absolute paths instead. (this will be removed in v3)\n",
      "  warn_deprecation(\n",
      "/home/mtr46585/aiida-mlip/.venv/lib/python3.12/site-packages/aiida/transports/plugins/ssh.py:674: AiidaDeprecationWarning: `chdir()` is deprecated and will be removed in the next major version. Use absolute paths instead. (this will be removed in v3)\n",
      "  warn_deprecation(\n",
      "/home/mtr46585/aiida-mlip/.venv/lib/python3.12/site-packages/aiida/transports/plugins/ssh.py:674: AiidaDeprecationWarning: `chdir()` is deprecated and will be removed in the next major version. Use absolute paths instead. (this will be removed in v3)\n",
      "  warn_deprecation(\n",
      "/home/mtr46585/aiida-mlip/.venv/lib/python3.12/site-packages/aiida/transports/plugins/ssh.py:674: AiidaDeprecationWarning: `chdir()` is deprecated and will be removed in the next major version. Use absolute paths instead. (this will be removed in v3)\n",
      "  warn_deprecation(\n",
      "/home/mtr46585/aiida-mlip/.venv/lib/python3.12/site-packages/aiida/transports/plugins/ssh.py:674: AiidaDeprecationWarning: `chdir()` is deprecated and will be removed in the next major version. Use absolute paths instead. (this will be removed in v3)\n",
      "  warn_deprecation(\n",
      "/home/mtr46585/aiida-mlip/.venv/lib/python3.12/site-packages/aiida/transports/plugins/ssh.py:674: AiidaDeprecationWarning: `chdir()` is deprecated and will be removed in the next major version. Use absolute paths instead. (this will be removed in v3)\n",
      "  warn_deprecation(\n",
      "/home/mtr46585/aiida-mlip/.venv/lib/python3.12/site-packages/aiida/transports/plugins/ssh.py:674: AiidaDeprecationWarning: `chdir()` is deprecated and will be removed in the next major version. Use absolute paths instead. (this will be removed in v3)\n",
      "  warn_deprecation(\n",
      "/home/mtr46585/aiida-mlip/.venv/lib/python3.12/site-packages/aiida/transports/plugins/ssh.py:674: AiidaDeprecationWarning: `chdir()` is deprecated and will be removed in the next major version. Use absolute paths instead. (this will be removed in v3)\n",
      "  warn_deprecation(\n",
      "/home/mtr46585/aiida-mlip/.venv/lib/python3.12/site-packages/aiida/transports/plugins/ssh.py:674: AiidaDeprecationWarning: `chdir()` is deprecated and will be removed in the next major version. Use absolute paths instead. (this will be removed in v3)\n",
      "  warn_deprecation(\n",
      "/home/mtr46585/aiida-mlip/.venv/lib/python3.12/site-packages/aiida/transports/plugins/ssh.py:674: AiidaDeprecationWarning: `chdir()` is deprecated and will be removed in the next major version. Use absolute paths instead. (this will be removed in v3)\n",
      "  warn_deprecation(\n",
      "/home/mtr46585/aiida-mlip/.venv/lib/python3.12/site-packages/aiida/transports/plugins/ssh.py:674: AiidaDeprecationWarning: `chdir()` is deprecated and will be removed in the next major version. Use absolute paths instead. (this will be removed in v3)\n",
      "  warn_deprecation(\n",
      "/home/mtr46585/aiida-mlip/.venv/lib/python3.12/site-packages/aiida/transports/plugins/ssh.py:674: AiidaDeprecationWarning: `chdir()` is deprecated and will be removed in the next major version. Use absolute paths instead. (this will be removed in v3)\n",
      "  warn_deprecation(\n",
      "/home/mtr46585/aiida-mlip/.venv/lib/python3.12/site-packages/aiida/transports/plugins/ssh.py:674: AiidaDeprecationWarning: `chdir()` is deprecated and will be removed in the next major version. Use absolute paths instead. (this will be removed in v3)\n",
      "  warn_deprecation(\n",
      "/home/mtr46585/aiida-mlip/.venv/lib/python3.12/site-packages/aiida/transports/plugins/ssh.py:674: AiidaDeprecationWarning: `chdir()` is deprecated and will be removed in the next major version. Use absolute paths instead. (this will be removed in v3)\n",
      "  warn_deprecation(\n",
      "/home/mtr46585/aiida-mlip/.venv/lib/python3.12/site-packages/aiida/transports/plugins/ssh.py:674: AiidaDeprecationWarning: `chdir()` is deprecated and will be removed in the next major version. Use absolute paths instead. (this will be removed in v3)\n",
      "  warn_deprecation(\n",
      "/home/mtr46585/aiida-mlip/.venv/lib/python3.12/site-packages/aiida/transports/plugins/ssh.py:674: AiidaDeprecationWarning: `chdir()` is deprecated and will be removed in the next major version. Use absolute paths instead. (this will be removed in v3)\n",
      "  warn_deprecation(\n",
      "/home/mtr46585/aiida-mlip/.venv/lib/python3.12/site-packages/aiida/transports/plugins/ssh.py:674: AiidaDeprecationWarning: `chdir()` is deprecated and will be removed in the next major version. Use absolute paths instead. (this will be removed in v3)\n",
      "  warn_deprecation(\n",
      "08/13/2025 10:17:47 AM <85934> aiida.orm.nodes.process.workflow.workchain.WorkChainNode: [REPORT] [1514|WorkGraphEngine|continue_workgraph]: tasks ready to run: \n",
      "08/13/2025 10:17:48 AM <85934> aiida.orm.nodes.process.workflow.workchain.WorkChainNode: [REPORT] [1514|WorkGraphEngine|on_wait]: Process status: Waiting for child processes: 1516, 1518, 1522, 1524, 1526, 1528, 1530, 1532, 1534, 1536\n",
      "/home/mtr46585/aiida-mlip/.venv/lib/python3.12/site-packages/aiida/transports/plugins/ssh.py:674: AiidaDeprecationWarning: `chdir()` is deprecated and will be removed in the next major version. Use absolute paths instead. (this will be removed in v3)\n",
      "  warn_deprecation(\n",
      "/home/mtr46585/aiida-mlip/.venv/lib/python3.12/site-packages/aiida/transports/plugins/ssh.py:674: AiidaDeprecationWarning: `chdir()` is deprecated and will be removed in the next major version. Use absolute paths instead. (this will be removed in v3)\n",
      "  warn_deprecation(\n",
      "/home/mtr46585/aiida-mlip/.venv/lib/python3.12/site-packages/aiida/transports/plugins/ssh.py:674: AiidaDeprecationWarning: `chdir()` is deprecated and will be removed in the next major version. Use absolute paths instead. (this will be removed in v3)\n",
      "  warn_deprecation(\n",
      "08/13/2025 10:19:01 AM <85934> aiida.orm.nodes.process.workflow.workchain.WorkChainNode: [REPORT] [1514|WorkGraphEngine|continue_workgraph]: tasks ready to run: \n",
      "08/13/2025 10:19:02 AM <85934> aiida.orm.nodes.process.workflow.workchain.WorkChainNode: [REPORT] [1514|WorkGraphEngine|on_wait]: Process status: Waiting for child processes: 1522, 1524, 1526, 1528, 1530, 1532, 1534, 1536\n",
      "/home/mtr46585/aiida-mlip/.venv/lib/python3.12/site-packages/aiida/transports/plugins/ssh.py:674: AiidaDeprecationWarning: `chdir()` is deprecated and will be removed in the next major version. Use absolute paths instead. (this will be removed in v3)\n",
      "  warn_deprecation(\n",
      "/home/mtr46585/aiida-mlip/.venv/lib/python3.12/site-packages/aiida/transports/plugins/ssh.py:674: AiidaDeprecationWarning: `chdir()` is deprecated and will be removed in the next major version. Use absolute paths instead. (this will be removed in v3)\n",
      "  warn_deprecation(\n",
      "08/13/2025 10:19:34 AM <85934> aiida.orm.nodes.process.workflow.workchain.WorkChainNode: [REPORT] [1514|WorkGraphEngine|continue_workgraph]: tasks ready to run: \n",
      "08/13/2025 10:19:35 AM <85934> aiida.orm.nodes.process.workflow.workchain.WorkChainNode: [REPORT] [1514|WorkGraphEngine|on_wait]: Process status: Waiting for child processes: 1524, 1528, 1530, 1532, 1534, 1536\n",
      "/home/mtr46585/aiida-mlip/.venv/lib/python3.12/site-packages/aiida/transports/plugins/ssh.py:674: AiidaDeprecationWarning: `chdir()` is deprecated and will be removed in the next major version. Use absolute paths instead. (this will be removed in v3)\n",
      "  warn_deprecation(\n",
      "08/13/2025 10:20:06 AM <85934> aiida.orm.nodes.process.workflow.workchain.WorkChainNode: [REPORT] [1514|WorkGraphEngine|continue_workgraph]: tasks ready to run: \n",
      "08/13/2025 10:20:06 AM <85934> aiida.orm.nodes.process.workflow.workchain.WorkChainNode: [REPORT] [1514|WorkGraphEngine|on_wait]: Process status: Waiting for child processes: 1528, 1530, 1532, 1534, 1536\n",
      "/home/mtr46585/aiida-mlip/.venv/lib/python3.12/site-packages/aiida/transports/plugins/ssh.py:674: AiidaDeprecationWarning: `chdir()` is deprecated and will be removed in the next major version. Use absolute paths instead. (this will be removed in v3)\n",
      "  warn_deprecation(\n",
      "/home/mtr46585/aiida-mlip/.venv/lib/python3.12/site-packages/aiida/transports/plugins/ssh.py:674: AiidaDeprecationWarning: `chdir()` is deprecated and will be removed in the next major version. Use absolute paths instead. (this will be removed in v3)\n",
      "  warn_deprecation(\n",
      "08/13/2025 10:20:40 AM <85934> aiida.orm.nodes.process.workflow.workchain.WorkChainNode: [REPORT] [1514|WorkGraphEngine|continue_workgraph]: tasks ready to run: \n",
      "08/13/2025 10:20:41 AM <85934> aiida.orm.nodes.process.workflow.workchain.WorkChainNode: [REPORT] [1514|WorkGraphEngine|on_wait]: Process status: Waiting for child processes: 1530, 1532, 1534\n",
      "/home/mtr46585/aiida-mlip/.venv/lib/python3.12/site-packages/aiida/transports/plugins/ssh.py:674: AiidaDeprecationWarning: `chdir()` is deprecated and will be removed in the next major version. Use absolute paths instead. (this will be removed in v3)\n",
      "  warn_deprecation(\n",
      "/home/mtr46585/aiida-mlip/.venv/lib/python3.12/site-packages/aiida/transports/plugins/ssh.py:674: AiidaDeprecationWarning: `chdir()` is deprecated and will be removed in the next major version. Use absolute paths instead. (this will be removed in v3)\n",
      "  warn_deprecation(\n",
      "08/13/2025 10:21:13 AM <85934> aiida.orm.nodes.process.workflow.workchain.WorkChainNode: [REPORT] [1514|WorkGraphEngine|continue_workgraph]: tasks ready to run: \n",
      "08/13/2025 10:21:14 AM <85934> aiida.orm.nodes.process.workflow.workchain.WorkChainNode: [REPORT] [1514|WorkGraphEngine|on_wait]: Process status: Waiting for child processes: 1534\n",
      "/home/mtr46585/aiida-mlip/.venv/lib/python3.12/site-packages/aiida/transports/plugins/ssh.py:674: AiidaDeprecationWarning: `chdir()` is deprecated and will be removed in the next major version. Use absolute paths instead. (this will be removed in v3)\n",
      "  warn_deprecation(\n",
      "08/13/2025 10:21:44 AM <85934> aiida.orm.nodes.process.workflow.workchain.WorkChainNode: [REPORT] [1514|WorkGraphEngine|continue_workgraph]: tasks ready to run: \n",
      "08/13/2025 10:21:45 AM <85934> aiida.orm.nodes.process.workflow.workchain.WorkChainNode: [REPORT] [1514|WorkGraphEngine|finalize]: Finalize workgraph.\n"
     ]
    }
   ],
   "source": [
    "wg.run()"
   ]
  },
  {
   "cell_type": "code",
   "execution_count": null,
   "id": "243f8155",
   "metadata": {},
   "outputs": [
    {
     "name": "stdout",
     "output_type": "stream",
     "text": [
      "dict_items([('struct0', <TrajectoryData: uuid: 6f125cde-d06d-443c-be00-bc692d157498 (pk: 1555)>), ('struct1', <TrajectoryData: uuid: 3509cf5d-505f-4b77-a4da-872bed59ad47 (pk: 1558)>)])\n",
      "Manager for outgoing RETURN links for node pk=1514\n"
     ]
    }
   ],
   "source": [
    "from aiida.orm import load_node\n",
    "qe_output = load_node(1514).outputs\n",
    "qe_test_output = load_node(1514).outputs.test_file\n",
    "qe_train_output = load_node(1514).outputs.train_file\n",
    "qe_valid_output = load_node(1514).outputs.valid_file\n",
    "\n",
    "print(qe_test_output.items())\n",
    "print(qe_output)\n",
    "# print(qe_output.get_step_structure(0).get_ase())"
   ]
  },
  {
   "cell_type": "code",
   "execution_count": 68,
   "id": "f49b20e3",
   "metadata": {},
   "outputs": [],
   "source": [
    "TrainCalculation = CalculationFactory(\"mlip.train\")"
   ]
  }
 ],
 "metadata": {
  "kernelspec": {
   "display_name": "aiida-mlip (3.12.3)",
   "language": "python",
   "name": "python3"
  },
  "language_info": {
   "codemirror_mode": {
    "name": "ipython",
    "version": 3
   },
   "file_extension": ".py",
   "mimetype": "text/x-python",
   "name": "python",
   "nbconvert_exporter": "python",
   "pygments_lexer": "ipython3",
   "version": "3.12.3"
  }
 },
 "nbformat": 4,
 "nbformat_minor": 5
}
