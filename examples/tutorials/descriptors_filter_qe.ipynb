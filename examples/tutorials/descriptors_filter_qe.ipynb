{
 "cells": [
  {
   "cell_type": "markdown",
   "id": "c13c1dd7",
   "metadata": {},
   "source": [
    "# Running multiple calculations on a given model\n"
   ]
  },
  {
   "cell_type": "markdown",
   "id": "ca81fa1b",
   "metadata": {},
   "source": [
    "## Aim"
   ]
  },
  {
   "cell_type": "markdown",
   "id": "35ecbb39",
   "metadata": {},
   "source": [
    "This notebook shows how we can run multiple calculations of a given structure"
   ]
  },
  {
   "cell_type": "markdown",
   "id": "5acf0b46",
   "metadata": {},
   "source": [
    "### Setup\n",
    "\n",
    "The initial setup is very similar to the other tutorials, such as `singlepoint.ipynb`, which goes into more detail about what each step is doing"
   ]
  },
  {
   "cell_type": "markdown",
   "id": "73bfb65e",
   "metadata": {},
   "source": [
    "Load the aiida profile and code:"
   ]
  },
  {
   "cell_type": "code",
   "execution_count": 1,
   "id": "79098139",
   "metadata": {},
   "outputs": [
    {
     "data": {
      "text/plain": [
       "Profile<uuid='09087c8053df4044bae150654e0e6e9e' name='presto'>"
      ]
     },
     "execution_count": 1,
     "metadata": {},
     "output_type": "execute_result"
    }
   ],
   "source": [
    "from aiida import load_profile\n",
    "load_profile()"
   ]
  },
  {
   "cell_type": "code",
   "execution_count": 2,
   "id": "3bc2cf3b",
   "metadata": {},
   "outputs": [],
   "source": [
    "from aiida_mlip.data.model import ModelData\n",
    "uri = \"https://github.com/stfc/janus-core/raw/main/tests/models/mace_mp_small.model\"\n",
    "model = ModelData.from_uri(uri, architecture=\"mace_mp\", cache_dir=\"mlips\")"
   ]
  },
  {
   "cell_type": "code",
   "execution_count": 3,
   "id": "ae62816f",
   "metadata": {},
   "outputs": [],
   "source": [
    "from aiida.orm import load_code, load_computer\n",
    "\n",
    "janus_code = load_code(\"janus@localhost\")\n",
    "\n",
    "computer_label = 'scarf'\n",
    "scarf = load_computer(computer_label)\n",
    "scarf.set_workdir('/work4/scd/scarf1480/aiida') "
   ]
  },
  {
   "cell_type": "markdown",
   "id": "65fbe939",
   "metadata": {},
   "source": [
    "Inputs should include the model, code, metadata, and any other keyword arguments expected by the calculation we are running:"
   ]
  },
  {
   "cell_type": "code",
   "execution_count": 4,
   "id": "1795dd41",
   "metadata": {},
   "outputs": [],
   "source": [
    "from aiida.orm import Str, Float, Bool, Int\n",
    "\n",
    "inputs = {\n",
    "    \"code\": janus_code,\n",
    "    \"model\": model,\n",
    "    \"arch\": Str(model.architecture),\n",
    "    \"precision\": Str(\"float64\"),\n",
    "    \"device\": Str(\"cpu\"),\n",
    "    \"fmax\": Float(0.1), \n",
    "    \"opt_cell_lengths\": Bool(False), \n",
    "    \"opt_cell_fully\": Bool(True), \n",
    "    \"metadata\": {\"options\": {\"resources\": {\"num_machines\": 1}}},\n",
    "    }"
   ]
  },
  {
   "cell_type": "markdown",
   "id": "1d661593",
   "metadata": {},
   "source": [
    "We must now choose the calculations to perform:"
   ]
  },
  {
   "cell_type": "code",
   "execution_count": 5,
   "id": "0e4c78c9",
   "metadata": {},
   "outputs": [],
   "source": [
    "from aiida.plugins import CalculationFactory\n",
    "geomoptCalc = CalculationFactory(\"mlip.opt\")\n",
    "descriptorsCalc = CalculationFactory(\"mlip.descriptors\")\n"
   ]
  },
  {
   "cell_type": "markdown",
   "id": "37df1f81",
   "metadata": {},
   "source": [
    "Setup graph task, which sets up QE params and created a PwCalc for each structure in file. Returns test_file, train_file and valid_file"
   ]
  },
  {
   "cell_type": "code",
   "execution_count": 6,
   "id": "1aff44c4",
   "metadata": {},
   "outputs": [],
   "source": [
    "from aiida_workgraph import task, WorkGraph\n",
    "from aiida_workgraph.manager import get_current_graph\n",
    "from aiida.orm import StructureData, load_group, KpointsData, Dict\n",
    "from ase.io import read\n",
    "from collections import defaultdict\n",
    "from aiida_workgraph import WorkGraph\n",
    "from aiida_quantumespresso.calculations.pw import PwCalculation\n",
    "\n",
    "\n",
    "@task.graph(outputs = [\"test_file\", \"train_file\", \"valid_file\"])\n",
    "def qe(**inputs):\n",
    "\n",
    "    qe_code = load_code(\"qe@scarf\")\n",
    "    filepaths = inputs['filepath_dict']\n",
    "\n",
    "    wg = get_current_graph()\n",
    "\n",
    "    kpoints = KpointsData()\n",
    "    kpoints.set_kpoints_mesh([1, 1, 1])\n",
    "\n",
    "    metadata =  {\n",
    "        \"options\": {\n",
    "            \"resources\": {\n",
    "                \"num_machines\": 1,\n",
    "                'num_mpiprocs_per_machine': 32,\n",
    "            },\n",
    "            'max_wallclock_seconds': 3600,         # Set maximum wallclock time\n",
    "            #'account': 'elph',                     # Set account name\n",
    "            'queue_name': 'scarf',                  # Set queue name\n",
    "            'qos': 'scarf',\n",
    "            'environment_variables': {},\n",
    "            'withmpi': True,                       # Use MPI\n",
    "            'prepend_text': '''\n",
    "            module purge\n",
    "            module use /work4/scd/scarf562/eb-common/modules/all\n",
    "            module load amd-modules\n",
    "            module load QuantumESPRESSO/7.2-foss-2023a\n",
    "            ''',\n",
    "            'append_text': ''  \n",
    "        }\n",
    "    }\n",
    "\n",
    "    pseudo_family = load_group('SSSP/1.3/PBE/efficiency')\n",
    "\n",
    "    for _, data in filepaths.items():\n",
    "            for i in range(len(read(data, index=':'))):\n",
    "\n",
    "                structure = StructureData(ase=read(data, index=i))\n",
    "                pseudos = pseudo_family.get_pseudos(structure=structure)\n",
    "\n",
    "                ecutwfc, ecutrho = pseudo_family.get_recommended_cutoffs(\n",
    "                    structure=structure,\n",
    "                    unit='Ry',\n",
    "                )\n",
    "\n",
    "                pw_paras = {\n",
    "                    \"CONTROL\": {\n",
    "                        \"calculation\": \"scf\",\n",
    "                    },\n",
    "                    \"SYSTEM\": {\n",
    "                        \"ecutwfc\": ecutwfc,\n",
    "                        \"ecutrho\": ecutrho,\n",
    "                    },\n",
    "                }\n",
    "\n",
    "                qe_task = wg.add_task(\n",
    "                    PwCalculation,\n",
    "                    code = qe_code,\n",
    "                    parameters= pw_paras,\n",
    "                    kpoints= kpoints,\n",
    "                    pseudos= pseudos,\n",
    "                    metadata= metadata,\n",
    "                    structure= structure,\n",
    "                )\n",
    "\n",
    "                structfile = f\"{_}.struct{i}\"\n",
    "                wg.update_ctx({structfile: qe_task.outputs.output_trajectory})\n",
    "                \n",
    "    print(wg.tasks)\n",
    "\n",
    "    wg.outputs.test_file = wg.ctx.test_file\n",
    "    wg.outputs.train_file = wg.ctx.train_file\n",
    "    wg.outputs.valid_file = wg.ctx.valid_file"
   ]
  },
  {
   "cell_type": "code",
   "execution_count": 7,
   "id": "0299e3be",
   "metadata": {},
   "outputs": [
    {
     "name": "stdout",
     "output_type": "stream",
     "text": [
      "defining outputnode\n",
      "defining outputnode\n"
     ]
    }
   ],
   "source": [
    "from aiida_workgraph import WorkGraph, Zone\n",
    "from aiida.orm import StructureData\n",
    "from ase.io import read\n",
    "from sample_split import process_and_split_data\n",
    "from aiida_quantumespresso.calculations.pw import PwCalculation\n",
    "\n",
    "initial_structure = \"../../examples/tutorials/structures/lj-traj.xyz\"\n",
    "\n",
    "num_structs = len(read(initial_structure, index=\":\"))\n",
    "\n",
    "with WorkGraph(\"QE Calculation Workgraph\") as wg:\n",
    "\n",
    "    wg.inputs = inputs\n",
    "    final_structures = {}\n",
    "\n",
    "    for i in range(num_structs):\n",
    "        structure = StructureData(ase=read(initial_structure, index=i))\n",
    "\n",
    "        geomopt_calc = wg.add_task(\n",
    "            geomoptCalc,\n",
    "            code=wg.inputs.code,\n",
    "            model=wg.inputs.model,\n",
    "            arch=wg.inputs.arch,\n",
    "            precision=wg.inputs.precision,\n",
    "            device=wg.inputs.device,\n",
    "            metadata=wg.inputs.metadata,\n",
    "            fmax=wg.inputs.fmax,\n",
    "            opt_cell_lengths=wg.inputs.opt_cell_lengths,\n",
    "            opt_cell_fully=wg.inputs.opt_cell_fully,\n",
    "            struct=structure,\n",
    "        )\n",
    "\n",
    "        descriptors_calc = wg.add_task(\n",
    "            descriptorsCalc,\n",
    "            code=wg.inputs.code,\n",
    "            model=wg.inputs.model,\n",
    "            arch=wg.inputs.arch,\n",
    "            precision=wg.inputs.precision,\n",
    "            device=wg.inputs.device,\n",
    "            metadata=wg.inputs.metadata,\n",
    "            struct=geomopt_calc.outputs.final_structure,\n",
    "            calc_per_element=True,\n",
    "        )\n",
    "\n",
    "        final_structures[f\"structs{i}\"] = descriptors_calc.outputs.xyz_output\n",
    "\n",
    "    split_task_inputs = {\n",
    "        \"trajectory_data\": final_structures,\n",
    "        \"config_types\": Str(\"\"),\n",
    "        \"n_samples\": Int(num_structs),\n",
    "        \"prefix\": Str(\"\"),\n",
    "        \"scale\": Float(1.0e5),\n",
    "        \"append_mode\": Bool(False),\n",
    "    }\n",
    "\n",
    "    split_task = wg.add_task(process_and_split_data, inputs=split_task_inputs)\n",
    "\n",
    "    qe_task = wg.add_task(qe, name=\"QE_workflow\", filepath_dict=split_task.outputs.result)\n"
   ]
  },
  {
   "cell_type": "code",
   "execution_count": 8,
   "id": "0d119cad",
   "metadata": {},
   "outputs": [
    {
     "data": {
      "application/vnd.jupyter.widget-view+json": {
       "model_id": "f18849be05324eb39b2a30f84f1fe7a7",
       "version_major": 2,
       "version_minor": 1
      },
      "text/plain": [
       "NodeGraphWidget(settings={'minimap': True}, style={'width': '90%', 'height': '600px'}, value={'name': 'QE Calc…"
      ]
     },
     "execution_count": 8,
     "metadata": {},
     "output_type": "execute_result"
    }
   ],
   "source": [
    "wg\n"
   ]
  },
  {
   "cell_type": "code",
   "execution_count": 9,
   "id": "5c5fd6df",
   "metadata": {},
   "outputs": [
    {
     "name": "stderr",
     "output_type": "stream",
     "text": [
      "09/04/2025 11:38:02 AM <86378> aiida.broker.rabbitmq: [WARNING] RabbitMQ v3.12.1 is not supported and will cause unexpected problems!\n",
      "09/04/2025 11:38:02 AM <86378> aiida.broker.rabbitmq: [WARNING] It can cause long-running workflows to crash and jobs to be submitted multiple times.\n",
      "09/04/2025 11:38:02 AM <86378> aiida.broker.rabbitmq: [WARNING] See https://github.com/aiidateam/aiida-core/wiki/RabbitMQ-version-to-use for details.\n",
      "09/04/2025 11:38:21 AM <86378> aiida.orm.nodes.process.workflow.workchain.WorkChainNode: [REPORT] [18270|WorkGraphEngine|continue_workgraph]: tasks ready to run: GeomOpt,GeomOpt1,GeomOpt2,GeomOpt3,GeomOpt4,GeomOpt5,GeomOpt6,GeomOpt7,GeomOpt8,GeomOpt9,GeomOpt10\n",
      "09/04/2025 11:38:44 AM <86378> aiida.orm.nodes.process.workflow.workchain.WorkChainNode: [REPORT] [18270|WorkGraphEngine|on_wait]: Process status: Waiting for child processes: 18274, 18278, 18282, 18286, 18290, 18294, 18298, 18302, 18306, 18310, 18314\n",
      "09/04/2025 11:40:06 AM <86378> aiida.orm.nodes.process.workflow.workchain.WorkChainNode: [REPORT] [18270|WorkGraphEngine|update_task_state]: Task: GeomOpt, type: CALCJOB, finished.\n",
      "09/04/2025 11:40:07 AM <86378> aiida.orm.nodes.process.workflow.workchain.WorkChainNode: [REPORT] [18270|WorkGraphEngine|update_task_state]: Task: GeomOpt1, type: CALCJOB, finished.\n",
      "09/04/2025 11:40:08 AM <86378> aiida.orm.nodes.process.workflow.workchain.WorkChainNode: [REPORT] [18270|WorkGraphEngine|update_task_state]: Task: GeomOpt2, type: CALCJOB, finished.\n",
      "09/04/2025 11:40:09 AM <86378> aiida.orm.nodes.process.workflow.workchain.WorkChainNode: [REPORT] [18270|WorkGraphEngine|update_task_state]: Task: GeomOpt4, type: CALCJOB, finished.\n",
      "09/04/2025 11:40:10 AM <86378> aiida.orm.nodes.process.workflow.workchain.WorkChainNode: [REPORT] [18270|WorkGraphEngine|update_task_state]: Task: GeomOpt5, type: CALCJOB, finished.\n",
      "09/04/2025 11:40:18 AM <86378> aiida.orm.nodes.process.workflow.workchain.WorkChainNode: [REPORT] [18270|WorkGraphEngine|continue_workgraph]: tasks ready to run: Descriptors,Descriptors1,Descriptors2,Descriptors4,Descriptors5\n",
      "09/04/2025 11:40:32 AM <86378> aiida.orm.nodes.process.workflow.workchain.WorkChainNode: [REPORT] [18270|WorkGraphEngine|on_wait]: Process status: Waiting for child processes: 18286, 18298, 18302, 18306, 18310, 18314, 18369, 18373, 18377, 18381, 18385\n",
      "09/04/2025 11:40:44 AM <86378> aiida.orm.nodes.process.workflow.workchain.WorkChainNode: [REPORT] [18270|WorkGraphEngine|update_task_state]: Task: GeomOpt3, type: CALCJOB, finished.\n",
      "09/04/2025 11:40:45 AM <86378> aiida.orm.nodes.process.workflow.workchain.WorkChainNode: [REPORT] [18270|WorkGraphEngine|update_task_state]: Task: GeomOpt6, type: CALCJOB, finished.\n",
      "09/04/2025 11:40:46 AM <86378> aiida.orm.nodes.process.workflow.workchain.WorkChainNode: [REPORT] [18270|WorkGraphEngine|update_task_state]: Task: GeomOpt7, type: CALCJOB, finished.\n",
      "09/04/2025 11:40:47 AM <86378> aiida.orm.nodes.process.workflow.workchain.WorkChainNode: [REPORT] [18270|WorkGraphEngine|update_task_state]: Task: GeomOpt8, type: CALCJOB, finished.\n",
      "09/04/2025 11:40:49 AM <86378> aiida.orm.nodes.process.workflow.workchain.WorkChainNode: [REPORT] [18270|WorkGraphEngine|update_task_state]: Task: GeomOpt9, type: CALCJOB, finished.\n",
      "09/04/2025 11:40:50 AM <86378> aiida.orm.nodes.process.workflow.workchain.WorkChainNode: [REPORT] [18270|WorkGraphEngine|update_task_state]: Task: GeomOpt10, type: CALCJOB, finished.\n",
      "09/04/2025 11:40:58 AM <86378> aiida.orm.nodes.process.workflow.workchain.WorkChainNode: [REPORT] [18270|WorkGraphEngine|continue_workgraph]: tasks ready to run: Descriptors3,Descriptors6,Descriptors7,Descriptors8,Descriptors9,Descriptors10\n",
      "09/04/2025 11:41:13 AM <86378> aiida.orm.nodes.process.workflow.workchain.WorkChainNode: [REPORT] [18270|WorkGraphEngine|on_wait]: Process status: Waiting for child processes: 18369, 18373, 18377, 18381, 18385, 18437, 18441, 18445, 18449, 18453, 18457\n",
      "09/04/2025 11:42:23 AM <86378> aiida.orm.nodes.process.workflow.workchain.WorkChainNode: [REPORT] [18270|WorkGraphEngine|update_task_state]: Task: Descriptors, type: CALCJOB, finished.\n",
      "09/04/2025 11:42:24 AM <86378> aiida.orm.nodes.process.workflow.workchain.WorkChainNode: [REPORT] [18270|WorkGraphEngine|update_task_state]: Task: Descriptors2, type: CALCJOB, finished.\n",
      "09/04/2025 11:42:25 AM <86378> aiida.orm.nodes.process.workflow.workchain.WorkChainNode: [REPORT] [18270|WorkGraphEngine|update_task_state]: Task: Descriptors5, type: CALCJOB, finished.\n",
      "09/04/2025 11:42:33 AM <86378> aiida.orm.nodes.process.workflow.workchain.WorkChainNode: [REPORT] [18270|WorkGraphEngine|continue_workgraph]: tasks ready to run: \n",
      "09/04/2025 11:42:36 AM <86378> aiida.orm.nodes.process.workflow.workchain.WorkChainNode: [REPORT] [18270|WorkGraphEngine|on_wait]: Process status: Waiting for child processes: 18373, 18381, 18437, 18441, 18445, 18449, 18453, 18457\n",
      "09/04/2025 11:42:45 AM <86378> aiida.orm.nodes.process.workflow.workchain.WorkChainNode: [REPORT] [18270|WorkGraphEngine|update_task_state]: Task: Descriptors1, type: CALCJOB, finished.\n",
      "09/04/2025 11:42:46 AM <86378> aiida.orm.nodes.process.workflow.workchain.WorkChainNode: [REPORT] [18270|WorkGraphEngine|update_task_state]: Task: Descriptors4, type: CALCJOB, finished.\n",
      "09/04/2025 11:42:53 AM <86378> aiida.orm.nodes.process.workflow.workchain.WorkChainNode: [REPORT] [18270|WorkGraphEngine|continue_workgraph]: tasks ready to run: \n",
      "09/04/2025 11:42:57 AM <86378> aiida.orm.nodes.process.workflow.workchain.WorkChainNode: [REPORT] [18270|WorkGraphEngine|on_wait]: Process status: Waiting for child processes: 18437, 18441, 18445, 18449, 18453, 18457\n",
      "09/04/2025 11:43:07 AM <86378> aiida.orm.nodes.process.workflow.workchain.WorkChainNode: [REPORT] [18270|WorkGraphEngine|update_task_state]: Task: Descriptors3, type: CALCJOB, finished.\n",
      "09/04/2025 11:43:08 AM <86378> aiida.orm.nodes.process.workflow.workchain.WorkChainNode: [REPORT] [18270|WorkGraphEngine|update_task_state]: Task: Descriptors6, type: CALCJOB, finished.\n",
      "09/04/2025 11:43:09 AM <86378> aiida.orm.nodes.process.workflow.workchain.WorkChainNode: [REPORT] [18270|WorkGraphEngine|update_task_state]: Task: Descriptors7, type: CALCJOB, finished.\n",
      "09/04/2025 11:43:10 AM <86378> aiida.orm.nodes.process.workflow.workchain.WorkChainNode: [REPORT] [18270|WorkGraphEngine|update_task_state]: Task: Descriptors8, type: CALCJOB, finished.\n",
      "09/04/2025 11:43:11 AM <86378> aiida.orm.nodes.process.workflow.workchain.WorkChainNode: [REPORT] [18270|WorkGraphEngine|update_task_state]: Task: Descriptors9, type: CALCJOB, finished.\n",
      "09/04/2025 11:43:12 AM <86378> aiida.orm.nodes.process.workflow.workchain.WorkChainNode: [REPORT] [18270|WorkGraphEngine|update_task_state]: Task: Descriptors10, type: CALCJOB, finished.\n",
      "09/04/2025 11:43:19 AM <86378> aiida.orm.nodes.process.workflow.workchain.WorkChainNode: [REPORT] [18270|WorkGraphEngine|continue_workgraph]: tasks ready to run: process_and_split_data\n"
     ]
    },
    {
     "name": "stdout",
     "output_type": "stream",
     "text": [
      "create files: train_file=PosixPath('train.xyz'), valid_file=PosixPath('valid.xyz') and test_file=PosixPath('test.xyz')\n",
      "Processing: ('all', 'aiida'), 11 frames\n",
      "  ('all', 'aiida'): total=11, train_target=8,                     vt_target=3\n"
     ]
    },
    {
     "name": "stderr",
     "output_type": "stream",
     "text": [
      "/home/mtr46585/aiida-mlip/.venv/lib/python3.12/site-packages/fpsample/wrapper.py:98: UserWarning: k is too large, set to 11\n",
      "  warnings.warn(f\"k is too large, set to {n_pts}\")\n",
      "/home/mtr46585/aiida-mlip/.venv/lib/python3.12/site-packages/fpsample/wrapper.py:98: UserWarning: k is too large, set to 3\n",
      "  warnings.warn(f\"k is too large, set to {n_pts}\")\n",
      "09/04/2025 11:43:21 AM <86378> aiida.orm.nodes.process.workflow.workchain.WorkChainNode: [REPORT] [18270|WorkGraphEngine|update_task_state]: Task: process_and_split_data, type: CALCFUNCTION, finished.\n",
      "09/04/2025 11:43:23 AM <86378> aiida.orm.nodes.process.workflow.workchain.WorkChainNode: [REPORT] [18270|WorkGraphEngine|continue_workgraph]: tasks ready to run: QE_workflow\n"
     ]
    },
    {
     "name": "stdout",
     "output_type": "stream",
     "text": [
      "NodeCollection(parent = \"qe\", nodes = [\"PwCalculation\", \"graph_ctx\", \"PwCalculation1\", \"PwCalculation2\", \"PwCalculation3\", \"PwCalculation4\", \"PwCalculation5\", \"PwCalculation6\", \"PwCalculation7\", \"PwCalculation8\", \"PwCalculation9\", \"PwCalculation10\"])\n"
     ]
    },
    {
     "name": "stderr",
     "output_type": "stream",
     "text": [
      "09/04/2025 11:43:33 AM <86378> aiida.orm.nodes.process.workflow.workchain.WorkChainNode: [REPORT] [18270|WorkGraphEngine|on_wait]: Process status: Waiting for child processes: 18538\n",
      "09/04/2025 11:43:43 AM <86378> aiida.orm.nodes.process.workflow.workchain.WorkChainNode: [REPORT] [18538|WorkGraphEngine|continue_workgraph]: tasks ready to run: PwCalculation,PwCalculation1,PwCalculation2,PwCalculation3,PwCalculation4,PwCalculation5,PwCalculation6,PwCalculation7,PwCalculation8,PwCalculation9,PwCalculation10\n",
      "09/04/2025 11:43:56 AM <86378> aiida.orm.nodes.process.workflow.workchain.WorkChainNode: [REPORT] [18538|WorkGraphEngine|on_wait]: Process status: Waiting for child processes: 18540, 18542, 18544, 18546, 18548, 18550, 18552, 18554, 18556, 18558, 18560\n",
      "/home/mtr46585/aiida-mlip/.venv/lib/python3.12/site-packages/aiida/transports/plugins/ssh.py:674: AiidaDeprecationWarning: `chdir()` is deprecated and will be removed in the next major version. Use absolute paths instead. (this will be removed in v3)\n",
      "  warn_deprecation(\n",
      "/home/mtr46585/aiida-mlip/.venv/lib/python3.12/site-packages/aiida/transports/plugins/ssh.py:674: AiidaDeprecationWarning: `chdir()` is deprecated and will be removed in the next major version. Use absolute paths instead. (this will be removed in v3)\n",
      "  warn_deprecation(\n",
      "/home/mtr46585/aiida-mlip/.venv/lib/python3.12/site-packages/aiida/transports/plugins/ssh.py:674: AiidaDeprecationWarning: `chdir()` is deprecated and will be removed in the next major version. Use absolute paths instead. (this will be removed in v3)\n",
      "  warn_deprecation(\n",
      "/home/mtr46585/aiida-mlip/.venv/lib/python3.12/site-packages/aiida/transports/plugins/ssh.py:674: AiidaDeprecationWarning: `chdir()` is deprecated and will be removed in the next major version. Use absolute paths instead. (this will be removed in v3)\n",
      "  warn_deprecation(\n",
      "/home/mtr46585/aiida-mlip/.venv/lib/python3.12/site-packages/aiida/transports/plugins/ssh.py:674: AiidaDeprecationWarning: `chdir()` is deprecated and will be removed in the next major version. Use absolute paths instead. (this will be removed in v3)\n",
      "  warn_deprecation(\n",
      "/home/mtr46585/aiida-mlip/.venv/lib/python3.12/site-packages/aiida/transports/plugins/ssh.py:674: AiidaDeprecationWarning: `chdir()` is deprecated and will be removed in the next major version. Use absolute paths instead. (this will be removed in v3)\n",
      "  warn_deprecation(\n",
      "/home/mtr46585/aiida-mlip/.venv/lib/python3.12/site-packages/aiida/transports/plugins/ssh.py:674: AiidaDeprecationWarning: `chdir()` is deprecated and will be removed in the next major version. Use absolute paths instead. (this will be removed in v3)\n",
      "  warn_deprecation(\n",
      "/home/mtr46585/aiida-mlip/.venv/lib/python3.12/site-packages/aiida/transports/plugins/ssh.py:674: AiidaDeprecationWarning: `chdir()` is deprecated and will be removed in the next major version. Use absolute paths instead. (this will be removed in v3)\n",
      "  warn_deprecation(\n",
      "/home/mtr46585/aiida-mlip/.venv/lib/python3.12/site-packages/aiida/transports/plugins/ssh.py:674: AiidaDeprecationWarning: `chdir()` is deprecated and will be removed in the next major version. Use absolute paths instead. (this will be removed in v3)\n",
      "  warn_deprecation(\n",
      "/home/mtr46585/aiida-mlip/.venv/lib/python3.12/site-packages/aiida/transports/plugins/ssh.py:674: AiidaDeprecationWarning: `chdir()` is deprecated and will be removed in the next major version. Use absolute paths instead. (this will be removed in v3)\n",
      "  warn_deprecation(\n",
      "/home/mtr46585/aiida-mlip/.venv/lib/python3.12/site-packages/aiida/transports/plugins/ssh.py:674: AiidaDeprecationWarning: `chdir()` is deprecated and will be removed in the next major version. Use absolute paths instead. (this will be removed in v3)\n",
      "  warn_deprecation(\n",
      "/home/mtr46585/aiida-mlip/.venv/lib/python3.12/site-packages/aiida/transports/plugins/ssh.py:674: AiidaDeprecationWarning: `chdir()` is deprecated and will be removed in the next major version. Use absolute paths instead. (this will be removed in v3)\n",
      "  warn_deprecation(\n",
      "/home/mtr46585/aiida-mlip/.venv/lib/python3.12/site-packages/aiida/transports/plugins/ssh.py:674: AiidaDeprecationWarning: `chdir()` is deprecated and will be removed in the next major version. Use absolute paths instead. (this will be removed in v3)\n",
      "  warn_deprecation(\n",
      "/home/mtr46585/aiida-mlip/.venv/lib/python3.12/site-packages/aiida/transports/plugins/ssh.py:674: AiidaDeprecationWarning: `chdir()` is deprecated and will be removed in the next major version. Use absolute paths instead. (this will be removed in v3)\n",
      "  warn_deprecation(\n",
      "/home/mtr46585/aiida-mlip/.venv/lib/python3.12/site-packages/aiida/transports/plugins/ssh.py:674: AiidaDeprecationWarning: `chdir()` is deprecated and will be removed in the next major version. Use absolute paths instead. (this will be removed in v3)\n",
      "  warn_deprecation(\n",
      "/home/mtr46585/aiida-mlip/.venv/lib/python3.12/site-packages/aiida/transports/plugins/ssh.py:674: AiidaDeprecationWarning: `chdir()` is deprecated and will be removed in the next major version. Use absolute paths instead. (this will be removed in v3)\n",
      "  warn_deprecation(\n",
      "/home/mtr46585/aiida-mlip/.venv/lib/python3.12/site-packages/aiida/transports/plugins/ssh.py:674: AiidaDeprecationWarning: `chdir()` is deprecated and will be removed in the next major version. Use absolute paths instead. (this will be removed in v3)\n",
      "  warn_deprecation(\n",
      "/home/mtr46585/aiida-mlip/.venv/lib/python3.12/site-packages/aiida/transports/plugins/ssh.py:674: AiidaDeprecationWarning: `chdir()` is deprecated and will be removed in the next major version. Use absolute paths instead. (this will be removed in v3)\n",
      "  warn_deprecation(\n",
      "/home/mtr46585/aiida-mlip/.venv/lib/python3.12/site-packages/aiida/transports/plugins/ssh.py:674: AiidaDeprecationWarning: `chdir()` is deprecated and will be removed in the next major version. Use absolute paths instead. (this will be removed in v3)\n",
      "  warn_deprecation(\n",
      "/home/mtr46585/aiida-mlip/.venv/lib/python3.12/site-packages/aiida/transports/plugins/ssh.py:674: AiidaDeprecationWarning: `chdir()` is deprecated and will be removed in the next major version. Use absolute paths instead. (this will be removed in v3)\n",
      "  warn_deprecation(\n",
      "/home/mtr46585/aiida-mlip/.venv/lib/python3.12/site-packages/aiida/transports/plugins/ssh.py:674: AiidaDeprecationWarning: `chdir()` is deprecated and will be removed in the next major version. Use absolute paths instead. (this will be removed in v3)\n",
      "  warn_deprecation(\n",
      "/home/mtr46585/aiida-mlip/.venv/lib/python3.12/site-packages/aiida/transports/plugins/ssh.py:674: AiidaDeprecationWarning: `chdir()` is deprecated and will be removed in the next major version. Use absolute paths instead. (this will be removed in v3)\n",
      "  warn_deprecation(\n",
      "09/04/2025 11:52:19 AM <86378> aiida.orm.nodes.process.workflow.workchain.WorkChainNode: [REPORT] [18538|WorkGraphEngine|update_task_state]: Task: PwCalculation2, type: CALCJOB, finished.\n",
      "09/04/2025 11:52:22 AM <86378> aiida.orm.nodes.process.workflow.workchain.WorkChainNode: [REPORT] [18538|WorkGraphEngine|continue_workgraph]: tasks ready to run: \n",
      "09/04/2025 11:52:23 AM <86378> aiida.orm.nodes.process.workflow.workchain.WorkChainNode: [REPORT] [18538|WorkGraphEngine|on_wait]: Process status: Waiting for child processes: 18540, 18542, 18546, 18548, 18550, 18552, 18554, 18556, 18558, 18560\n",
      "/home/mtr46585/aiida-mlip/.venv/lib/python3.12/site-packages/aiida/transports/plugins/ssh.py:674: AiidaDeprecationWarning: `chdir()` is deprecated and will be removed in the next major version. Use absolute paths instead. (this will be removed in v3)\n",
      "  warn_deprecation(\n",
      "/home/mtr46585/aiida-mlip/.venv/lib/python3.12/site-packages/aiida/transports/plugins/ssh.py:674: AiidaDeprecationWarning: `chdir()` is deprecated and will be removed in the next major version. Use absolute paths instead. (this will be removed in v3)\n",
      "  warn_deprecation(\n",
      "09/04/2025 11:53:30 AM <86378> aiida.orm.nodes.process.workflow.workchain.WorkChainNode: [REPORT] [18538|WorkGraphEngine|update_task_state]: Task: PwCalculation7, type: CALCJOB, finished.\n",
      "09/04/2025 11:53:33 AM <86378> aiida.orm.nodes.process.workflow.workchain.WorkChainNode: [REPORT] [18538|WorkGraphEngine|continue_workgraph]: tasks ready to run: \n",
      "09/04/2025 11:53:34 AM <86378> aiida.orm.nodes.process.workflow.workchain.WorkChainNode: [REPORT] [18538|WorkGraphEngine|on_wait]: Process status: Waiting for child processes: 18540, 18542, 18546, 18548, 18550, 18552, 18556, 18558, 18560\n",
      "/home/mtr46585/aiida-mlip/.venv/lib/python3.12/site-packages/aiida/transports/plugins/ssh.py:674: AiidaDeprecationWarning: `chdir()` is deprecated and will be removed in the next major version. Use absolute paths instead. (this will be removed in v3)\n",
      "  warn_deprecation(\n",
      "/home/mtr46585/aiida-mlip/.venv/lib/python3.12/site-packages/aiida/transports/plugins/ssh.py:674: AiidaDeprecationWarning: `chdir()` is deprecated and will be removed in the next major version. Use absolute paths instead. (this will be removed in v3)\n",
      "  warn_deprecation(\n",
      "/home/mtr46585/aiida-mlip/.venv/lib/python3.12/site-packages/aiida/transports/plugins/ssh.py:674: AiidaDeprecationWarning: `chdir()` is deprecated and will be removed in the next major version. Use absolute paths instead. (this will be removed in v3)\n",
      "  warn_deprecation(\n",
      "09/04/2025 11:54:05 AM <86378> aiida.orm.nodes.process.workflow.workchain.WorkChainNode: [REPORT] [18538|WorkGraphEngine|update_task_state]: Task: PwCalculation5, type: CALCJOB, finished.\n",
      "09/04/2025 11:54:06 AM <86378> aiida.orm.nodes.process.workflow.workchain.WorkChainNode: [REPORT] [18538|WorkGraphEngine|update_task_state]: Task: PwCalculation8, type: CALCJOB, finished.\n",
      "09/04/2025 11:54:06 AM <86378> aiida.orm.nodes.process.workflow.workchain.WorkChainNode: [REPORT] [18538|WorkGraphEngine|update_task_state]: Task: PwCalculation9, type: CALCJOB, finished.\n",
      "09/04/2025 11:54:09 AM <86378> aiida.orm.nodes.process.workflow.workchain.WorkChainNode: [REPORT] [18538|WorkGraphEngine|continue_workgraph]: tasks ready to run: \n",
      "09/04/2025 11:54:10 AM <86378> aiida.orm.nodes.process.workflow.workchain.WorkChainNode: [REPORT] [18538|WorkGraphEngine|on_wait]: Process status: Waiting for child processes: 18540, 18542, 18546, 18548, 18552, 18560\n",
      "/home/mtr46585/aiida-mlip/.venv/lib/python3.12/site-packages/aiida/transports/plugins/ssh.py:674: AiidaDeprecationWarning: `chdir()` is deprecated and will be removed in the next major version. Use absolute paths instead. (this will be removed in v3)\n",
      "  warn_deprecation(\n",
      "/home/mtr46585/aiida-mlip/.venv/lib/python3.12/site-packages/aiida/transports/plugins/ssh.py:674: AiidaDeprecationWarning: `chdir()` is deprecated and will be removed in the next major version. Use absolute paths instead. (this will be removed in v3)\n",
      "  warn_deprecation(\n",
      "/home/mtr46585/aiida-mlip/.venv/lib/python3.12/site-packages/aiida/transports/plugins/ssh.py:674: AiidaDeprecationWarning: `chdir()` is deprecated and will be removed in the next major version. Use absolute paths instead. (this will be removed in v3)\n",
      "  warn_deprecation(\n",
      "09/04/2025 11:54:40 AM <86378> aiida.orm.nodes.process.workflow.workchain.WorkChainNode: [REPORT] [18538|WorkGraphEngine|update_task_state]: Task: PwCalculation, type: CALCJOB, finished.\n",
      "09/04/2025 11:54:41 AM <86378> aiida.orm.nodes.process.workflow.workchain.WorkChainNode: [REPORT] [18538|WorkGraphEngine|update_task_state]: Task: PwCalculation3, type: CALCJOB, finished.\n",
      "09/04/2025 11:54:42 AM <86378> aiida.orm.nodes.process.workflow.workchain.WorkChainNode: [REPORT] [18538|WorkGraphEngine|update_task_state]: Task: PwCalculation10, type: CALCJOB, finished.\n",
      "09/04/2025 11:54:45 AM <86378> aiida.orm.nodes.process.workflow.workchain.WorkChainNode: [REPORT] [18538|WorkGraphEngine|continue_workgraph]: tasks ready to run: \n",
      "09/04/2025 11:54:46 AM <86378> aiida.orm.nodes.process.workflow.workchain.WorkChainNode: [REPORT] [18538|WorkGraphEngine|on_wait]: Process status: Waiting for child processes: 18542, 18548, 18552\n",
      "/home/mtr46585/aiida-mlip/.venv/lib/python3.12/site-packages/aiida/transports/plugins/ssh.py:674: AiidaDeprecationWarning: `chdir()` is deprecated and will be removed in the next major version. Use absolute paths instead. (this will be removed in v3)\n",
      "  warn_deprecation(\n",
      "/home/mtr46585/aiida-mlip/.venv/lib/python3.12/site-packages/aiida/transports/plugins/ssh.py:674: AiidaDeprecationWarning: `chdir()` is deprecated and will be removed in the next major version. Use absolute paths instead. (this will be removed in v3)\n",
      "  warn_deprecation(\n",
      "09/04/2025 11:55:14 AM <86378> aiida.orm.nodes.process.workflow.workchain.WorkChainNode: [REPORT] [18538|WorkGraphEngine|update_task_state]: Task: PwCalculation1, type: CALCJOB, finished.\n",
      "09/04/2025 11:55:15 AM <86378> aiida.orm.nodes.process.workflow.workchain.WorkChainNode: [REPORT] [18538|WorkGraphEngine|update_task_state]: Task: PwCalculation6, type: CALCJOB, finished.\n",
      "09/04/2025 11:55:18 AM <86378> aiida.orm.nodes.process.workflow.workchain.WorkChainNode: [REPORT] [18538|WorkGraphEngine|continue_workgraph]: tasks ready to run: \n",
      "09/04/2025 11:55:19 AM <86378> aiida.orm.nodes.process.workflow.workchain.WorkChainNode: [REPORT] [18538|WorkGraphEngine|on_wait]: Process status: Waiting for child processes: 18548\n",
      "/home/mtr46585/aiida-mlip/.venv/lib/python3.12/site-packages/aiida/transports/plugins/ssh.py:674: AiidaDeprecationWarning: `chdir()` is deprecated and will be removed in the next major version. Use absolute paths instead. (this will be removed in v3)\n",
      "  warn_deprecation(\n",
      "09/04/2025 11:55:46 AM <86378> aiida.orm.nodes.process.workflow.workchain.WorkChainNode: [REPORT] [18538|WorkGraphEngine|update_task_state]: Task: PwCalculation4, type: CALCJOB, finished.\n",
      "09/04/2025 11:55:50 AM <86378> aiida.orm.nodes.process.workflow.workchain.WorkChainNode: [REPORT] [18538|WorkGraphEngine|continue_workgraph]: tasks ready to run: \n",
      "09/04/2025 11:55:51 AM <86378> aiida.orm.nodes.process.workflow.workchain.WorkChainNode: [REPORT] [18538|WorkGraphEngine|finalize]: Finalize workgraph.\n",
      "09/04/2025 11:55:54 AM <86378> aiida.orm.nodes.process.workflow.workchain.WorkChainNode: [REPORT] [18270|WorkGraphEngine|update_task_state]: Task: QE_workflow, type: graph_task, finished.\n",
      "09/04/2025 11:56:01 AM <86378> aiida.orm.nodes.process.workflow.workchain.WorkChainNode: [REPORT] [18270|WorkGraphEngine|continue_workgraph]: tasks ready to run: \n",
      "09/04/2025 11:56:06 AM <86378> aiida.orm.nodes.process.workflow.workchain.WorkChainNode: [REPORT] [18270|WorkGraphEngine|finalize]: Finalize workgraph.\n"
     ]
    }
   ],
   "source": [
    "wg.run()"
   ]
  },
  {
   "cell_type": "code",
   "execution_count": 10,
   "id": "72955019",
   "metadata": {},
   "outputs": [
    {
     "data": {
      "text/plain": [
       "SocketAny(name='train_file', value=AttributeDict({'struct0': <TrajectoryData: uuid: 1f9c769b-c775-4770-959b-8f5500c8ed1c (pk: 18574)>, 'struct5': <TrajectoryData: uuid: 952bc775-0238-4c4f-b4d5-9210133ed50f (pk: 18578)>, 'struct3': <TrajectoryData: uuid: 803c3044-efb3-4fde-9e6e-dcf9e3dc20ad (pk: 18584)>, 'struct6': <TrajectoryData: uuid: 2a9ddaed-3e53-405f-acfe-9317103fb3dc (pk: 18587)>, 'struct7': <TrajectoryData: uuid: c10688cf-57e9-4f2a-9827-aa649b023b03 (pk: 18590)>, 'struct1': <TrajectoryData: uuid: bbd6359e-7a24-45d8-ae97-e9a1e4f7ece9 (pk: 18599)>, 'struct4': <TrajectoryData: uuid: 6c010237-fad4-42e9-ab81-211e67dd6a47 (pk: 18610)>, 'struct2': <TrajectoryData: uuid: e4a7ed22-c011-436f-8523-dba3a944cb3d (pk: 18614)>}))"
      ]
     },
     "execution_count": 10,
     "metadata": {},
     "output_type": "execute_result"
    }
   ],
   "source": [
    "wg.tasks.QE_workflow.outputs.train_file"
   ]
  }
 ],
 "metadata": {
  "kernelspec": {
   "display_name": "aiida-mlip (3.12.3)",
   "language": "python",
   "name": "python3"
  },
  "language_info": {
   "codemirror_mode": {
    "name": "ipython",
    "version": 3
   },
   "file_extension": ".py",
   "mimetype": "text/x-python",
   "name": "python",
   "nbconvert_exporter": "python",
   "pygments_lexer": "ipython3",
   "version": "3.12.3"
  }
 },
 "nbformat": 4,
 "nbformat_minor": 5
}
