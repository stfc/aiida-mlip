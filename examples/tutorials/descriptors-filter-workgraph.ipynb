{
 "cells": [
  {
   "cell_type": "markdown",
   "id": "e75fc8d4",
   "metadata": {},
   "source": [
    "# Descriptors Wrokgraph Calculation"
   ]
  },
  {
   "cell_type": "markdown",
   "id": "e947e0d9",
   "metadata": {},
   "source": [
    "To create a workgraph and run a calculation, you have to define some inputs as AiiDA data types and build a workgraph. "
   ]
  },
  {
   "cell_type": "markdown",
   "id": "cca5f570",
   "metadata": {},
   "source": [
    "First we can import the profile"
   ]
  },
  {
   "cell_type": "code",
   "execution_count": null,
   "id": "e3ed1502",
   "metadata": {},
   "outputs": [],
   "source": [
    "from aiida import load_profile\n",
    "load_profile()"
   ]
  },
  {
   "cell_type": "markdown",
   "id": "4cd248e4",
   "metadata": {},
   "source": [
    "First of all we need a structure on which to perform the calculations. It will be a NaCl structure that we define using ASE, or alternatively one can choose one of the structures in the folder `Structures`.\n",
    "\n",
    "The input structure in aiida-mlip needs to be saved as a StructureData type:"
   ]
  },
  {
   "cell_type": "code",
   "execution_count": null,
   "id": "83ba03e1",
   "metadata": {},
   "outputs": [],
   "source": [
    "from aiida.orm import StructureData\n",
    "from ase.build import bulk\n",
    "from ase.io import read\n",
    "\n",
    "structure = StructureData(ase=read(\"lj-traj.xyz\"))\n",
    "# structure = StructureData(ase=bulk(\"NaCl\", \"rocksalt\", 5.63))"
   ]
  },
  {
   "cell_type": "code",
   "execution_count": null,
   "id": "9a027599",
   "metadata": {},
   "outputs": [],
   "source": [
    "structure.get_ase()"
   ]
  },
  {
   "cell_type": "markdown",
   "id": "dbdd2dfa",
   "metadata": {},
   "source": [
    "Then we need to choose a model and architecture to be used for the calculation and save it as ModelData type, a specific data type of this plugin.\n",
    "In this example we use MACE with a model that we download from this URL: \"https://github.com/stfc/janus-core/raw/main/tests/models/mace_mp_small.model\", and we save the file in the cache folder (default=\"~/.cache/mlips/\"):\n"
   ]
  },
  {
   "cell_type": "code",
   "execution_count": null,
   "id": "9e8dfd11",
   "metadata": {},
   "outputs": [],
   "source": [
    "from aiida_mlip.data.model import ModelData\n",
    "\n",
    "uri = \"https://github.com/stfc/janus-core/raw/main/tests/models/mace_mp_small.model\"\n",
    "model = ModelData.from_uri(uri, architecture=\"mace_mp\", cache_dir=\"mlips\")"
   ]
  },
  {
   "cell_type": "markdown",
   "id": "05be6d64",
   "metadata": {},
   "source": [
    "Another parameter that we need to define as AiiDA type is the code. Assuming the code is saved as `janus` in the `localhost` computer, the code info that are needed can be loaded as follow:"
   ]
  },
  {
   "cell_type": "code",
   "execution_count": null,
   "id": "4a050271",
   "metadata": {},
   "outputs": [],
   "source": [
    "from aiida.orm import load_code\n",
    "\n",
    "code = load_code(\"janus@localhost\")"
   ]
  },
  {
   "cell_type": "markdown",
   "id": "6885ead5",
   "metadata": {},
   "source": [
    "The other inputs can be set up as AiiDA Str. There is a default for every input except the structure and code. This is a list of possible inputs:"
   ]
  },
  {
   "cell_type": "code",
   "execution_count": null,
   "id": "5d23779a",
   "metadata": {},
   "outputs": [],
   "source": [
    "from aiida.orm import Bool, Str\n",
    "\n",
    "inputs = {\n",
    "    \"code\": load_code(\"janus@localhost\"),\n",
    "    \"model\": model,\n",
    "    \"struct\": structure,\n",
    "    \"arch\": Str(model.architecture),\n",
    "    \"precision\": Str(\"float64\"),\n",
    "    \"device\": Str(\"cpu\"),\n",
    "    \"metadata\": {\"options\": {\"resources\": {\"num_machines\": 1}}},\n",
    "    \"invariants_only\": Bool(True),\n",
    "    \"calc_per_atom\": Bool(True),\n",
    "    \"calc_per_element\": Bool(True),\n",
    "}"
   ]
  },
  {
   "cell_type": "markdown",
   "id": "1840ba88",
   "metadata": {},
   "source": [
    "We then load the calculation using `CalculationFactory` and the entrypoint, `\"mlip.descriptors\"` in this case:"
   ]
  },
  {
   "cell_type": "code",
   "execution_count": null,
   "id": "d4588542",
   "metadata": {},
   "outputs": [],
   "source": [
    "from aiida.plugins import CalculationFactory\n",
    "\n",
    "DescriptorsCalc = CalculationFactory(\"mlip.descriptors\")"
   ]
  },
  {
   "cell_type": "markdown",
   "id": "a1f72789",
   "metadata": {},
   "source": [
    "Now we can start building the workgraph. First we use `graph_builder` to get the inputs and run the calculation"
   ]
  },
  {
   "cell_type": "code",
   "execution_count": null,
   "id": "a0df3a30",
   "metadata": {},
   "outputs": [],
   "source": [
    "from aiida_workgraph import WorkGraph, task\n",
    "from aiida.engine import run_get_node, CalcJob, WorkChain\n",
    "\n",
    "@task.graph_builder(outputs=[{\"name\" : \"final_structure\", \"from\": \"ctx.final_structure\"}])\n",
    "def calculation(\n",
    "    calc: CalcJob,\n",
    "    calc_inputs: dict,\n",
    "    ):\n",
    "\n",
    "    wg = WorkGraph(\"Run Calculation\")\n",
    "    wg.add_input(\"workgraph.any\", \"calc_inputs\")\n",
    "\n",
    "    calc_task = wg.add_task(\n",
    "        calc,\n",
    "        name=\"run_calc\",\n",
    "        **calc_inputs\n",
    "        )\n",
    "\n",
    "    wg.update_ctx(\n",
    "        {\"final_structure\": calc_task.outputs.xyz_output}\n",
    "    )\n",
    "    wg.outputs.final_structure = wg.ctx.final_structure\n",
    "\n",
    "    return wg"
   ]
  },
  {
   "cell_type": "markdown",
   "id": "abdbfb2d",
   "metadata": {},
   "source": [
    "Once the task has been created, we can then create a workgraph to pass in the inputs"
   ]
  },
  {
   "cell_type": "code",
   "execution_count": null,
   "id": "2a6f58e7",
   "metadata": {},
   "outputs": [],
   "source": [
    "from aiida_workgraph import WorkGraph\n",
    "\n",
    "wg = WorkGraph(\"Descriptors Calculation\")\n",
    "wg.add_input(\"workgraph.any\", \"calc_inputs\")\n",
    "\n",
    "wg.add_task(\n",
    "    calculation, \n",
    "    calc = DescriptorsCalc,\n",
    "    name=\"descriptors_calc\",\n",
    "    calc_inputs = inputs\n",
    "    )\n",
    "\n",
    "wg.outputs.final_structure = wg.tasks.descriptors_calc.outputs.final_structure"
   ]
  },
  {
   "cell_type": "markdown",
   "id": "15b786b7",
   "metadata": {},
   "source": [
    "Now we can visualise the tasks"
   ]
  },
  {
   "cell_type": "code",
   "execution_count": null,
   "id": "93d82c71",
   "metadata": {},
   "outputs": [],
   "source": [
    "wg"
   ]
  },
  {
   "cell_type": "markdown",
   "id": "9141b4a9",
   "metadata": {},
   "source": [
    "If everything has been setup correctly we can then run the workgraph, which runs the calculations with the inputs and get an output"
   ]
  },
  {
   "cell_type": "code",
   "execution_count": null,
   "id": "c851aa76",
   "metadata": {},
   "outputs": [],
   "source": [
    "wg.run()"
   ]
  },
  {
   "cell_type": "markdown",
   "id": "5de2fd39",
   "metadata": {},
   "source": [
    "We can check if the graph has given us the correct output flle\n"
   ]
  },
  {
   "cell_type": "code",
   "execution_count": null,
   "id": "a41bad62",
   "metadata": {},
   "outputs": [],
   "source": [
    "output_struct = wg.outputs.final_structure.value"
   ]
  },
  {
   "cell_type": "code",
   "execution_count": null,
   "id": "fc97070c",
   "metadata": {},
   "outputs": [],
   "source": [
    "import shutil\n",
    "\n",
    "with output_struct.open(mode='rb') as source:\n",
    "    with open('output.xyz', mode='wb') as target:\n",
    "        shutil.copyfileobj(source, target)"
   ]
  },
  {
   "cell_type": "code",
   "execution_count": null,
   "id": "9c882411",
   "metadata": {},
   "outputs": [],
   "source": [
    "! janus descriptors --struct output_j.xyz --arch mace_mp --calc-per-element --calc-per-atom "
   ]
  },
  {
   "cell_type": "markdown",
   "id": "ec1abd6f",
   "metadata": {},
   "source": [
    "Finally we can visualise the WorkGraph"
   ]
  },
  {
   "cell_type": "code",
   "execution_count": null,
   "id": "2b49f804",
   "metadata": {},
   "outputs": [],
   "source": [
    "from aiida_workgraph.utils import generate_node_graph\n",
    "\n",
    "generate_node_graph(wg.pk)"
   ]
  },
  {
   "cell_type": "code",
   "execution_count": null,
   "id": "73996e17",
   "metadata": {},
   "outputs": [],
   "source": [
    "! verdi process list -a"
   ]
  },
  {
   "cell_type": "code",
   "execution_count": null,
   "id": "97838032",
   "metadata": {},
   "outputs": [],
   "source": [
    "! verdi node show 7085  "
   ]
  },
  {
   "cell_type": "code",
   "execution_count": null,
   "id": "e3bca63d",
   "metadata": {},
   "outputs": [],
   "source": [
    "! python3 sample_split.py --trajectory janus_results/output-descriptors.extxyz --pre ar --n_samples 11 --config_types=None"
   ]
  }
 ],
 "metadata": {
  "kernelspec": {
   "display_name": "aiida-mlip",
   "language": "python",
   "name": "python3"
  },
  "language_info": {
   "codemirror_mode": {
    "name": "ipython",
    "version": 3
   },
   "file_extension": ".py",
   "mimetype": "text/x-python",
   "name": "python",
   "nbconvert_exporter": "python",
   "pygments_lexer": "ipython3",
   "version": "3.12.2"
  }
 },
 "nbformat": 4,
 "nbformat_minor": 5
}
