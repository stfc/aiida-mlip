{
 "cells": [
  {
   "cell_type": "markdown",
   "id": "c13c1dd7",
   "metadata": {},
   "source": [
    "# WorkGraph example to run Geometry Optimisation and Descriptors"
   ]
  },
  {
   "cell_type": "markdown",
   "id": "ca81fa1b",
   "metadata": {},
   "source": [
    "## Aim"
   ]
  },
  {
   "cell_type": "markdown",
   "id": "35ecbb39",
   "metadata": {},
   "source": [
    "This notebook demonstrates how different types of tasks can be connected within a workflow. As an example, we start from a structure, optimize its geometry, compute descriptors, and then use a filtering function to split the resulting structures into `train.xyz`, `test.xyz`, and `valid.xyz`. The goal is to show how workflows can seamlessly combine CalcJobs (as in aiida-mlip) with a calcfunction, demonstrating the flexibility of chaining tasks together."
   ]
  },
  {
   "cell_type": "markdown",
   "id": "5acf0b46",
   "metadata": {},
   "source": [
    "### Setup\n",
    "\n",
    "The initial setup is very similar to the other tutorials, such as `singlepoint.ipynb`, which goes into more detail about what each step is doing.\n",
    "\n",
    "We will need the `fpsample` dependancy to run sample_split.py, this can be installed as an optional dependancy from `pyproject.toml`.\n"
   ]
  },
  {
   "cell_type": "markdown",
   "id": "73bfb65e",
   "metadata": {},
   "source": [
    "Load the aiida profile and code:"
   ]
  },
  {
   "cell_type": "code",
   "execution_count": null,
   "id": "79098139",
   "metadata": {},
   "outputs": [],
   "source": [
    "from aiida import load_profile\n",
    "load_profile()"
   ]
  },
  {
   "cell_type": "code",
   "execution_count": null,
   "id": "3bc2cf3b",
   "metadata": {},
   "outputs": [],
   "source": [
    "from aiida_mlip.data.model import ModelData\n",
    "uri = \"https://github.com/stfc/janus-core/raw/main/tests/models/mace_mp_small.model\"\n",
    "model = ModelData.from_uri(uri, architecture=\"mace_mp\", cache_dir=\"mlips\")"
   ]
  },
  {
   "cell_type": "code",
   "execution_count": null,
   "id": "ae62816f",
   "metadata": {},
   "outputs": [],
   "source": [
    "from aiida.orm import load_code\n",
    "janus_code = load_code(\"janus@localhost\")"
   ]
  },
  {
   "cell_type": "markdown",
   "id": "65fbe939",
   "metadata": {},
   "source": [
    "Inputs should include the model, code, metadata, and any other keyword arguments expected by the calculation we are running:"
   ]
  },
  {
   "cell_type": "code",
   "execution_count": null,
   "id": "1795dd41",
   "metadata": {},
   "outputs": [],
   "source": [
    "from aiida.orm import Str, Float, Bool\n",
    "inputs = {\n",
    "    \"code\": janus_code,\n",
    "    \"model\": model,\n",
    "    \"arch\": Str(model.architecture),\n",
    "    \"device\": Str(\"cpu\"),\n",
    "    \"metadata\": {\"options\": {\"resources\": {\"num_machines\": 1}}},\n",
    "}"
   ]
  },
  {
   "cell_type": "markdown",
   "id": "1d661593",
   "metadata": {},
   "source": [
    "We now load the calculations we want to run:"
   ]
  },
  {
   "cell_type": "code",
   "execution_count": null,
   "id": "0e4c78c9",
   "metadata": {},
   "outputs": [],
   "source": [
    "from aiida.plugins import CalculationFactory\n",
    "\n",
    "geomoptCalc = CalculationFactory(\"mlip.opt\")\n",
    "descriptorsCalc = CalculationFactory(\"mlip.descriptors\")"
   ]
  },
  {
   "cell_type": "markdown",
   "id": "37df1f81",
   "metadata": {},
   "source": [
    "Now we can create our WorkGraph. This includes passing in the inputs, looping through and running the calculations on each structure."
   ]
  },
  {
   "cell_type": "markdown",
   "id": "86036116",
   "metadata": {},
   "source": [
    "For each input structure:\n",
    "1. Run a geometry optimization.\n",
    "   This returns an `xyz_output`, which is a StructureData object\n",
    "   containing the optimized atomic positions and cell in XYZ format.\n",
    "2. Pass the optimized `xyz_output` into a descriptors calculation.\n",
    "   The descriptors job reads the structure and computes numerical features\n",
    "   (fingerprints) for each structure.\n",
    "3. Collect the descriptor outputs, as StructureData, for all structures\n",
    "   and pass them to `process_and_split_data` (a calcfunction).\n",
    "4. `process_and_split_data` writes the structures to `train.xyz`, `test.xyz`,\n",
    "   and `valid.xyz` files, and returns a Dict node with the file paths."
   ]
  },
  {
   "cell_type": "code",
   "execution_count": null,
   "id": "e186c8e2",
   "metadata": {},
   "outputs": [],
   "source": [
    "from aiida.orm import Str, Float, Bool, Int\n",
    "from ase.io import read\n",
    "from aiida_workgraph import WorkGraph\n",
    "from aiida.orm import StructureData\n",
    "from sample_split import process_and_split_data\n",
    "\n",
    "initail_structure = \"../structures/lj-traj.xyz\"\n",
    "num_structs = len(read(initail_structure, index=\":\"))\n",
    "\n",
    "with WorkGraph(\"Calculation Workgraph\") as wg:\n",
    "    final_structures = {}\n",
    "\n",
    "    for i in range(num_structs):\n",
    "        structure = StructureData(ase=read(initail_structure, index=i))\n",
    "\n",
    "        geomopt_calc = wg.add_task(\n",
    "            geomoptCalc,\n",
    "            code=inputs['code'],\n",
    "            model=inputs['model'],\n",
    "            arch=inputs['arch'],\n",
    "            device=inputs['device'],\n",
    "            metadata=inputs['metadata'],\n",
    "            fmax=Float(0.1),\n",
    "            opt_cell_lengths=Bool(False),\n",
    "            opt_cell_fully=Bool(True),\n",
    "            struct=structure,\n",
    "        )\n",
    "\n",
    "        descriptors_calc = wg.add_task(\n",
    "            descriptorsCalc,\n",
    "            code=inputs['code'],\n",
    "            model=inputs['model'],\n",
    "            arch=inputs['arch'],\n",
    "            device=inputs['device'],\n",
    "            metadata=inputs['metadata'],\n",
    "            struct=geomopt_calc.outputs.final_structure,\n",
    "            calc_per_element=True,\n",
    "        )\n",
    "\n",
    "        final_structures[f\"structs{i}\"] = descriptors_calc.outputs.xyz_output\n",
    "\n",
    "    split_task = wg.add_task(\n",
    "        process_and_split_data,\n",
    "        config_types= Str(\"\"),\n",
    "        n_samples=Int(num_structs),\n",
    "        prefix= Str(\"\"),\n",
    "        scale= Float(1.0e5),\n",
    "        append_mode= Bool(False),\n",
    "        trajectory_data= final_structures\n",
    "        )\n"
   ]
  },
  {
   "cell_type": "markdown",
   "id": "de1905c6",
   "metadata": {},
   "source": [
    "Visualise the WorkGraph"
   ]
  },
  {
   "cell_type": "code",
   "execution_count": null,
   "id": "0d119cad",
   "metadata": {},
   "outputs": [],
   "source": [
    "wg\n"
   ]
  },
  {
   "cell_type": "markdown",
   "id": "b99c2d62",
   "metadata": {},
   "source": [
    "Run the tasks"
   ]
  },
  {
   "cell_type": "code",
   "execution_count": null,
   "id": "5c5fd6df",
   "metadata": {},
   "outputs": [],
   "source": [
    "wg.run()"
   ]
  },
  {
   "cell_type": "markdown",
   "id": "0db33aa6",
   "metadata": {},
   "source": [
    "We should get a dictionary with filepaths:"
   ]
  },
  {
   "cell_type": "code",
   "execution_count": null,
   "id": "fe7291b7",
   "metadata": {},
   "outputs": [],
   "source": [
    "wg.tasks.process_and_split_data.outputs.result.value.get_dict()"
   ]
  },
  {
   "cell_type": "markdown",
   "id": "514aeb77",
   "metadata": {},
   "source": [
    "We can use the outputs to visualise the data. For example, below we will plot a histogram of `mace_mp_descriptor`"
   ]
  },
  {
   "cell_type": "code",
   "execution_count": null,
   "id": "d2f463f6",
   "metadata": {},
   "outputs": [],
   "source": [
    "test_file = wg.tasks.process_and_split_data.outputs.result.value.get_dict()[\"test_file\"]\n",
    "train_file = wg.tasks.process_and_split_data.outputs.result.value.get_dict()[\"train_file\"]\n",
    "valid_file = wg.tasks.process_and_split_data.outputs.result.value.get_dict()[\"valid_file\"]"
   ]
  },
  {
   "cell_type": "code",
   "execution_count": null,
   "id": "d6937e16",
   "metadata": {},
   "outputs": [],
   "source": [
    "import numpy as np\n",
    "from ase.io import iread\n",
    "import matplotlib.pyplot as plt\n",
    "\n",
    "test_mace_desc = np.array([i.info['mace_mp_descriptor'] for i in iread(test_file, index=':')])\n",
    "train_mace_desc = np.array([i.info['mace_mp_descriptor'] for i in iread(train_file, index=':')])\n",
    "valid_mace_desc = np.array([i.info['mace_mp_descriptor'] for i in iread(valid_file, index=':')])\n",
    "\n",
    "all_values = np.concatenate([train_mace_desc, valid_mace_desc, test_mace_desc])\n",
    "bins = np.linspace(all_values.min(), all_values.max(), len(all_values))\n",
    "\n",
    "fig, ax = plt.subplots()\n",
    "\n",
    "ax.hist([train_mace_desc, valid_mace_desc, test_mace_desc],\n",
    "        bins=bins,\n",
    "        label=[\"Train\", \"Valid\", \"Test\"],\n",
    "        color=[\"blue\", \"green\", \"red\"],\n",
    "        edgecolor=\"black\",\n",
    "        rwidth=0.9,\n",
    "        histtype=\"bar\")\n",
    "\n",
    "ax.legend()\n",
    "plt.show()"
   ]
  }
 ],
 "metadata": {
  "kernelspec": {
   "display_name": "aiida-mlip (3.12.3)",
   "language": "python",
   "name": "python3"
  },
  "language_info": {
   "codemirror_mode": {
    "name": "ipython",
    "version": 3
   },
   "file_extension": ".py",
   "mimetype": "text/x-python",
   "name": "python",
   "nbconvert_exporter": "python",
   "pygments_lexer": "ipython3",
   "version": "3.12.3"
  }
 },
 "nbformat": 4,
 "nbformat_minor": 5
}
