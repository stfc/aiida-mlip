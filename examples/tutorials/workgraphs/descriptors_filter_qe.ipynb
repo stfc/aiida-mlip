{
 "cells": [
  {
   "cell_type": "markdown",
   "id": "c13c1dd7",
   "metadata": {},
   "source": [
    "# Running multiple calculations on a given model\n"
   ]
  },
  {
   "cell_type": "markdown",
   "id": "ca81fa1b",
   "metadata": {},
   "source": [
    "## Aim"
   ]
  },
  {
   "cell_type": "markdown",
   "id": "35ecbb39",
   "metadata": {},
   "source": [
    "This notebook shows how we can run multiple calculations of a given structure"
   ]
  },
  {
   "cell_type": "markdown",
   "id": "5acf0b46",
   "metadata": {},
   "source": [
    "### Setup\n",
    "\n",
    "The initial setup is very similar to the other tutorials, such as `singlepoint.ipynb`, which goes into more detail about what each step is doing"
   ]
  },
  {
   "cell_type": "markdown",
   "id": "73bfb65e",
   "metadata": {},
   "source": [
    "Load the aiida profile and code:"
   ]
  },
  {
   "cell_type": "code",
   "execution_count": null,
   "id": "79098139",
   "metadata": {},
   "outputs": [],
   "source": [
    "from aiida import load_profile\n",
    "load_profile()"
   ]
  },
  {
   "cell_type": "code",
   "execution_count": null,
   "id": "3bc2cf3b",
   "metadata": {},
   "outputs": [],
   "source": [
    "from aiida_mlip.data.model import ModelData\n",
    "uri = \"https://github.com/stfc/janus-core/raw/main/tests/models/mace_mp_small.model\"\n",
    "model = ModelData.from_uri(uri, architecture=\"mace_mp\")"
   ]
  },
  {
   "cell_type": "code",
   "execution_count": null,
   "id": "ae62816f",
   "metadata": {},
   "outputs": [],
   "source": [
    "from aiida.orm import load_code, load_computer\n",
    "\n",
    "janus_code = load_code(\"janus@localhost\")\n",
    "\n",
    "computer_label = 'scarf'\n",
    "scarf = load_computer(computer_label)\n",
    "scarf.set_workdir('/work4/scd/scarf1480/aiida') "
   ]
  },
  {
   "cell_type": "markdown",
   "id": "65fbe939",
   "metadata": {},
   "source": [
    "Inputs should include the model, code, metadata, and any other keyword arguments expected by the calculation we are running:"
   ]
  },
  {
   "cell_type": "code",
   "execution_count": null,
   "id": "1795dd41",
   "metadata": {},
   "outputs": [],
   "source": [
    "from aiida.orm import Str, Float, Bool, Int\n",
    "\n",
    "inputs = {\n",
    "    \"code\": janus_code,\n",
    "    \"model\": model,\n",
    "    \"arch\": Str(model.architecture),\n",
    "    \"device\": Str(\"cpu\"),\n",
    "    \"fmax\": Float(0.1), \n",
    "    \"opt_cell_lengths\": Bool(False), \n",
    "    \"opt_cell_fully\": Bool(True), \n",
    "    \"metadata\": {\"options\": {\"resources\": {\"num_machines\": 1}}},\n",
    "    }"
   ]
  },
  {
   "cell_type": "markdown",
   "id": "1d661593",
   "metadata": {},
   "source": [
    "We must now choose the calculations to perform:"
   ]
  },
  {
   "cell_type": "code",
   "execution_count": null,
   "id": "0e4c78c9",
   "metadata": {},
   "outputs": [],
   "source": [
    "from aiida.plugins import CalculationFactory\n",
    "geomoptCalc = CalculationFactory(\"mlip.opt\")\n",
    "descriptorsCalc = CalculationFactory(\"mlip.descriptors\")\n",
    "trainCalc = CalculationFactory(\"mlip.train\")\n"
   ]
  },
  {
   "cell_type": "markdown",
   "id": "37df1f81",
   "metadata": {},
   "source": [
    "Setup graph task, which sets up QE params and created a PwCalc for each structure in file. Returns test_file, train_file and valid_file"
   ]
  },
  {
   "cell_type": "code",
   "execution_count": null,
   "id": "1aff44c4",
   "metadata": {},
   "outputs": [],
   "source": [
    "from aiida_workgraph import task\n",
    "from aiida_workgraph.manager import get_current_graph\n",
    "from aiida.orm import StructureData, load_group, KpointsData, SinglefileData\n",
    "from ase.io import iread\n",
    "from aiida_mlip.data.config import JanusConfigfile\n",
    "from pathlib import Path\n",
    "import yaml\n",
    "from aiida_quantumespresso.calculations.pw import PwCalculation\n",
    "from sample_split import process_and_split_data\n",
    "\n",
    "\n",
    "@task.graph(outputs = [\"test_file\", \"train_file\", \"valid_file\"])\n",
    "def qe(**inputs):\n",
    "\n",
    "    qe_code = load_code(\"qe@scarf\")\n",
    "    # filepaths = inputs['filepath_dict']\n",
    "\n",
    "    wg = get_current_graph()\n",
    "\n",
    "    kpoints = KpointsData()\n",
    "    kpoints.set_kpoints_mesh([1, 1, 1])\n",
    "\n",
    "    metadata =  {\n",
    "        \"options\": {\n",
    "            \"resources\": {\n",
    "                \"num_machines\": 1,\n",
    "                'num_mpiprocs_per_machine': 32,\n",
    "            },\n",
    "            'max_wallclock_seconds': 3600,         # Set maximum wallclock time\n",
    "            #'account': 'elph',                     # Set account name\n",
    "            'queue_name': 'scarf',                  # Set queue name\n",
    "            'qos': 'scarf',\n",
    "            'environment_variables': {},\n",
    "            'withmpi': True,                       # Use MPI\n",
    "            'prepend_text': '''\n",
    "            module purge\n",
    "            module use /work4/scd/scarf562/eb-common/modules/all\n",
    "            module load amd-modules\n",
    "            module load QuantumESPRESSO/7.2-foss-2023a\n",
    "            ''',\n",
    "            'append_text': ''  \n",
    "        }\n",
    "    }\n",
    "\n",
    "    pseudo_family = load_group('SSSP/1.3/PBE/efficiency')\n",
    "\n",
    "    for _, file in inputs.items():\n",
    "        with file.as_path() as path:\n",
    "            for i, structs in enumerate(iread(path, format=\"extxyz\")):\n",
    "                \n",
    "                structure = StructureData(ase=structs)\n",
    "                pseudos = pseudo_family.get_pseudos(structure=structure)\n",
    "\n",
    "                ecutwfc, ecutrho = pseudo_family.get_recommended_cutoffs(\n",
    "                    structure=structure,\n",
    "                    unit='Ry',\n",
    "                )\n",
    "\n",
    "                pw_paras = {\n",
    "                    \"CONTROL\": {\n",
    "                        \"calculation\": \"scf\",\n",
    "                        'tprnfor': True,\n",
    "                        'tstress': True,\n",
    "                    },\n",
    "                    \"SYSTEM\": {\n",
    "                        \"ecutwfc\": ecutwfc,\n",
    "                        \"ecutrho\": ecutrho,\n",
    "                    },\n",
    "                }\n",
    "\n",
    "                qe_task = wg.add_task(\n",
    "                    PwCalculation,\n",
    "                    code = qe_code,\n",
    "                    parameters= pw_paras,\n",
    "                    kpoints= kpoints,\n",
    "                    pseudos= pseudos,\n",
    "                    metadata= metadata,\n",
    "                    structure= structure,\n",
    "                )\n",
    "\n",
    "                structfile = f\"{_}.struct{i}\"\n",
    "                wg.update_ctx({structfile: qe_task.outputs.output_trajectory})\n",
    "                \n",
    "    print(wg.tasks)\n",
    "\n",
    "    return {\n",
    "        \"test_file\": wg.ctx.test_file,\n",
    "        \"train_file\": wg.ctx.train_file,\n",
    "        \"valid_file\": wg.ctx.valid_file\n",
    "    }    \n"
   ]
  },
  {
   "cell_type": "code",
   "execution_count": null,
   "id": "695c1d37",
   "metadata": {},
   "outputs": [],
   "source": [
    "@task.calcfunction(outputs = [\"JanusConfigfile\"])\n",
    "def create_train_file(**files) -> JanusConfigfile:\n",
    "\n",
    "    training_files = {\"name\": \"test\"}\n",
    "    \n",
    "    for filename, file in files.items():\n",
    "        path = Path(f\"mlip_{filename}.xyz\")\n",
    "        \n",
    "        with open(path, \"w\") as f:\n",
    "            f.write(file.get_content())\n",
    "\n",
    "        training_files[filename] = str(path.resolve())\n",
    "\n",
    "    with open(\"JanusConfigFile.yaml\", \"w\") as f:\n",
    "        yaml.dump(training_files, f)\n",
    "\n",
    "    return {'JanusConfigfile': JanusConfigfile(str(Path(\"JanusConfigFile.yaml\").resolve()))}"
   ]
  },
  {
   "cell_type": "code",
   "execution_count": null,
   "id": "99c5e85a",
   "metadata": {},
   "outputs": [],
   "source": [
    "@task.calcfunction(outputs = [\"test_file\", \"train_file\", \"valid_file\"])\n",
    "def create_aiida_files(**inputs):\n",
    "     \n",
    "    files = process_and_split_data(**inputs)\n",
    "\n",
    "    return {\n",
    "        \"train_file\": SinglefileData(files[\"train_file\"]),\n",
    "        \"test_file\": SinglefileData(files[\"test_file\"]),\n",
    "        \"valid_file\": SinglefileData(files[\"valid_file\"])\n",
    "    }"
   ]
  },
  {
   "cell_type": "code",
   "execution_count": null,
   "id": "0299e3be",
   "metadata": {},
   "outputs": [],
   "source": [
    "from aiida_workgraph import WorkGraph, Zone\n",
    "from aiida.orm import StructureData\n",
    "from ase.io import iread\n",
    "from aiida.orm import Str, Float, Bool, Int\n",
    "\n",
    "inputs = {\n",
    "    \"code\": janus_code,\n",
    "    \"model\": model,\n",
    "    \"arch\": Str(model.architecture),\n",
    "    \"device\": Str(\"cpu\"),\n",
    "    \"fmax\": Float(0.1), \n",
    "    \"opt_cell_lengths\": Bool(False), \n",
    "    \"opt_cell_fully\": Bool(True), \n",
    "    \"metadata\": {\"options\": {\"resources\": {\"num_machines\": 1}}},\n",
    "    }\n",
    "\n",
    "initial_structure = \"../structures/lj-traj.xyz\"\n",
    "\n",
    "with WorkGraph(\"QE Calculation Workgraph\") as wg:\n",
    "\n",
    "    wg.inputs = inputs\n",
    "    final_structures = {}\n",
    "\n",
    "    for i, struct in enumerate(iread(initial_structure)):\n",
    "        structure = StructureData(ase=struct)\n",
    "\n",
    "        geomopt_calc = wg.add_task(\n",
    "            geomoptCalc,\n",
    "            code=wg.inputs.code,\n",
    "            model=wg.inputs.model,\n",
    "            arch=wg.inputs.arch,\n",
    "            device=wg.inputs.device,\n",
    "            metadata=inputs[\"metadata\"],\n",
    "            fmax=wg.inputs.fmax,\n",
    "            opt_cell_lengths=wg.inputs.opt_cell_lengths,\n",
    "            opt_cell_fully=wg.inputs.opt_cell_fully,\n",
    "            struct=structure,\n",
    "        )\n",
    "\n",
    "        descriptors_calc = wg.add_task(\n",
    "            descriptorsCalc,\n",
    "            code=wg.inputs.code,\n",
    "            model=wg.inputs.model,\n",
    "            arch=wg.inputs.arch,\n",
    "            device=wg.inputs.device,\n",
    "            metadata=inputs[\"metadata\"],\n",
    "            struct=geomopt_calc.outputs.final_structure,\n",
    "            calc_per_element=True,\n",
    "        )\n",
    "\n",
    "        final_structures[f\"structs{i}\"] = descriptors_calc.outputs.xyz_output\n",
    "\n",
    "    split_task_inputs = {\n",
    "        \"trajectory_data\": final_structures,\n",
    "        \"config_types\": Str(\"\"),\n",
    "        \"n_samples\": Int(len(final_structures.keys())),\n",
    "        \"prefix\": Str(\"\"),\n",
    "        \"scale\": Float(1.0e5),\n",
    "        \"append_mode\": Bool(False),\n",
    "    }\n",
    "\n",
    "    split_task = wg.add_task(create_aiida_files, inputs=split_task_inputs)\n",
    "\n",
    "    qe_inputs = {\n",
    "        \"test_file\": split_task.outputs.test_file,\n",
    "        \"train_file\": split_task.outputs.train_file,\n",
    "        \"valid_file\": split_task.outputs.valid_file\n",
    "    }\n",
    "\n",
    "    qe_task = wg.add_task(qe, name=\"QE_workflow\", **qe_inputs)\n",
    "\n",
    "    qe_files = {\n",
    "        \"test_file\": qe_task.outputs.test_file,\n",
    "        \"train_file\": qe_task.outputs.train_file,\n",
    "        \"valid_file\": qe_task.outputs.valid_file\n",
    "    }\n",
    "\n",
    "    # training_files = wg.add_task(create_train_file, **qe_files)\n",
    "\n",
    "    # train_task = wg.add_task(\n",
    "    #     trainCalc,\n",
    "    #     mlip_config = training_files.outputs.result,\n",
    "    #     code = janus_code,\n",
    "    #     metadata={'options': {\"resources\": {\"num_machines\": 1}}},\n",
    "    #     fine_tune =True,\n",
    "    #     foundation_model= model\n",
    "    # )"
   ]
  },
  {
   "cell_type": "code",
   "execution_count": null,
   "id": "0d119cad",
   "metadata": {},
   "outputs": [],
   "source": [
    "wg\n"
   ]
  },
  {
   "cell_type": "code",
   "execution_count": null,
   "id": "5c5fd6df",
   "metadata": {},
   "outputs": [],
   "source": [
    "wg.run()"
   ]
  },
  {
   "cell_type": "code",
   "execution_count": 13,
   "id": "1da8ec76",
   "metadata": {},
   "outputs": [
    {
     "data": {
      "text/plain": [
       "SocketAny(name='test_file', value=AttributeDict({'struct0': <TrajectoryData: uuid: 40daadac-3987-4cf7-8bfb-8734e4bcce5d (pk: 6626)>, 'struct1': <TrajectoryData: uuid: 31438781-6ffe-4548-8039-5f4cd20bb5ed (pk: 6629)>}))"
      ]
     },
     "execution_count": 13,
     "metadata": {},
     "output_type": "execute_result"
    }
   ],
   "source": [
    "wg.tasks.QE_workflow.outputs.test_file"
   ]
  }
 ],
 "metadata": {
  "kernelspec": {
   "display_name": "aiida-mlip (3.12.3)",
   "language": "python",
   "name": "python3"
  },
  "language_info": {
   "codemirror_mode": {
    "name": "ipython",
    "version": 3
   },
   "file_extension": ".py",
   "mimetype": "text/x-python",
   "name": "python",
   "nbconvert_exporter": "python",
   "pygments_lexer": "ipython3",
   "version": "3.12.3"
  }
 },
 "nbformat": 4,
 "nbformat_minor": 5
}
