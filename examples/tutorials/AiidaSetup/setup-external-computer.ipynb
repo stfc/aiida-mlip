{
 "cells": [
  {
   "cell_type": "markdown",
   "id": "afe742d7",
   "metadata": {},
   "source": [
    "# Setting up an external computer"
   ]
  },
  {
   "cell_type": "markdown",
   "id": "927e4a25",
   "metadata": {},
   "source": [
    "## Aim"
   ]
  },
  {
   "cell_type": "markdown",
   "id": "1c46a870",
   "metadata": {},
   "source": [
    "We can use aiida to submit jobs to an external computer. In this notebook we will: configure a profile, setup a computer, configure the SSH transport layer and create a code."
   ]
  },
  {
   "cell_type": "markdown",
   "id": "1ab75593",
   "metadata": {},
   "source": [
    "## Setup"
   ]
  },
  {
   "cell_type": "markdown",
   "id": "e7ba5ac9",
   "metadata": {},
   "source": [
    "For this tutorial we will assume you have:\n",
    "\n",
    "<ul>\n",
    "        <li>Aiida setup and can run jobs locally</li>\n",
    "        <li>Quantum Espresso setup on the remote computer</li>\n",
    "</ul>"
   ]
  },
  {
   "cell_type": "markdown",
   "id": "f16a8c8e",
   "metadata": {},
   "source": [
    "### Profile"
   ]
  },
  {
   "cell_type": "markdown",
   "id": "01a1e762",
   "metadata": {},
   "source": [
    "For the profile setup, you can either use SQLite or Postgres. For the sake of simplicity we will use `verdi presto` to setup the profile as it sets up all the base steps we need like: creating a profile, setting up localhost computer and a database with SQLite. The [Aiida](https://aiida.readthedocs.io/projects/aiida-core/en/stable/installation/guide_complete.html#create-a-profile) docs go into more detail in regards to setting up a profile."
   ]
  },
  {
   "cell_type": "code",
   "execution_count": null,
   "id": "1bdc9a19",
   "metadata": {},
   "outputs": [],
   "source": [
    "! verdi presto -p scarf"
   ]
  },
  {
   "cell_type": "markdown",
   "id": "a4c7c122",
   "metadata": {},
   "source": [
    "### Computer"
   ]
  },
  {
   "cell_type": "markdown",
   "id": "a6696a1e",
   "metadata": {},
   "source": [
    "Now we setup the [computer](https://aiida.readthedocs.io/projects/aiida-core/en/stable/howto/run_codes.html#computer-setup) with the following settings. ( **NOTE**: This setup is to connect to SCARF, you should change the label, description, hostname and workdir respectively inline with your remote system settings ) <br>\n",
    "(**Optional**) We are loading the module we want in prepend_text. As we will be needing Quantum Espresso to load the code in the later steps we will load it now, otherwise you can leave it empty `prepend_text: ''`."
   ]
  },
  {
   "cell_type": "code",
   "execution_count": null,
   "id": "65057015",
   "metadata": {},
   "outputs": [],
   "source": [
    "%%writefile ~/computer.yaml\n",
    "label: [scarf]\n",
    "description: [https://www.scarf.rl.ac.uk/index.html]\n",
    "hostname: [ui1.scarf.rl.ac.uk]\n",
    "transport: core.ssh\n",
    "scheduler: core.slurm\n",
    "shebang: '#!/bin/bash'\n",
    "work_dir: [/work4/scd/scarf/aiida]\n",
    "mpirun_command: srun -u -n {tot_num_mpiprocs}\n",
    "mpiprocs_per_machine: 32\n",
    "use_double_quotes: False\n",
    "prepend_text: |\n",
    "  module load amd-modules\n",
    "  module load QuantumESPRESSO/7.2-foss-2023a\n",
    "append_text: ''"
   ]
  },
  {
   "cell_type": "markdown",
   "id": "c7b34fe6",
   "metadata": {},
   "source": [
    "Run the following commands making sure to change the setting in `verdi computer configure ...` in square brackets with your settings. The [Aiida](https://aiida.readthedocs.io/projects/aiida-core/en/stable/howto/run_codes.html#how-to-set-up-a-computer) docs go over how to configure a computer in more detail."
   ]
  },
  {
   "cell_type": "code",
   "execution_count": null,
   "id": "811e10d3",
   "metadata": {},
   "outputs": [],
   "source": [
    "! verdi computer setup -n --config ~/computer.yaml"
   ]
  },
  {
   "cell_type": "code",
   "execution_count": null,
   "id": "eaf2e067",
   "metadata": {},
   "outputs": [],
   "source": [
    "! verdi computer configure core.ssh [scarf] -n --username [scarf] --key-filename ['/path/to/ssh/key'] --key-policy AutoAddPolicy --safe-interval 30.0"
   ]
  },
  {
   "cell_type": "markdown",
   "id": "a8fccf0e",
   "metadata": {},
   "source": [
    "Once the compuuter is setup, you can test the connection"
   ]
  },
  {
   "cell_type": "code",
   "execution_count": null,
   "id": "ce2132c3",
   "metadata": {},
   "outputs": [],
   "source": [
    "! verdi computer test [scarf]"
   ]
  },
  {
   "cell_type": "markdown",
   "id": "25efa7b3",
   "metadata": {},
   "source": [
    "### External Code"
   ]
  },
  {
   "cell_type": "markdown",
   "id": "c376a8be",
   "metadata": {},
   "source": [
    "If you want to run a calculation that is only available on the external machine, you can set up a code which accesses the external library. `verdi code setup -h` goes into more detail about what each of options does. For more information read the [Aiida docs](https://aiida.readthedocs.io/projects/aiida-core/en/stable/howto/run_codes.html#how-to-set-up-a-computer)"
   ]
  },
  {
   "cell_type": "code",
   "execution_count": null,
   "id": "475b35b9",
   "metadata": {},
   "outputs": [],
   "source": [
    "%%writefile ~/qe_code.yaml\n",
    "label: qe\n",
    "description: Quantum ESPRESSO pw.x\n",
    "default_calc_job_plugin: quantumespresso.pw\n",
    "computer: scarf\n",
    "filepath_executable: /work4/scd/scarf562/eb-amd/software/QuantumESPRESSO/7.2-foss-2023a/bin/pw.x\n",
    "use_double_quotes: true\n",
    "prepend_text: ''\n",
    "append_text: ''"
   ]
  },
  {
   "cell_type": "code",
   "execution_count": null,
   "id": "c354f007",
   "metadata": {},
   "outputs": [],
   "source": [
    "! verdi code create core.code.installed -n --config ~/qe_code.yaml"
   ]
  }
 ],
 "metadata": {
  "kernelspec": {
   "display_name": "aiida-mlip (3.12.3)",
   "language": "python",
   "name": "python3"
  },
  "language_info": {
   "codemirror_mode": {
    "name": "ipython",
    "version": 3
   },
   "file_extension": ".py",
   "mimetype": "text/x-python",
   "name": "python",
   "nbconvert_exporter": "python",
   "pygments_lexer": "ipython3",
   "version": "3.12.3"
  }
 },
 "nbformat": 4,
 "nbformat_minor": 5
}
