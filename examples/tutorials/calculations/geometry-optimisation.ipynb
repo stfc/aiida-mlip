{
 "cells": [
  {
   "cell_type": "markdown",
   "metadata": {},
   "source": [
    "# Geometry optimisation calculation"
   ]
  },
  {
   "cell_type": "markdown",
   "metadata": {
    "tags": []
   },
   "source": [
    "## Run geometry optimisation"
   ]
  },
  {
   "cell_type": "markdown",
   "metadata": {
    "id": "dLs_a7wLt98_"
   },
   "source": [
    "To run a geometry optimisation using aiida-mlip you need to define some inputs as AiiDA data types, to then pass to the calculation.\n",
    "\n",
    "To start, you will need a structure to optimise. \n",
    "\n",
    "The structure in the example is NaCl, generated using ase.build, or alternatively one can choose one of the structures in the folder `Structures`.\n",
    "The input structure in aiida-mlip needs to be saved as a StructureData type.\n",
    "We can print some properties of the structure, for example the cell or the atoms sites."
   ]
  },
  {
   "cell_type": "code",
   "execution_count": 17,
   "metadata": {
    "id": "NmNkuWExt8RE",
    "tags": []
   },
   "outputs": [
    {
     "name": "stdout",
     "output_type": "stream",
     "text": [
      "Initial cell parameters: [[0.0, 2.815, 2.815], [2.815, 0.0, 2.815], [2.815, 2.815, 0.0]]\n",
      "Structure's atoms sites: [<Site: kind name 'Na' @ 0.0,0.0,0.0>, <Site: kind name 'Cl' @ 2.815,0.0,0.0>]\n"
     ]
    }
   ],
   "source": [
    "from aiida import load_profile\n",
    "load_profile()\n",
    "\n",
    "from aiida.orm import StructureData\n",
    "from ase.io import read\n",
    "from ase.build import bulk\n",
    "\n",
    "\n",
    "#structure = StructureData(ase=read(\"structures/qmof-ffeef76.cif\"))\n",
    "structure = StructureData(ase=bulk(\"NaCl\", \"rocksalt\", 5.63))\n",
    "\n",
    "print(f\"Initial cell parameters: {structure.cell}\")\n",
    "print(f\"Structure's atoms sites: {structure.sites}\")"
   ]
  },
  {
   "cell_type": "markdown",
   "metadata": {
    "id": "YxOTQEg9uGnN"
   },
   "source": [
    "Then we need to choose a model and architecture to be used for the calculation and save it as ModelData type, a specific data type of this plugin.\n",
    "In this example we use mace_mp with a model that we download from this URL: \"https://github.com/stfc/janus-core/raw/main/tests/models/mace_mp_small.model\", and we save the file in the cache folder (default=\"~/.cache/mlips/\"):\n"
   ]
  },
  {
   "cell_type": "code",
   "execution_count": 18,
   "metadata": {
    "id": "3iGSzzNithOk",
    "tags": []
   },
   "outputs": [],
   "source": [
    "from aiida_mlip.data.model import ModelData\n",
    "uri = \"https://github.com/stfc/janus-core/raw/main/tests/models/mace_mp_small.model\"\n",
    "model = ModelData.from_uri(uri, architecture=\"mace_mp\", cache_dir=\"mlips\")"
   ]
  },
  {
   "cell_type": "markdown",
   "metadata": {
    "id": "Cf28b-C1uM_I"
   },
   "source": [
    "If we already have the model saved in some folder we can save it as:"
   ]
  },
  {
   "cell_type": "code",
   "execution_count": 19,
   "metadata": {
    "id": "sqoVIB2guSKM",
    "tags": []
   },
   "outputs": [],
   "source": [
    "# from aiida_mlip.data.model import ModelData\n",
    "# model = ModelData.from_local(\"mlips/mace_mp/mace_mp_small.model\", architecture=\"mace_mp\")"
   ]
  },
  {
   "cell_type": "markdown",
   "metadata": {
    "id": "xvEMrU5zuVn_"
   },
   "source": [
    "Another parameter that we need to define as AiiDA type is the code. Assuming the code is saved as `janus` in the `localhost` computer, the code info that are needed can be loaded as follow:\n"
   ]
  },
  {
   "cell_type": "code",
   "execution_count": 20,
   "metadata": {
    "id": "mH5E3MtPtyj-",
    "tags": []
   },
   "outputs": [],
   "source": [
    "from aiida.orm import load_code\n",
    "code = load_code(\"janus@localhost\")"
   ]
  },
  {
   "cell_type": "markdown",
   "metadata": {
    "id": "u-nJa_viuZMv"
   },
   "source": [
    "The other inputs can be set up as AiiDA Str, Float or Bool. There is a default for every input except the structure and code. This is a list of possible inputs:"
   ]
  },
  {
   "cell_type": "code",
   "execution_count": null,
   "metadata": {
    "id": "_XkQgKPMtyhf",
    "tags": []
   },
   "outputs": [],
   "source": [
    "from aiida.orm import Bool, Dict, Float, Str\n",
    "\n",
    "inputs = {\n",
    "        \"code\": code,\n",
    "        \"model\": model,\n",
    "        \"struct\": structure,\n",
    "        \"arch\": Str(model.architecture),\n",
    "        \"device\": Str(\"cpu\"),\n",
    "        \"calc_kwargs\": Dict({}),\n",
    "        \"fmax\": Float(0.1), \n",
    "        \"opt_cell_lengths\": Bool(False), \n",
    "        \"opt_cell_fully\": Bool(True),\n",
    "        \"pressure\" : Float(0.0),\n",
    "        \"minimize_kwargs\": Dict({\"filter_kwargs\": {\"constant_volume\": True}}),\n",
    "        \"metadata\": {\"options\": {\"resources\": {\"num_machines\": 1}}},\n",
    "    }"
   ]
  },
  {
   "cell_type": "markdown",
   "metadata": {
    "id": "RCPc7-Z5uhoK"
   },
   "source": [
    "It's worth noting that the architecture is already defined within the model, accessible through the architecture property in the ModelData. Even if not explicitly provided as input, it will be automatically retrieved from the model.\n",
    "\n",
    "The calculation must be set:"
   ]
  },
  {
   "cell_type": "code",
   "execution_count": 22,
   "metadata": {
    "id": "XOaSjxT8tyek",
    "tags": []
   },
   "outputs": [],
   "source": [
    "from aiida.plugins import CalculationFactory\n",
    "geomoptCalc = CalculationFactory(\"mlip.opt\")"
   ]
  },
  {
   "cell_type": "markdown",
   "metadata": {
    "id": "BhWwGwm2uvYR"
   },
   "source": [
    "In this case, since we are running a geometry optimisation the entry point is `mlip.opt`\n",
    "Finally, run the calculation:\n"
   ]
  },
  {
   "cell_type": "code",
   "execution_count": 23,
   "metadata": {
    "id": "agibHmT-tyU2",
    "tags": []
   },
   "outputs": [
    {
     "name": "stdout",
     "output_type": "stream",
     "text": [
      "CALCULATION FINISHED\n"
     ]
    }
   ],
   "source": [
    "from aiida.engine import run_get_node\n",
    "result, node = run_get_node(geomoptCalc, **inputs)\n",
    "print(\"CALCULATION FINISHED\")"
   ]
  },
  {
   "cell_type": "markdown",
   "metadata": {},
   "source": [
    "## Analyse results"
   ]
  },
  {
   "cell_type": "markdown",
   "metadata": {
    "id": "OSt6cQMeu5w9"
   },
   "source": [
    "`result` is a dictionary of the available results obtained from the calculation, while node contains the infor on the node where the calculation is run:\n"
   ]
  },
  {
   "cell_type": "code",
   "execution_count": 24,
   "metadata": {
    "id": "ZwVf9a-Fu5aW",
    "tags": []
   },
   "outputs": [
    {
     "name": "stdout",
     "output_type": "stream",
     "text": [
      "Printing output nodes dictionary: {'remote_folder': <RemoteData: uuid: 4f990f5d-68be-468d-beab-42bb2a699be8 (pk: 259)>, 'retrieved': <FolderData: uuid: 2f9bc11a-efa2-4ef5-87ce-6351000b1c90 (pk: 260)>, 'log_output': <SinglefileData: uuid: cab7e7d8-00ab-4dcb-825e-32ab4c188732 (pk: 261)>, 'std_output': <SinglefileData: uuid: c175eab1-445c-46e0-89f7-66ea8e2e2444 (pk: 262)>, 'xyz_output': <SinglefileData: uuid: 022a1cc5-29b8-4ea5-9fc5-ea27c64ef5ad (pk: 263)>, 'results_dict': <Dict: uuid: 7d9ef5d3-8437-40d3-b98c-aa2692b3d4a1 (pk: 264)>, 'traj_file': <SinglefileData: uuid: df703541-12cb-42aa-be60-8090b3e340c0 (pk: 265)>, 'traj_output': <TrajectoryData: uuid: 04f7eabb-d5ab-48b9-9f09-00684e792f3c (pk: 266)>, 'final_structure': <StructureData: uuid: 4e1498f8-8abd-4d7c-a174-24f054ab9754 (pk: 267)>}\n",
      "\n",
      "Printing calcjob node info: uuid: 81dd57a9-b0e7-4190-80d8-dfaf9578864c (pk: 258) (aiida.calculations:mlip.opt)\n"
     ]
    }
   ],
   "source": [
    "print(f\"Printing output nodes dictionary: {result}\")\n",
    "print(\"\")\n",
    "print(f\"Printing calcjob node info: {node}\")"
   ]
  },
  {
   "cell_type": "markdown",
   "metadata": {
    "id": "L5oMOnQPvID2"
   },
   "source": [
    "In this case there are more outputs than the single point calculation, such as the output structure and the trajectory of the optimisation.\n",
    "We can see how many steps it took to optimise:"
   ]
  },
  {
   "cell_type": "code",
   "execution_count": 25,
   "metadata": {
    "id": "xyJnGWqlIQNT",
    "tags": []
   },
   "outputs": [
    {
     "name": "stdout",
     "output_type": "stream",
     "text": [
      "The number of optimisation steps is: 1\n"
     ]
    }
   ],
   "source": [
    "print(f\"The number of optimisation steps is: {result['traj_output'].numsteps}\")"
   ]
  },
  {
   "cell_type": "markdown",
   "metadata": {},
   "source": [
    "The calculation can also be interacted with through verdi cli. Use `verdi process list` to show the list of calculations.\n"
   ]
  },
  {
   "cell_type": "code",
   "execution_count": 26,
   "metadata": {
    "tags": []
   },
   "outputs": [
    {
     "name": "stdout",
     "output_type": "stream",
     "text": [
      "\u001b[22m  PK  Created    Process label          ♻    Process State    Process status\n",
      "----  ---------  ---------------------  ---  ---------------  ----------------\n",
      " 114  1D ago     Singlepoint                 ⏹ Finished [0]\n",
      " 132  1D ago     GeomOpt                     ⏹ Finished [0]\n",
      " 153  1D ago     GeomOpt                     ⏹ Finished [0]\n",
      " 164  1D ago     prepare_struct_inputs       ⏹ Finished [0]\n",
      " 170  1D ago     Singlepoint                 ⏹ Finished [0]\n",
      " 188  1D ago     GeomOpt                     ⏹ Finished [0]\n",
      " 199  1D ago     prepare_struct_inputs       ⏹ Finished [0]\n",
      " 205  1D ago     Singlepoint                 ⏹ Finished [0]\n",
      " 223  1D ago     GeomOpt                     ⏹ Finished [0]\n",
      " 234  1D ago     prepare_struct_inputs       ⏹ Finished [0]\n",
      " 240  1D ago     Singlepoint                 ⏹ Finished [0]\n",
      " 258  12s ago    GeomOpt                     ⏹ Finished [0]\u001b[0m\n",
      "\u001b[22m\n",
      "Total results: 12\n",
      "\u001b[0m\n",
      "\u001b[34m\u001b[1mReport\u001b[0m: \u001b[22m♻ Processes marked with check-mark were not run but taken from the cache.\u001b[0m\n",
      "\u001b[34m\u001b[1mReport\u001b[0m: \u001b[22mAdd the option `-P pk cached_from` to the command to display cache source.\u001b[0m\n",
      "\u001b[34m\u001b[1mReport\u001b[0m: \u001b[22mLast time an entry changed state: 1s ago (at 13:58:03 on 2025-10-03)\u001b[0m\n",
      "\u001b[93m\u001b[1mWarning\u001b[0m: \u001b[1mThe daemon is not running\u001b[0m\n"
     ]
    }
   ],
   "source": [
    "! verdi process list -a"
   ]
  },
  {
   "cell_type": "markdown",
   "metadata": {},
   "source": [
    "The last calculation in the list is the last thing that was run. The PK number should correspond to the PK printed when you printed the node.\n",
    "You can interact with the data through verdi commands, by writing that PK number of the calculation of interest.\n",
    "Every calcjob node has a results dictionary which is outputted when running:\n"
   ]
  },
  {
   "cell_type": "code",
   "execution_count": 34,
   "metadata": {
    "tags": []
   },
   "outputs": [
    {
     "name": "stdout",
     "output_type": "stream",
     "text": [
      "defining outputnode\n",
      "\u001b[22m{\n",
      "    \"cell\": [\n",
      "        [\n",
      "            0.0,\n",
      "            2.815,\n",
      "            2.815\n",
      "        ],\n",
      "        [\n",
      "            2.815,\n",
      "            0.0,\n",
      "            2.815\n",
      "        ],\n",
      "        [\n",
      "            2.815,\n",
      "            2.815,\n",
      "            0.0\n",
      "        ]\n",
      "    ],\n",
      "    \"info\": {\n",
      "        \"arch\": \"mace_mp\",\n",
      "        \"config_type\": \"geom_opt\",\n",
      "        \"final_spacegroup\": \"Fm-3m (225)\",\n",
      "        \"initial_spacegroup\": \"Fm-3m (225)\",\n",
      "        \"mace_mp_energy\": -6.7575203839729,\n",
      "        \"mace_mp_stress\": [\n",
      "            -0.005816546985101,\n",
      "            -0.005816546985101,\n",
      "            -0.005816546985101,\n",
      "            0.0,\n",
      "            1.1681803864766e-18,\n",
      "            -2.7247576545301e-18\n",
      "        ],\n",
      "        \"model\": \"mlff.model\",\n",
      "        \"system_name\": \"aiida\",\n",
      "        \"units\": {\n",
      "            \"energy\": \"eV\",\n",
      "            \"forces\": \"ev/Ang\",\n",
      "            \"stress\": \"ev/Ang^3\"\n",
      "        }\n",
      "    },\n",
      "    \"mace_mp_forces\": [\n",
      "        [\n",
      "            0.0,\n",
      "            -0.0,\n",
      "            0.0\n",
      "        ],\n",
      "        [\n",
      "            -0.0,\n",
      "            0.0,\n",
      "            -0.0\n",
      "        ]\n",
      "    ],\n",
      "    \"masses\": [\n",
      "        22.98976928,\n",
      "        35.45\n",
      "    ],\n",
      "    \"numbers\": [\n",
      "        11,\n",
      "        17\n",
      "    ],\n",
      "    \"pbc\": [\n",
      "        true,\n",
      "        true,\n",
      "        true\n",
      "    ],\n",
      "    \"positions\": [\n",
      "        [\n",
      "            0.0,\n",
      "            0.0,\n",
      "            0.0\n",
      "        ],\n",
      "        [\n",
      "            2.815,\n",
      "            0.0,\n",
      "            0.0\n",
      "        ]\n",
      "    ]\n",
      "}\u001b[0m\n"
     ]
    }
   ],
   "source": [
    "! verdi calcjob res 258"
   ]
  },
  {
   "cell_type": "markdown",
   "metadata": {},
   "source": [
    "With the node show command we can see the inputs and outputs of the calculation."
   ]
  },
  {
   "cell_type": "code",
   "execution_count": 35,
   "metadata": {},
   "outputs": [
    {
     "name": "stdout",
     "output_type": "stream",
     "text": [
      "\u001b[22mProperty     Value\n",
      "-----------  ------------------------------------\n",
      "type         GeomOpt\n",
      "state        Finished [0]\n",
      "pk           258\n",
      "uuid         81dd57a9-b0e7-4190-80d8-dfaf9578864c\n",
      "label\n",
      "description\n",
      "ctime        2025-10-03 12:57:52.355553+00:00\n",
      "mtime        2025-10-03 12:58:03.512893+00:00\n",
      "computer     [1] localhost\n",
      "\n",
      "Inputs              PK  Type\n",
      "----------------  ----  -------------\n",
      "arch               248  Str\n",
      "calc_kwargs        250  Dict\n",
      "code                 1  InstalledCode\n",
      "device             249  Str\n",
      "fmax               251  Float\n",
      "log_filename       255  Str\n",
      "minimize_kwargs    254  Dict\n",
      "model              106  ModelData\n",
      "opt_cell_fully     253  Bool\n",
      "opt_cell_lengths   252  Bool\n",
      "out                257  Str\n",
      "struct             247  StructureData\n",
      "summary            256  Str\n",
      "\n",
      "Outputs            PK  Type\n",
      "---------------  ----  --------------\n",
      "final_structure   267  StructureData\n",
      "log_output        261  SinglefileData\n",
      "remote_folder     259  RemoteData\n",
      "results_dict      264  Dict\n",
      "retrieved         260  FolderData\n",
      "std_output        262  SinglefileData\n",
      "traj_file         265  SinglefileData\n",
      "traj_output       266  TrajectoryData\n",
      "xyz_output        263  SinglefileData\u001b[0m\n"
     ]
    }
   ],
   "source": [
    "! verdi node show 258"
   ]
  },
  {
   "cell_type": "code",
   "execution_count": 36,
   "metadata": {},
   "outputs": [
    {
     "name": "stdout",
     "output_type": "stream",
     "text": [
      "\u001b[22mProperty     Value\n",
      "-----------  ------------------------------------\n",
      "type         TrajectoryData\n",
      "pk           266\n",
      "uuid         04f7eabb-d5ab-48b9-9f09-00684e792f3c\n",
      "label\n",
      "description\n",
      "ctime        2025-10-03 12:58:03.194571+00:00\n",
      "mtime        2025-10-03 12:58:03.445773+00:00\u001b[0m\n"
     ]
    }
   ],
   "source": [
    "!verdi node show 266"
   ]
  },
  {
   "cell_type": "markdown",
   "metadata": {},
   "source": [
    "For the geometry optimisation we are most likely interested in the final structure and the trajectory of the geometry optimisation. Let's compare the initial and final cell parameters and see if they changed."
   ]
  },
  {
   "cell_type": "code",
   "execution_count": 29,
   "metadata": {
    "tags": []
   },
   "outputs": [
    {
     "name": "stdout",
     "output_type": "stream",
     "text": [
      "Initial cell parameters: [[0.0, 2.815, 2.815], [2.815, 0.0, 2.815], [2.815, 2.815, 0.0]]\n",
      "Final cell parameters: [[0.0, 2.815, 2.815], [2.815, 0.0, 2.815], [2.815, 2.815, 0.0]]\n"
     ]
    }
   ],
   "source": [
    "from aiida.orm import load_node\n",
    "\n",
    "print(f\"Initial cell parameters: {structure.cell}\")\n",
    "final_structure = load_node(232)\n",
    "print(f\"Final cell parameters: {final_structure.cell}\")"
   ]
  },
  {
   "cell_type": "markdown",
   "metadata": {},
   "source": [
    "## Plot energies and visualise provenance graph"
   ]
  },
  {
   "cell_type": "markdown",
   "metadata": {},
   "source": [
    "Now let's analyse the steps of the optimisation. We'll run singlepoint calculation on every steps to see how the energy changed. We'll also use this to visualise a complex provenance graph with more calculations connected.\n",
    "Note the outputs of the calculation can be called either by using the load_node function when the Pk is known or directly with the outputs attribute of the calcjobe node.\n",
    "Note also that we use the `calcfunction` decorator get the single structures from the `TrajectoryData`"
   ]
  },
  {
   "cell_type": "code",
   "execution_count": 30,
   "metadata": {
    "tags": []
   },
   "outputs": [
    {
     "name": "stdout",
     "output_type": "stream",
     "text": [
      "0\n",
      "calculations ended\n"
     ]
    }
   ],
   "source": [
    "from aiida.orm import load_node\n",
    "from aiida.engine import calcfunction\n",
    "\n",
    "\n",
    "traj = node.outputs.traj_output\n",
    "# traj = load_node(141) \n",
    "    \n",
    "@calcfunction\n",
    "def prepare_struct_inputs(traj, index):\n",
    "    return traj.get_step_structure(index.value)\n",
    "\n",
    "uri = \"https://github.com/stfc/janus-core/raw/main/tests/models/mace_mp_small.model\"\n",
    "model = ModelData.from_uri(uri, architecture=\"mace_mp\", cache_dir=\"mlips\")\n",
    "list_of_nodes = []\n",
    "\n",
    "\n",
    "inputs = {\n",
    "    \"code\": code,\n",
    "    \"model\": model,\n",
    "    \"device\": Str(\"cpu\"),\n",
    "    \"metadata\": {\"options\": {\"resources\": {\"num_machines\": 1}}},\n",
    "}\n",
    "    \n",
    "for index in range(traj.numsteps):\n",
    "    print(index)\n",
    "    singlepointCalc = CalculationFactory(\"mlip.sp\")\n",
    "    struc = prepare_struct_inputs(traj, index)\n",
    "    inputs['struct']=struc\n",
    "    result, node = run_get_node(singlepointCalc, **inputs)\n",
    "    list_of_nodes.append(node)\n",
    "print(\"calculations ended\")"
   ]
  },
  {
   "cell_type": "markdown",
   "metadata": {},
   "source": [
    "Let's print the list of alcjob nodes that we just created"
   ]
  },
  {
   "cell_type": "code",
   "execution_count": 31,
   "metadata": {
    "tags": []
   },
   "outputs": [
    {
     "data": {
      "text/plain": [
       "[<CalcJobNode: uuid: 0f4e54b1-8657-4659-9ab2-b0eb25d28d0d (pk: 275) (aiida.calculations:mlip.sp)>]"
      ]
     },
     "execution_count": 31,
     "metadata": {},
     "output_type": "execute_result"
    }
   ],
   "source": [
    "list_of_nodes"
   ]
  },
  {
   "cell_type": "markdown",
   "metadata": {},
   "source": [
    "Now we can use it for getting the energies in every step and plotting them.\n",
    "(a better alternative to the list of nodes might be to use a AiiDA group, see high-throughput-screening tutorial)"
   ]
  },
  {
   "cell_type": "code",
   "execution_count": 32,
   "metadata": {
    "tags": []
   },
   "outputs": [
    {
     "data": {
      "image/png": "[encoded data removed]",
      "text/plain": [
       "<Figure size 1000x600 with 1 Axes>"
      ]
     },
     "metadata": {},
     "output_type": "display_data"
    }
   ],
   "source": [
    "import matplotlib.pyplot as plt\n",
    "\n",
    "steps = []\n",
    "energies = []\n",
    "\n",
    "# Loop through each node to extract step number and energy level\n",
    "for step, node in enumerate(list_of_nodes):\n",
    "    energy = node.outputs.results_dict.get_dict()['info']['mace_mp_energy']\n",
    "    steps.append(step)\n",
    "    energies.append(energy)\n",
    "\n",
    "# Plotting the energy levels over steps\n",
    "plt.figure(figsize=(10, 6))\n",
    "plt.plot(steps, energies, marker='o', linestyle='-', color='g')\n",
    "plt.title('Energy Levels over Steps')\n",
    "plt.xlabel('Step')\n",
    "plt.ylabel('Energy')\n",
    "plt.show()\n"
   ]
  },
  {
   "cell_type": "markdown",
   "metadata": {},
   "source": [
    "We can see that the energy decreased, which is what we want in a geometry optimisation process.\n",
    "\n",
    "Now let's generate the provenance graph. (Insert PK number of the TrajectoryData in the code)"
   ]
  },
  {
   "cell_type": "code",
   "execution_count": 33,
   "metadata": {
    "tags": []
   },
   "outputs": [
    {
     "name": "stdout",
     "output_type": "stream",
     "text": [
      "\u001b[32m\u001b[1mSuccess: \u001b[0m\u001b[22mOutput written to `231.dot.pdf`\u001b[0m\n"
     ]
    }
   ],
   "source": [
    "! verdi node graph generate 231"
   ]
  },
  {
   "cell_type": "markdown",
   "metadata": {},
   "source": [
    "The provenance graph shows both the calculation that created the `TrajectoryData` and the calculations that we run using the structures in the `TrajectoryData`.\n",
    "This is made possible by the use of the `calcfunction` decorator that we used. If we had not used it, the graph would stop a the `TrajectoryData` and the other `Singlepoint` calculations would be independent."
   ]
  }
 ],
 "metadata": {
  "colab": {
   "private_outputs": true,
   "provenance": []
  },
  "kernelspec": {
   "display_name": "aiida-mlip",
   "language": "python",
   "name": "python3"
  },
  "language_info": {
   "codemirror_mode": {
    "name": "ipython",
    "version": 3
   },
   "file_extension": ".py",
   "mimetype": "text/x-python",
   "name": "python",
   "nbconvert_exporter": "python",
   "pygments_lexer": "ipython3",
   "version": "3.12.3"
  }
 },
 "nbformat": 4,
 "nbformat_minor": 4
}
