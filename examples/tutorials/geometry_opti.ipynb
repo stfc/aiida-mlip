{
 "cells": [
  {
   "cell_type": "code",
   "execution_count": 23,
   "id": "79098139",
   "metadata": {},
   "outputs": [
    {
     "data": {
      "text/plain": [
       "Profile<uuid='468a9d4d0812492ba52462f2aca53e23' name='presto'>"
      ]
     },
     "execution_count": 23,
     "metadata": {},
     "output_type": "execute_result"
    }
   ],
   "source": [
    "from aiida import load_profile\n",
    "load_profile()"
   ]
  },
  {
   "cell_type": "code",
   "execution_count": 24,
   "id": "806c510e",
   "metadata": {},
   "outputs": [],
   "source": [
    "from aiida.orm import StructureData\n",
    "from ase.build import bulk\n",
    "from ase.io import read\n",
    "\n",
    "#structure = StructureData(ase=read(\"Structures/qmof-ffeef76.cif\"))\n",
    "structure = StructureData(ase=bulk(\"NaCl\", \"rocksalt\", 5.63))"
   ]
  },
  {
   "cell_type": "code",
   "execution_count": 25,
   "id": "23722af6",
   "metadata": {},
   "outputs": [],
   "source": [
    "from aiida_mlip.data.model import ModelData\n",
    "uri = \"https://github.com/stfc/janus-core/raw/main/tests/models/mace_mp_small.model\"\n",
    "model = ModelData.from_uri(uri, architecture=\"mace_mp\", cache_dir=\"mlips\")"
   ]
  },
  {
   "cell_type": "code",
   "execution_count": 26,
   "id": "ae62816f",
   "metadata": {},
   "outputs": [],
   "source": [
    "from aiida.orm import load_code\n",
    "code = load_code(\"janus@localhost\")"
   ]
  },
  {
   "cell_type": "code",
   "execution_count": 27,
   "id": "1795dd41",
   "metadata": {},
   "outputs": [],
   "source": [
    "from aiida.orm import Str\n",
    "inputs = {\n",
    "    \"metadata\": {\"options\": {\"resources\": {\"num_machines\": 1}}},\n",
    "    \"code\": code,\n",
    "    \"arch\": model.architecture,\n",
    "    \"precision\": Str(\"float64\"),\n",
    "    \"struct\": structure,\n",
    "    \"model\": model,\n",
    "    \"device\": Str(\"cpu\"),\n",
    "}"
   ]
  },
  {
   "cell_type": "code",
   "execution_count": 28,
   "id": "0e4c78c9",
   "metadata": {},
   "outputs": [],
   "source": [
    "from aiida.plugins import CalculationFactory\n",
    "geomoptCalc = CalculationFactory(\"mlip.opt\")\n",
    "descriptorsCalc = CalculationFactory(\"mlip.descriptors\")"
   ]
  },
  {
   "cell_type": "code",
   "execution_count": 29,
   "id": "176f1ea0",
   "metadata": {},
   "outputs": [],
   "source": [
    "from aiida_workgraph import WorkGraph\n",
    "\n",
    "wg = WorkGraph(\"Geometry Optimisation\")\n",
    "wg.inputs = inputs\n",
    "\n",
    "geomopt_calc = wg.add_task(\n",
    "    geomoptCalc,\n",
    "    name=\"geomopt_calc\",\n",
    ")\n",
    "\n",
    "# descriptors_calc = wg.add_task(\n",
    "#     descriptorsCalc,\n",
    "#     name=\"descriptors_calc\",\n",
    "# )\n"
   ]
  },
  {
   "cell_type": "code",
   "execution_count": 30,
   "id": "fba13d58",
   "metadata": {},
   "outputs": [],
   "source": [
    "wg.tasks.geomopt_calc.inputs = wg.inputs"
   ]
  },
  {
   "cell_type": "code",
   "execution_count": 31,
   "id": "23d6d3cf",
   "metadata": {},
   "outputs": [],
   "source": [
    "wg.outputs.results = wg.tasks.geomopt_calc.outputs.final_structure\n",
    "wg.outputs.results_file = wg.tasks.geomopt_calc.outputs.final_structure"
   ]
  },
  {
   "cell_type": "code",
   "execution_count": 32,
   "id": "50a51bfc",
   "metadata": {},
   "outputs": [
    {
     "data": {
      "application/vnd.jupyter.widget-view+json": {
       "model_id": "35caadafde8448b99554216f5325b7b2",
       "version_major": 2,
       "version_minor": 1
      },
      "text/plain": [
       "NodeGraphWidget(settings={'minimap': True}, style={'width': '90%', 'height': '600px'}, value={'name': 'Geometr…"
      ]
     },
     "execution_count": 32,
     "metadata": {},
     "output_type": "execute_result"
    }
   ],
   "source": [
    "wg"
   ]
  },
  {
   "cell_type": "code",
   "execution_count": 33,
   "id": "8f2c1fcd",
   "metadata": {},
   "outputs": [
    {
     "name": "stderr",
     "output_type": "stream",
     "text": [
      "07/22/2025 10:03:05 AM <358723> aiida.orm.nodes.process.workflow.workchain.WorkChainNode: [REPORT] [7365|WorkGraphEngine|continue_workgraph]: tasks ready to run: geomopt_calc\n",
      "07/22/2025 10:03:07 AM <358723> aiida.orm.nodes.process.workflow.workchain.WorkChainNode: [REPORT] [7365|WorkGraphEngine|on_wait]: Process status: Waiting for child processes: 7370\n",
      "07/22/2025 10:03:42 AM <358723> aiida.orm.nodes.process.workflow.workchain.WorkChainNode: [REPORT] [7365|WorkGraphEngine|update_task_state]: Task: geomopt_calc, type: CALCJOB, finished.\n",
      "07/22/2025 10:03:42 AM <358723> aiida.orm.nodes.process.workflow.workchain.WorkChainNode: [REPORT] [7365|WorkGraphEngine|continue_workgraph]: tasks ready to run: \n",
      "07/22/2025 10:03:42 AM <358723> aiida.orm.nodes.process.workflow.workchain.WorkChainNode: [REPORT] [7365|WorkGraphEngine|finalize]: Finalize workgraph.\n"
     ]
    }
   ],
   "source": [
    "wg.run()"
   ]
  },
  {
   "cell_type": "code",
   "execution_count": 34,
   "id": "8797a1e5",
   "metadata": {},
   "outputs": [
    {
     "data": {
      "text/plain": [
       "<StructureData: uuid: 5860849d-d0c0-4cc8-a555-80e6b45e1f49 (pk: 7379)>"
      ]
     },
     "execution_count": 34,
     "metadata": {},
     "output_type": "execute_result"
    }
   ],
   "source": [
    "wg_output = wg.outputs.results_file.value\n",
    "\n",
    "wg_output"
   ]
  },
  {
   "cell_type": "code",
   "execution_count": 37,
   "id": "5d963cd1",
   "metadata": {},
   "outputs": [],
   "source": [
    "wg_inputs = {\n",
    "    \"metadata\": {\"options\": {\"resources\": {\"num_machines\": 1}}},\n",
    "    \"code\": code,\n",
    "    \"arch\": model.architecture,\n",
    "    \"precision\": Str(\"float64\"),\n",
    "    \"struct\": wg_output,\n",
    "    \"model\": model,\n",
    "    \"device\": Str(\"cpu\"),\n",
    "}"
   ]
  },
  {
   "cell_type": "code",
   "execution_count": null,
   "id": "b8483b96",
   "metadata": {},
   "outputs": [],
   "source": [
    "# ! verdi data core.structure  export 7361 > wg_output.xsf"
   ]
  },
  {
   "cell_type": "code",
   "execution_count": 35,
   "id": "57e7d5fd",
   "metadata": {},
   "outputs": [],
   "source": [
    "from aiida.plugins import CalculationFactory\n",
    "\n",
    "descriptorsCalc = CalculationFactory(\"mlip.descriptors\")"
   ]
  },
  {
   "cell_type": "code",
   "execution_count": 40,
   "id": "59ed42c3",
   "metadata": {},
   "outputs": [],
   "source": [
    "from aiida_workgraph import WorkGraph\n",
    "\n",
    "wg = WorkGraph(\"Descriptors\")\n",
    "\n",
    "descriptors_calc = wg.add_task(\n",
    "    descriptorsCalc,\n",
    "    name=\"descriptors_calc\",\n",
    "    **wg_inputs\n",
    ")\n"
   ]
  },
  {
   "cell_type": "code",
   "execution_count": 41,
   "id": "a4f43979",
   "metadata": {},
   "outputs": [
    {
     "name": "stderr",
     "output_type": "stream",
     "text": [
      "07/22/2025 10:05:33 AM <358723> aiida.orm.nodes.process.workflow.workchain.WorkChainNode: [REPORT] [7382|WorkGraphEngine|continue_workgraph]: tasks ready to run: descriptors_calc\n",
      "07/22/2025 10:05:36 AM <358723> aiida.orm.nodes.process.workflow.workchain.WorkChainNode: [REPORT] [7382|WorkGraphEngine|on_wait]: Process status: Waiting for child processes: 7386\n",
      "07/22/2025 10:06:05 AM <358723> aiida.orm.nodes.process.workflow.workchain.WorkChainNode: [REPORT] [7382|WorkGraphEngine|continue_workgraph]: tasks ready to run: \n",
      "07/22/2025 10:06:05 AM <358723> aiida.orm.nodes.process.workflow.workchain.WorkChainNode: [REPORT] [7382|WorkGraphEngine|finalize]: Finalize workgraph.\n"
     ]
    }
   ],
   "source": [
    "wg.run()"
   ]
  },
  {
   "cell_type": "code",
   "execution_count": 45,
   "id": "f018d4c6",
   "metadata": {},
   "outputs": [
    {
     "data": {
      "text/plain": [
       "{'pbc': [True, True, True],\n",
       " 'cell': [[0.0, 2.815, 2.815], [2.815, 0.0, 2.815], [2.815, 2.815, 0.0]],\n",
       " 'info': {'arch': 'mace_mp',\n",
       "  'emissions': 4.208576394309e-06,\n",
       "  'model_path': 'mlff.model',\n",
       "  'system_name': 'aiida',\n",
       "  'mace_mp_descriptor': -0.0056343183056331},\n",
       " 'masses': [22.98976928, 35.45],\n",
       " 'numbers': [11, 17],\n",
       " 'positions': [[0.0, 0.0, 0.0], [2.815, 0.0, 0.0]]}"
      ]
     },
     "execution_count": 45,
     "metadata": {},
     "output_type": "execute_result"
    }
   ],
   "source": [
    "wg.tasks.descriptors_calc.outputs.results_dict.value.get_dict()"
   ]
  }
 ],
 "metadata": {
  "kernelspec": {
   "display_name": "aiida-mlip",
   "language": "python",
   "name": "python3"
  },
  "language_info": {
   "codemirror_mode": {
    "name": "ipython",
    "version": 3
   },
   "file_extension": ".py",
   "mimetype": "text/x-python",
   "name": "python",
   "nbconvert_exporter": "python",
   "pygments_lexer": "ipython3",
   "version": "3.12.2"
  }
 },
 "nbformat": 4,
 "nbformat_minor": 5
}
