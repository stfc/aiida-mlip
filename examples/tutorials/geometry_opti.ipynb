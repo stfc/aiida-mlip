{
 "cells": [
  {
   "cell_type": "code",
   "execution_count": 1,
   "id": "79098139",
   "metadata": {},
   "outputs": [
    {
     "data": {
      "text/plain": [
       "Profile<uuid='468a9d4d0812492ba52462f2aca53e23' name='presto'>"
      ]
     },
     "execution_count": 1,
     "metadata": {},
     "output_type": "execute_result"
    }
   ],
   "source": [
    "from aiida import load_profile\n",
    "load_profile()"
   ]
  },
  {
   "cell_type": "code",
   "execution_count": 2,
   "id": "806c510e",
   "metadata": {},
   "outputs": [],
   "source": [
    "# from aiida.orm import StructureData\n",
    "# from ase.build import bulk\n",
    "# from ase.io import read\n",
    "\n",
    "# structure = StructureData(ase=read(\"Structures/qmof-ffeef76.cif\"))\n",
    "# structure = StructureData(ase=bulk(\"NaCl\", \"rocksalt\", 5.63))"
   ]
  },
  {
   "cell_type": "code",
   "execution_count": 3,
   "id": "23722af6",
   "metadata": {},
   "outputs": [],
   "source": [
    "from aiida_mlip.data.model import ModelData\n",
    "uri = \"https://github.com/stfc/janus-core/raw/main/tests/models/mace_mp_small.model\"\n",
    "model = ModelData.from_uri(uri, architecture=\"mace_mp\", cache_dir=\"mlips\")"
   ]
  },
  {
   "cell_type": "code",
   "execution_count": 4,
   "id": "ae62816f",
   "metadata": {},
   "outputs": [],
   "source": [
    "from aiida.orm import load_code\n",
    "code = load_code(\"janus@localhost\")"
   ]
  },
  {
   "cell_type": "code",
   "execution_count": 5,
   "id": "1795dd41",
   "metadata": {},
   "outputs": [],
   "source": [
    "from aiida.orm import Str, Float, Bool\n",
    "inputs = {\n",
    "    \"code\": code,\n",
    "    \"model\": model,\n",
    "    \"arch\": Str(model.architecture),\n",
    "    \"precision\": Str(\"float64\"),\n",
    "    \"device\": Str(\"cpu\"),\n",
    "    \"fmax\": Float(0.1), \n",
    "    \"opt_cell_lengths\": Bool(False), \n",
    "    \"opt_cell_fully\": Bool(True), \n",
    "    \"metadata\": {\"options\": {\"resources\": {\"num_machines\": 1}}},\n",
    "    }"
   ]
  },
  {
   "cell_type": "code",
   "execution_count": 6,
   "id": "0e4c78c9",
   "metadata": {},
   "outputs": [],
   "source": [
    "from aiida.plugins import CalculationFactory\n",
    "geomoptCalc = CalculationFactory(\"mlip.opt\")\n",
    "descriptorsCalc = CalculationFactory(\"mlip.descriptors\")"
   ]
  },
  {
   "cell_type": "code",
   "execution_count": 7,
   "id": "176f1ea0",
   "metadata": {},
   "outputs": [
    {
     "name": "stdout",
     "output_type": "stream",
     "text": [
      "defining outputnode\n",
      "defining outputnode\n"
     ]
    }
   ],
   "source": [
    "from aiida_workgraph import WorkGraph\n",
    "from aiida.orm import StructureData\n",
    "from ase.build import bulk\n",
    "from ase.io import read\n",
    "\n",
    "wg = WorkGraph(\"Calculation Workgraph\")\n",
    "wg.inputs = inputs\n",
    "\n",
    "num_structs = len(read(\"lj-traj.xyz\", index=\":\"))\n",
    "\n",
    "for i in range(num_structs - 9):\n",
    "\n",
    "    structure = StructureData(ase=read(\"lj-traj.xyz\", index=f\"{i}\"))\n",
    "    \n",
    "    geomopt_calc = wg.add_task(\n",
    "        geomoptCalc,\n",
    "        code = wg.inputs.code,\n",
    "        model = wg.inputs.model,\n",
    "        arch = wg.inputs.arch,\n",
    "        precision = wg.inputs.precision,\n",
    "        device = wg.inputs.device,\n",
    "        metadata = wg.inputs.metadata,\n",
    "        fmax = wg.inputs.fmax,\n",
    "        opt_cell_lengths = wg.inputs.opt_cell_lengths,\n",
    "        opt_cell_fully = wg.inputs.opt_cell_fully,\n",
    "        struct = structure,\n",
    "    )\n",
    "\n",
    "    descriptors_calc = wg.add_task(\n",
    "        descriptorsCalc,\n",
    "        code = wg.inputs.code,\n",
    "        model = wg.inputs.model,\n",
    "        arch = wg.inputs.arch,\n",
    "        precision = wg.inputs.precision,\n",
    "        device = wg.inputs.device,\n",
    "        metadata = wg.inputs.metadata,\n",
    "        struct = geomopt_calc.outputs.final_structure,\n",
    "        calc_per_element = True\n",
    "    )\n",
    "\n",
    "    wg.outputs.final_structures = (\n",
    "        {f\"structs{i}\" : descriptors_calc.outputs.xyz_output}\n",
    "        )\n",
    "    \n"
   ]
  },
  {
   "cell_type": "code",
   "execution_count": 8,
   "id": "50a51bfc",
   "metadata": {},
   "outputs": [
    {
     "data": {
      "application/vnd.jupyter.widget-view+json": {
       "model_id": "98f60c6d16764c648d7261cba6846560",
       "version_major": 2,
       "version_minor": 1
      },
      "text/plain": [
       "NodeGraphWidget(settings={'minimap': True}, style={'width': '90%', 'height': '600px'}, value={'name': 'Calcula…"
      ]
     },
     "execution_count": 8,
     "metadata": {},
     "output_type": "execute_result"
    }
   ],
   "source": [
    "wg"
   ]
  },
  {
   "cell_type": "code",
   "execution_count": 9,
   "id": "8f2c1fcd",
   "metadata": {},
   "outputs": [
    {
     "name": "stderr",
     "output_type": "stream",
     "text": [
      "07/28/2025 02:33:32 PM <86233> aiida.broker.rabbitmq: [WARNING] RabbitMQ v3.12.1 is not supported and will cause unexpected problems!\n",
      "07/28/2025 02:33:32 PM <86233> aiida.broker.rabbitmq: [WARNING] It can cause long-running workflows to crash and jobs to be submitted multiple times.\n",
      "07/28/2025 02:33:32 PM <86233> aiida.broker.rabbitmq: [WARNING] See https://github.com/aiidateam/aiida-core/wiki/RabbitMQ-version-to-use for details.\n",
      "07/28/2025 02:33:36 PM <86233> aiida.orm.nodes.process.workflow.workchain.WorkChainNode: [REPORT] [9494|WorkGraphEngine|continue_workgraph]: tasks ready to run: calcjob,calcjob2\n",
      "07/28/2025 02:33:39 PM <86233> aiida.orm.nodes.process.workflow.workchain.WorkChainNode: [REPORT] [9494|WorkGraphEngine|on_wait]: Process status: Waiting for child processes: 9498, 9502\n",
      "07/28/2025 02:34:02 PM <86233> aiida.orm.nodes.process.workflow.workchain.WorkChainNode: [REPORT] [9494|WorkGraphEngine|update_task_state]: Task: calcjob, type: CALCJOB, finished.\n",
      "07/28/2025 02:34:03 PM <86233> aiida.orm.nodes.process.workflow.workchain.WorkChainNode: [REPORT] [9494|WorkGraphEngine|update_task_state]: Task: calcjob2, type: CALCJOB, finished.\n",
      "07/28/2025 02:34:04 PM <86233> aiida.orm.nodes.process.workflow.workchain.WorkChainNode: [REPORT] [9494|WorkGraphEngine|continue_workgraph]: tasks ready to run: calcjob1,calcjob3\n",
      "07/28/2025 02:34:08 PM <86233> aiida.orm.nodes.process.workflow.workchain.WorkChainNode: [REPORT] [9494|WorkGraphEngine|on_wait]: Process status: Waiting for child processes: 9524, 9528\n",
      "07/28/2025 02:34:27 PM <86233> aiida.orm.nodes.process.workflow.workchain.WorkChainNode: [REPORT] [9494|WorkGraphEngine|update_task_state]: Task: calcjob1, type: CALCJOB, finished.\n",
      "07/28/2025 02:34:27 PM <86233> aiida.orm.nodes.process.workflow.workchain.WorkChainNode: [REPORT] [9494|WorkGraphEngine|update_task_state]: Task: calcjob3, type: CALCJOB, finished.\n",
      "07/28/2025 02:34:29 PM <86233> aiida.orm.nodes.process.workflow.workchain.WorkChainNode: [REPORT] [9494|WorkGraphEngine|continue_workgraph]: tasks ready to run: \n",
      "07/28/2025 02:34:29 PM <86233> aiida.orm.nodes.process.workflow.workchain.WorkChainNode: [REPORT] [9494|WorkGraphEngine|finalize]: Finalize workgraph.\n"
     ]
    }
   ],
   "source": [
    "wg.run()"
   ]
  },
  {
   "cell_type": "code",
   "execution_count": 11,
   "id": "78a87e6f",
   "metadata": {},
   "outputs": [
    {
     "name": "stdout",
     "output_type": "stream",
     "text": [
      "[<SinglefileData: uuid: 6067babe-6e0f-48e5-a6ab-d05f8239cfcb (pk: 9535)>, <SinglefileData: uuid: 40b168c7-c2a0-44f5-994b-795b88c1ae75 (pk: 9539)>]\n"
     ]
    }
   ],
   "source": [
    "import shutil, os\n",
    "from pathlib import Path\n",
    "\n",
    "descriptors_output = list(wg.outputs.final_structures)\n",
    "traj_structs = []\n",
    "\n",
    "for i in range(len(descriptors_output)):\n",
    "\n",
    "    # create list variable which holds output structs\n",
    "    singlefiledata = wg.outputs.final_structures[f\"structs{i}\"]\n",
    "    traj_structs.append(singlefiledata.value)\n",
    "\n",
    "    # create file which holds output structs\n",
    "    with singlefiledata.value.open(mode='rb') as source:\n",
    "        with open(f\"structs.xyz\", mode='ab') as target:\n",
    "            shutil.copyfileobj(source, target)\n",
    "\n",
    "print(traj_structs)"
   ]
  },
  {
   "cell_type": "markdown",
   "id": "4dd5599b",
   "metadata": {},
   "source": [
    "## Testing output"
   ]
  },
  {
   "cell_type": "code",
   "execution_count": null,
   "id": "9994eadc",
   "metadata": {},
   "outputs": [],
   "source": [
    "# # test janus output\n",
    "\n",
    "# ! janus descriptors --struct lj-traj.xyz --arch mace_mp --calc-per-element"
   ]
  },
  {
   "cell_type": "code",
   "execution_count": null,
   "id": "a1ebd3dd",
   "metadata": {},
   "outputs": [],
   "source": [
    "# from aiida.plugins import DataFactory\n",
    "# from aiida import load_profile, profile_context, orm\n",
    "\n",
    "# load_profile()\n",
    "\n",
    "# file = orm.load_node(9364).outputs.xyz_output\n",
    "# file1 = orm.load_node(9367).outputs.xyz_output\n",
    "\n",
    "# traj_structs = [file, file1]\n",
    "# print(traj_structs)"
   ]
  },
  {
   "cell_type": "code",
   "execution_count": null,
   "id": "130531f3",
   "metadata": {},
   "outputs": [],
   "source": [
    "from ase.io import read, write\n",
    "\n",
    "traj_file = '/home/mtr46585/aiida-mlip/examples/tutorials/janus_results/lj-traj-descriptors.extxyz'\n",
    "\n",
    "x = read(traj_file, index=\":\")[0]\n",
    "\n",
    "print(x.info)\n"
   ]
  },
  {
   "cell_type": "code",
   "execution_count": 13,
   "id": "8d4c948c",
   "metadata": {},
   "outputs": [
    {
     "name": "stdout",
     "output_type": "stream",
     "text": [
      "create files: train_file=PosixPath('train.xyz'), valid_file=PosixPath('valid.xyz') and test_file=PosixPath('test.xyz')\n",
      "Processing: ('all', 'aiida'), 2 frames\n",
      "  ('all', 'aiida'): total=2, train_target=1, vt_target=1\n",
      "Found 0 structures that were too similar during sampling.\n"
     ]
    },
    {
     "name": "stderr",
     "output_type": "stream",
     "text": [
      "/home/mtr46585/aiida-mlip/.venv/lib/python3.12/site-packages/fpsample/wrapper.py:98: UserWarning: k is too large, set to 2\n",
      "  warnings.warn(f\"k is too large, set to {n_pts}\")\n",
      "/home/mtr46585/aiida-mlip/.venv/lib/python3.12/site-packages/fpsample/wrapper.py:98: UserWarning: k is too large, set to 1\n",
      "  warnings.warn(f\"k is too large, set to {n_pts}\")\n"
     ]
    }
   ],
   "source": [
    "from sample_split import process_and_split_data\n",
    "\n",
    "\n",
    "process_and_split_data(\n",
    "    trajectory_path = traj_structs,\n",
    "    config_types = \"\",\n",
    "    n_samples = 2,\n",
    "    prefix = \"\",\n",
    "    scale = 1.0e5,\n",
    "    append_mode = False\n",
    "    )\n"
   ]
  }
 ],
 "metadata": {
  "kernelspec": {
   "display_name": "aiida-mlip (3.12.2)",
   "language": "python",
   "name": "python3"
  },
  "language_info": {
   "codemirror_mode": {
    "name": "ipython",
    "version": 3
   },
   "file_extension": ".py",
   "mimetype": "text/x-python",
   "name": "python",
   "nbconvert_exporter": "python",
   "pygments_lexer": "ipython3",
   "version": "3.12.2"
  }
 },
 "nbformat": 4,
 "nbformat_minor": 5
}
