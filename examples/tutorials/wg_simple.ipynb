{
 "cells": [
  {
   "cell_type": "markdown",
   "id": "8833481d",
   "metadata": {},
   "source": [
    "# Run basic singlepoint calculation"
   ]
  },
  {
   "cell_type": "markdown",
   "id": "fd91ae9f",
   "metadata": {},
   "source": [
    "Load the aiida profile:\n"
   ]
  },
  {
   "cell_type": "code",
   "execution_count": null,
   "id": "578cbf13",
   "metadata": {},
   "outputs": [],
   "source": [
    "# Load profile\n",
    "from aiida import load_profile\n",
    "load_profile()"
   ]
  },
  {
   "cell_type": "markdown",
   "id": "d2dc55f3",
   "metadata": {},
   "source": [
    "We need to choose a model and architecture to be used for the calculation and save it as ModelData type, a specific data type of this plugin. \n",
    "In this example we are using NaCl structure"
   ]
  },
  {
   "cell_type": "code",
   "execution_count": null,
   "id": "83357214",
   "metadata": {},
   "outputs": [],
   "source": [
    "from aiida.orm import StructureData\n",
    "from ase.build import bulk\n",
    "from ase.io import read\n",
    "\n",
    "#structure = StructureData(ase=read(\"Structures/qmof-ffeef76.cif\"))\n",
    "structure = StructureData(ase=bulk(\"NaCl\", \"rocksalt\", 5.63))"
   ]
  },
  {
   "cell_type": "code",
   "execution_count": null,
   "id": "a9e02bbd",
   "metadata": {},
   "outputs": [],
   "source": [
    "from aiida_mlip.data.model import ModelData\n",
    "uri = \"https://github.com/stfc/janus-core/raw/main/tests/models/mace_mp_small.model\"\n",
    "model = ModelData.from_uri(uri, architecture=\"mace_mp\", cache_dir=\"mlips\")"
   ]
  },
  {
   "cell_type": "markdown",
   "id": "eb5890dd",
   "metadata": {},
   "source": [
    "Another parameter that we need to define as AiiDA type is the code. Assuming the code is saved as `janus` in the `localhost` computer, the code info that are needed can be loaded as follow:"
   ]
  },
  {
   "cell_type": "code",
   "execution_count": null,
   "id": "37fa3de8",
   "metadata": {},
   "outputs": [],
   "source": [
    "from aiida.orm import load_code\n",
    "code = load_code(\"janus@localhost\")"
   ]
  },
  {
   "cell_type": "markdown",
   "id": "593138b6",
   "metadata": {},
   "source": [
    "Inputs should include the model, code, metadata, and any other keyword arguments expected by the calculation we are running:"
   ]
  },
  {
   "cell_type": "code",
   "execution_count": null,
   "id": "07180e99",
   "metadata": {},
   "outputs": [],
   "source": [
    "from aiida.orm import Str\n",
    "inputs = {\n",
    "    \"metadata\": {\"options\": {\"resources\": {\"num_machines\": 1}}},\n",
    "    \"code\": code,\n",
    "    \"arch\": model.architecture,\n",
    "    \"precision\": Str(\"float64\"),\n",
    "    \"struct\": structure,\n",
    "    \"model\": model,\n",
    "    \"device\": Str(\"cpu\"),\n",
    "}"
   ]
  },
  {
   "cell_type": "markdown",
   "id": "64f49fc8",
   "metadata": {},
   "source": [
    "We must also choose the calculation to perform:"
   ]
  },
  {
   "cell_type": "code",
   "execution_count": null,
   "id": "245bff79",
   "metadata": {},
   "outputs": [],
   "source": [
    "from aiida.plugins import CalculationFactory\n",
    "singlepointCalc = CalculationFactory(\"mlip.sp\")"
   ]
  },
  {
   "cell_type": "markdown",
   "id": "b3f49386",
   "metadata": {},
   "source": [
    "Then we can create the workgraph and define our input variables"
   ]
  },
  {
   "cell_type": "code",
   "execution_count": null,
   "id": "d3902c78",
   "metadata": {},
   "outputs": [],
   "source": [
    "from aiida_workgraph import WorkGraph\n",
    "\n",
    "wg = WorkGraph(\"SinglepointWorkGraph\")\n",
    "\n",
    "sp_calc = wg.add_task(\n",
    "    singlepointCalc,\n",
    "    name=\"sp_calc\",\n",
    ")"
   ]
  },
  {
   "cell_type": "code",
   "execution_count": null,
   "id": "6d973a27",
   "metadata": {},
   "outputs": [],
   "source": [
    "wg.tasks.sp_calc.set(\n",
    "    {**inputs}\n",
    ")"
   ]
  },
  {
   "cell_type": "markdown",
   "id": "4868385e",
   "metadata": {},
   "source": [
    "We can generate the tasks of the workgraph"
   ]
  },
  {
   "cell_type": "code",
   "execution_count": null,
   "id": "10bc607b",
   "metadata": {},
   "outputs": [],
   "source": [
    "wg"
   ]
  },
  {
   "cell_type": "code",
   "execution_count": null,
   "id": "14a1f426",
   "metadata": {},
   "outputs": [],
   "source": [
    "wg.run()"
   ]
  },
  {
   "cell_type": "markdown",
   "id": "f181b108",
   "metadata": {},
   "source": [
    "The graph can be visualised"
   ]
  },
  {
   "cell_type": "code",
   "execution_count": null,
   "id": "caf97255",
   "metadata": {},
   "outputs": [],
   "source": [
    "from aiida_workgraph.utils import generate_node_graph\n",
    "\n",
    "generate_node_graph(wg.pk)"
   ]
  },
  {
   "cell_type": "markdown",
   "id": "6e6124f5",
   "metadata": {},
   "source": [
    "We can then check the output to ensure we are getting the correct output"
   ]
  },
  {
   "cell_type": "code",
   "execution_count": null,
   "id": "03431d36",
   "metadata": {},
   "outputs": [],
   "source": [
    "wg.tasks.sp_calc.outputs.xyz_output"
   ]
  }
 ],
 "metadata": {
  "kernelspec": {
   "display_name": "aiida-mlip",
   "language": "python",
   "name": "aiida-mlip"
  },
  "language_info": {
   "codemirror_mode": {
    "name": "ipython",
    "version": 3
   },
   "file_extension": ".py",
   "mimetype": "text/x-python",
   "name": "python",
   "nbconvert_exporter": "python",
   "pygments_lexer": "ipython3",
   "version": "3.12.2"
  }
 },
 "nbformat": 4,
 "nbformat_minor": 5
}
