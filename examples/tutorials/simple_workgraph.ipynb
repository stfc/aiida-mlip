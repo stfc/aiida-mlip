{
 "cells": [
  {
   "cell_type": "markdown",
   "id": "ebda8eac",
   "metadata": {},
   "source": [
    "# Run basic calculations using Workgraph"
   ]
  },
  {
   "cell_type": "markdown",
   "id": "a005ebdc",
   "metadata": {},
   "source": [
    "## Aim\n",
    "\n",
    "This notebook sets up two basic workgraphs to run calculations, to show how WorkGraph interacts with our custom calculations"
   ]
  },
  {
   "cell_type": "markdown",
   "id": "85abcd21",
   "metadata": {},
   "source": [
    "## Single Point Calculation"
   ]
  },
  {
   "cell_type": "markdown",
   "id": "6cc3af05",
   "metadata": {},
   "source": [
    "### Setup\n",
    "\n",
    "The initial setup is very similar to the other tutorials, such as `singlepoint.ipynb`, which goes into more detail about what each step is doing"
   ]
  },
  {
   "cell_type": "markdown",
   "id": "9e3e493f",
   "metadata": {},
   "source": [
    "Load the aiida profile:"
   ]
  },
  {
   "cell_type": "code",
   "execution_count": null,
   "id": "0c93916b",
   "metadata": {},
   "outputs": [],
   "source": [
    "# Load profile\n",
    "from aiida import load_profile\n",
    "load_profile()"
   ]
  },
  {
   "cell_type": "markdown",
   "id": "9018cf6b",
   "metadata": {},
   "source": [
    "Get the structure, model and load the code:"
   ]
  },
  {
   "cell_type": "code",
   "execution_count": null,
   "id": "3312bd0d",
   "metadata": {},
   "outputs": [],
   "source": [
    "from aiida.orm import StructureData\n",
    "from ase.build import bulk\n",
    "from ase.io import read\n",
    "\n",
    "#structure = StructureData(ase=read(\"Structures/qmof-ffeef76.cif\"))\n",
    "structure = StructureData(ase=bulk(\"NaCl\", \"rocksalt\", 5.63))"
   ]
  },
  {
   "cell_type": "code",
   "execution_count": null,
   "id": "92389b2a",
   "metadata": {},
   "outputs": [],
   "source": [
    "from aiida_mlip.data.model import ModelData\n",
    "uri = \"https://github.com/stfc/janus-core/raw/main/tests/models/mace_mp_small.model\"\n",
    "model = ModelData.from_uri(uri, architecture=\"mace_mp\", cache_dir=\"mlips\")"
   ]
  },
  {
   "cell_type": "code",
   "execution_count": null,
   "id": "24fd0cd7",
   "metadata": {},
   "outputs": [],
   "source": [
    "from aiida.orm import load_code\n",
    "code = load_code(\"janus@localhost\")"
   ]
  },
  {
   "cell_type": "markdown",
   "id": "a16652f2",
   "metadata": {},
   "source": [
    "Inputs should include the model, code, metadata, and any other keyword arguments expected by the calculation we are running:"
   ]
  },
  {
   "cell_type": "code",
   "execution_count": null,
   "id": "97fbb628",
   "metadata": {},
   "outputs": [],
   "source": [
    "from aiida.orm import Str\n",
    "inputs = {\n",
    "    \"metadata\": {\"options\": {\"resources\": {\"num_machines\": 1}}},\n",
    "    \"code\": code,\n",
    "    \"arch\": model.architecture,\n",
    "    \"precision\": Str(\"float64\"),\n",
    "    \"struct\": structure,\n",
    "    \"model\": model,\n",
    "    \"device\": Str(\"cpu\"),\n",
    "}"
   ]
  },
  {
   "cell_type": "markdown",
   "id": "90fbc9fe",
   "metadata": {},
   "source": [
    "We must also choose the calculation to perform:"
   ]
  },
  {
   "cell_type": "code",
   "execution_count": null,
   "id": "92312e27",
   "metadata": {},
   "outputs": [],
   "source": [
    "from aiida.plugins import CalculationFactory\n",
    "singlepointCalc = CalculationFactory(\"mlip.sp\")"
   ]
  },
  {
   "cell_type": "markdown",
   "id": "213e90b9",
   "metadata": {},
   "source": [
    "### Creating and running a workgraph\n",
    "\n",
    "We can now create a workgraph by first loading WorkGraph and giving it a name  (`\"SinglepointWorkGraph\"` in this example). We then create a task for our calculation and assign this task a name"
   ]
  },
  {
   "cell_type": "code",
   "execution_count": null,
   "id": "0797e61c",
   "metadata": {},
   "outputs": [],
   "source": [
    "from aiida_workgraph import WorkGraph\n",
    "\n",
    "wg = WorkGraph(\"SinglepointWorkGraph\")\n",
    "\n",
    "sp_calc = wg.add_task(\n",
    "    singlepointCalc,\n",
    "    name=\"sp_calc\",\n",
    "    **inputs\n",
    ")"
   ]
  },
  {
   "cell_type": "code",
   "execution_count": null,
   "id": "5c04d7af",
   "metadata": {},
   "outputs": [],
   "source": [
    "wg"
   ]
  },
  {
   "cell_type": "markdown",
   "id": "d4984759",
   "metadata": {},
   "source": [
    "We can visual the tasks of the Workgraph and run the tasks"
   ]
  },
  {
   "cell_type": "code",
   "execution_count": null,
   "id": "4692932f",
   "metadata": {},
   "outputs": [],
   "source": [
    "wg.tasks.sp_calc"
   ]
  },
  {
   "cell_type": "code",
   "execution_count": null,
   "id": "85cbe663",
   "metadata": {},
   "outputs": [],
   "source": [
    "wg.run()"
   ]
  },
  {
   "cell_type": "markdown",
   "id": "7041b66e",
   "metadata": {},
   "source": [
    "The graph can be visualised"
   ]
  },
  {
   "cell_type": "code",
   "execution_count": null,
   "id": "dcb971a2",
   "metadata": {},
   "outputs": [],
   "source": [
    "from aiida_workgraph.utils import generate_node_graph\n",
    "\n",
    "generate_node_graph(wg.pk)"
   ]
  },
  {
   "cell_type": "markdown",
   "id": "becbcddf",
   "metadata": {},
   "source": [
    "We can then check the output to ensure we are getting the correct output. Here, we check the `xyz_output`, which should return a `SinglefileData` object"
   ]
  },
  {
   "cell_type": "code",
   "execution_count": null,
   "id": "517c2066",
   "metadata": {},
   "outputs": [],
   "source": [
    "type(wg.tasks.sp_calc.outputs.xyz_output.value)"
   ]
  },
  {
   "cell_type": "markdown",
   "id": "115a5e8b",
   "metadata": {},
   "source": [
    "We can also print the outputs of the calculation"
   ]
  },
  {
   "cell_type": "code",
   "execution_count": null,
   "id": "bd571975",
   "metadata": {},
   "outputs": [],
   "source": [
    "wg.tasks.sp_calc.outputs.results_dict.value.get_dict()"
   ]
  },
  {
   "cell_type": "markdown",
   "id": "7609565d",
   "metadata": {},
   "source": [
    "We can also use verdi to interact with the calcaltion and see the output (you may need to click `view scrollable element` if you are running the command in a notebook to see the mose recent tasks)"
   ]
  },
  {
   "cell_type": "code",
   "execution_count": null,
   "id": "4cbfa7f6",
   "metadata": {},
   "outputs": [],
   "source": [
    "! verdi process list -a"
   ]
  },
  {
   "cell_type": "markdown",
   "id": "a100106f",
   "metadata": {},
   "source": [
    "Using the pk, we can print the output from verdi"
   ]
  },
  {
   "cell_type": "code",
   "execution_count": null,
   "id": "01b7e76a",
   "metadata": {},
   "outputs": [],
   "source": [
    "! verdi calcjob res [pk]  "
   ]
  },
  {
   "cell_type": "markdown",
   "id": "33dcefc9",
   "metadata": {},
   "source": [
    "## Geometry Optimisation"
   ]
  },
  {
   "cell_type": "markdown",
   "id": "ddf8a780",
   "metadata": {},
   "source": [
    "The calculations can be setup with WorkGraph very similarly in most cases. In this example we will setup a geometry optimisation calculation. First we setup the the inputs and load the calculation"
   ]
  },
  {
   "cell_type": "code",
   "execution_count": null,
   "id": "95278dce",
   "metadata": {},
   "outputs": [],
   "source": [
    "from aiida.orm import Str, Float, Bool\n",
    "inputs = {\n",
    "        \"code\": code,\n",
    "        \"model\": model,\n",
    "        \"struct\": structure,\n",
    "        \"arch\": Str(model.architecture),\n",
    "        \"precision\": Str(\"float64\"),\n",
    "        \"device\": Str(\"cpu\"),\n",
    "        \"fmax\": Float(0.1), \n",
    "        \"opt_cell_lengths\": Bool(False), \n",
    "        \"opt_cell_fully\": Bool(True), \n",
    "        \"metadata\": {\"options\": {\"resources\": {\"num_machines\": 1}}},\n",
    "    }"
   ]
  },
  {
   "cell_type": "code",
   "execution_count": null,
   "id": "1715e25e",
   "metadata": {},
   "outputs": [],
   "source": [
    "from aiida.plugins import CalculationFactory\n",
    "geomoptCalc = CalculationFactory(\"mlip.opt\")"
   ]
  },
  {
   "cell_type": "markdown",
   "id": "17deb40c",
   "metadata": {},
   "source": [
    "We can then start building the WorkGraph similar to before"
   ]
  },
  {
   "cell_type": "code",
   "execution_count": null,
   "id": "9a1095a8",
   "metadata": {},
   "outputs": [],
   "source": [
    "from aiida_workgraph import WorkGraph\n",
    "\n",
    "wg = WorkGraph(\"Geometry Optimisation\")\n",
    "\n",
    "geomopt_calc = wg.add_task(\n",
    "    geomoptCalc,\n",
    "    name=\"geomopt_calc\",\n",
    ")"
   ]
  },
  {
   "cell_type": "markdown",
   "id": "62cdb8e2",
   "metadata": {},
   "source": [
    "This time if we want to pass the inputs/outputs directly to the workgraph we can define them. \n",
    "As we are passing in the inputs as kwargs we have to pass the inputs directly to the task"
   ]
  },
  {
   "cell_type": "code",
   "execution_count": null,
   "id": "1ba44195",
   "metadata": {},
   "outputs": [],
   "source": [
    "wg.tasks.geomopt_calc.set(\n",
    "    {**inputs}\n",
    ")"
   ]
  },
  {
   "cell_type": "code",
   "execution_count": null,
   "id": "32e9a6a5",
   "metadata": {},
   "outputs": [],
   "source": [
    "wg.outputs.results = wg.tasks.geomopt_calc.outputs.results_dict\n",
    "wg.outputs.results_file = wg.tasks.geomopt_calc.outputs.xyz_output"
   ]
  },
  {
   "cell_type": "markdown",
   "id": "60abdce4",
   "metadata": {},
   "source": [
    "Now we can visually see the outputs from the `geomopt_calc` task being passed into the workgraph outputs:"
   ]
  },
  {
   "cell_type": "code",
   "execution_count": null,
   "id": "d444bdaf",
   "metadata": {},
   "outputs": [],
   "source": [
    "wg"
   ]
  },
  {
   "cell_type": "markdown",
   "id": "00970617",
   "metadata": {},
   "source": [
    "Run the workgraph"
   ]
  },
  {
   "cell_type": "code",
   "execution_count": null,
   "id": "1148764d",
   "metadata": {},
   "outputs": [],
   "source": [
    "wg.run()"
   ]
  },
  {
   "cell_type": "markdown",
   "id": "161180e1",
   "metadata": {},
   "source": [
    "We can access the outputs as before, but we can also use the `wg.outputs` that we set up"
   ]
  },
  {
   "cell_type": "code",
   "execution_count": null,
   "id": "1f976c4e",
   "metadata": {},
   "outputs": [],
   "source": [
    "type(wg.outputs.results_file.value)"
   ]
  },
  {
   "cell_type": "code",
   "execution_count": null,
   "id": "cc0cb6f1",
   "metadata": {},
   "outputs": [],
   "source": [
    "wg.outputs.results.value.get_dict()"
   ]
  },
  {
   "cell_type": "markdown",
   "id": "69a223b1",
   "metadata": {},
   "source": [
    "We can also access the outputs from verdi"
   ]
  },
  {
   "cell_type": "code",
   "execution_count": null,
   "id": "daec7015",
   "metadata": {},
   "outputs": [],
   "source": [
    "! verdi process list -a"
   ]
  },
  {
   "cell_type": "code",
   "execution_count": null,
   "id": "9103dd3f",
   "metadata": {},
   "outputs": [],
   "source": [
    "! verdi calcjob res [pk]"
   ]
  }
 ],
 "metadata": {
  "kernelspec": {
   "display_name": "aiida-mlip",
   "language": "python",
   "name": "python3"
  },
  "language_info": {
   "codemirror_mode": {
    "name": "ipython",
    "version": 3
   },
   "file_extension": ".py",
   "mimetype": "text/x-python",
   "name": "python",
   "nbconvert_exporter": "python",
   "pygments_lexer": "ipython3",
   "version": "3.12.2"
  }
 },
 "nbformat": 4,
 "nbformat_minor": 5
}
