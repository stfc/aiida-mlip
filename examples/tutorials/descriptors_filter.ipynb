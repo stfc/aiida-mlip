{
 "cells": [
  {
   "cell_type": "markdown",
   "id": "c13c1dd7",
   "metadata": {},
   "source": [
    "# Running multiple calculations on a given model\n"
   ]
  },
  {
   "cell_type": "markdown",
   "id": "ca81fa1b",
   "metadata": {},
   "source": [
    "## Aim"
   ]
  },
  {
   "cell_type": "markdown",
   "id": "35ecbb39",
   "metadata": {},
   "source": [
    "This notebook shows how we can run multiple calculations of a given structure"
   ]
  },
  {
   "cell_type": "markdown",
   "id": "5acf0b46",
   "metadata": {},
   "source": [
    "### Setup\n",
    "\n",
    "The initial setup is very similar to the other tutorials, such as `singlepoint.ipynb`, which goes into more detail about what each step is doing"
   ]
  },
  {
   "cell_type": "markdown",
   "id": "73bfb65e",
   "metadata": {},
   "source": [
    "Load the aiida profile and code:"
   ]
  },
  {
   "cell_type": "code",
   "execution_count": null,
   "id": "79098139",
   "metadata": {},
   "outputs": [],
   "source": [
    "from aiida import load_profile\n",
    "load_profile()"
   ]
  },
  {
   "cell_type": "code",
   "execution_count": null,
   "id": "3bc2cf3b",
   "metadata": {},
   "outputs": [],
   "source": [
    "from aiida_mlip.data.model import ModelData\n",
    "uri = \"https://github.com/stfc/janus-core/raw/main/tests/models/mace_mp_small.model\"\n",
    "model = ModelData.from_uri(uri, architecture=\"mace_mp\", cache_dir=\"mlips\")"
   ]
  },
  {
   "cell_type": "code",
   "execution_count": null,
   "id": "ae62816f",
   "metadata": {},
   "outputs": [],
   "source": [
    "from aiida.orm import load_code\n",
    "janus_code = load_code(\"janus@localhost\")\n",
    "qe_code = load_code(\"pw@localhost\")"
   ]
  },
  {
   "cell_type": "markdown",
   "id": "65fbe939",
   "metadata": {},
   "source": [
    "Inputs should include the model, code, metadata, and any other keyword arguments expected by the calculation we are running:"
   ]
  },
  {
   "cell_type": "code",
   "execution_count": null,
   "id": "1795dd41",
   "metadata": {},
   "outputs": [],
   "source": [
    "from aiida.orm import Str, Float, Bool\n",
    "inputs = {\n",
    "    \"code\": janus_code,\n",
    "    \"model\": model,\n",
    "    \"arch\": Str(model.architecture),\n",
    "    \"precision\": Str(\"float64\"),\n",
    "    \"device\": Str(\"cpu\"),\n",
    "    \"fmax\": Float(0.1), \n",
    "    \"opt_cell_lengths\": Bool(False), \n",
    "    \"opt_cell_fully\": Bool(True), \n",
    "    \"metadata\": {\"options\": {\"resources\": {\"num_machines\": 1}}},\n",
    "    }"
   ]
  },
  {
   "cell_type": "markdown",
   "id": "1d661593",
   "metadata": {},
   "source": [
    "We must now choose the calculations to perform:"
   ]
  },
  {
   "cell_type": "code",
   "execution_count": null,
   "id": "0e4c78c9",
   "metadata": {},
   "outputs": [],
   "source": [
    "from aiida.plugins import CalculationFactory\n",
    "geomoptCalc = CalculationFactory(\"mlip.opt\")\n",
    "descriptorsCalc = CalculationFactory(\"mlip.descriptors\")\n"
   ]
  },
  {
   "cell_type": "markdown",
   "id": "37df1f81",
   "metadata": {},
   "source": [
    "Now we can create our WorkGraph. This includes passing in the inputs, checking the amount of structures we have and interating through. Note for this workbook we have decreased the amount of structures to two for the sake of simplicity. In the loop we can call each structure; run geomopt calculation, pass the output file into descriptors calculation, and get the final outputs of all the structures"
   ]
  },
  {
   "cell_type": "code",
   "execution_count": null,
   "id": "e186c8e2",
   "metadata": {},
   "outputs": [],
   "source": [
    "from sample_split import build_filters_workgraph\n",
    "from aiida.orm import Str, Float, Bool, Int\n",
    "from ase.io import read\n",
    "\n",
    "structure = \"../../examples/tutorials/structures/lj-traj.xyz\"\n",
    "\n",
    "split_inputs = {\n",
    "    \"config_types\": Str(\"\"),\n",
    "    \"prefix\": Str(\"\"),\n",
    "    \"scale\": Float(1.0e5),\n",
    "    \"append_mode\": Bool(False)\n",
    "}\n",
    "\n",
    "wg = build_filters_workgraph(\n",
    "    initial_struct = structure,\n",
    "    calc_inputs = [geomoptCalc,descriptorsCalc],\n",
    "    wg_inputs= inputs,\n",
    "    split_inputs = split_inputs\n",
    ")\n",
    "\n"
   ]
  },
  {
   "cell_type": "code",
   "execution_count": null,
   "id": "0d119cad",
   "metadata": {},
   "outputs": [],
   "source": [
    "wg\n"
   ]
  },
  {
   "cell_type": "code",
   "execution_count": null,
   "id": "5c5fd6df",
   "metadata": {},
   "outputs": [],
   "source": [
    "wg.run()"
   ]
  },
  {
   "cell_type": "code",
   "execution_count": null,
   "id": "7e5fd2f5",
   "metadata": {},
   "outputs": [],
   "source": [
    "wg.tasks.process_and_split_data.outputs.result.value.get_dict()"
   ]
  },
  {
   "cell_type": "markdown",
   "id": "bb77dab0",
   "metadata": {},
   "source": [
    "Now we can run the calculations"
   ]
  },
  {
   "cell_type": "code",
   "execution_count": 9,
   "id": "b7ec4aa7",
   "metadata": {},
   "outputs": [],
   "source": [
    "from aiida.orm import load_node\n",
    "from aiida import load_profile\n",
    "\n",
    "\n",
    "load_profile(\"presto\", allow_switch=True)\n",
    "file_dict = load_node(3588).get_dict()"
   ]
  },
  {
   "cell_type": "code",
   "execution_count": 19,
   "id": "25dc8d8d",
   "metadata": {},
   "outputs": [
    {
     "name": "stdout",
     "output_type": "stream",
     "text": [
      "Atoms(symbols='Ar100', pbc=False, cell=[17.395296987042, 17.395296987042, 17.395296987042], masses=...)\n"
     ]
    }
   ],
   "source": [
    "from ase.io import read\n",
    "\n",
    "ase=read(file_dict['train_file'], index=7)\n",
    "\n",
    "print(ase)"
   ]
  },
  {
   "cell_type": "code",
   "execution_count": null,
   "id": "10f25e5b",
   "metadata": {},
   "outputs": [],
   "source": [
    "from ase.build import bulk\n",
    "from aiida.orm import Dict, KpointsData, StructureData, load_code, load_group\n",
    "from aiida.plugins.factories import WorkflowFactory\n",
    "from aiida import load_profile\n",
    "from ase.io import read\n",
    "from aiida_workgraph import WorkGraph\n",
    "from aiida_quantumespresso.calculations.pw import PwCalculation\n",
    "\n",
    "qe_code = load_code(\"pw@localhost\")\n",
    "kpoints = KpointsData()\n",
    "kpoints.set_kpoints_mesh([1, 1, 1])\n",
    "pseudo_family = load_group('SSSP/1.3/PBE/efficiency')\n",
    "metadata =  {\n",
    "    \"options\": {\n",
    "        \"resources\": {\n",
    "            \"num_machines\": 1\n",
    "        }\n",
    "    }\n",
    "}\n",
    "\n",
    "\n",
    "for _, filepath_out in file_dict:\n",
    "    for i in range(len(ase=read(filepath_out, index=':'))):\n",
    "        structure = StructureData(ase=read(filepath_out, index=i))\n",
    "        pseudos = pseudo_family.get_pseudos(structure=structure)\n",
    "        ecutwfc, ecutrho = pseudo_family.get_recommended_cutoffs(\n",
    "            structure=structure,\n",
    "            unit='Ry',\n",
    "        )\n",
    "        pw_paras = Dict(\n",
    "            {\n",
    "                \"CONTROL\": {\n",
    "                    \"calculation\": \"scf\",\n",
    "                },\n",
    "                \"SYSTEM\": {\n",
    "                    \"ecutwfc\": ecutwfc,\n",
    "                    \"ecutrho\": ecutrho,\n",
    "                },\n",
    "            }\n",
    "        )\n",
    "\n",
    "\n",
    "        wg = WorkGraph(\"QE\")\n",
    "\n",
    "        inputs = {\n",
    "            \"code\": qe_code,\n",
    "            \"parameters\": pw_paras,\n",
    "            \"kpoints\": kpoints,\n",
    "            \"pseudos\": pseudos,\n",
    "            \"metadata\": metadata,\n",
    "            \"structure\": structure,\n",
    "        }\n",
    "        qe_task = wg.add_task(\n",
    "            PwCalculation,\n",
    "            **inputs\n",
    "        )\n"
   ]
  },
  {
   "cell_type": "code",
   "execution_count": null,
   "id": "b3cd304a",
   "metadata": {},
   "outputs": [],
   "source": [
    "wg"
   ]
  },
  {
   "cell_type": "code",
   "execution_count": null,
   "id": "a20b3adc",
   "metadata": {},
   "outputs": [],
   "source": [
    "wg.run()"
   ]
  },
  {
   "cell_type": "markdown",
   "id": "9d3f9ddd",
   "metadata": {},
   "source": [
    "# TEST"
   ]
  },
  {
   "cell_type": "code",
   "execution_count": null,
   "id": "b14fe356",
   "metadata": {},
   "outputs": [],
   "source": [
    "from aiida.orm import load_node\n",
    "from aiida import load_profile\n",
    "\n",
    "load_profile()\n",
    "\n",
    "sfdata = load_node(pk= 15657)\n",
    "sfdata1 = load_node(pk= 15661)\n",
    "\n",
    "structs_out = {\n",
    "    \"structs0\" : sfdata,\n",
    "    \"structs1\" : sfdata1,\n",
    "}"
   ]
  }
 ],
 "metadata": {
  "kernelspec": {
   "display_name": "aiida-mlip (3.12.3)",
   "language": "python",
   "name": "python3"
  },
  "language_info": {
   "codemirror_mode": {
    "name": "ipython",
    "version": 3
   },
   "file_extension": ".py",
   "mimetype": "text/x-python",
   "name": "python",
   "nbconvert_exporter": "python",
   "pygments_lexer": "ipython3",
   "version": "3.12.3"
  }
 },
 "nbformat": 4,
 "nbformat_minor": 5
}
