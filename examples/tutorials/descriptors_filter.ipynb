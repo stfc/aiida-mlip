{
 "cells": [
  {
   "cell_type": "markdown",
   "id": "c13c1dd7",
   "metadata": {},
   "source": [
    "# WorkGraph example to run Geometry Optimisation and Descriptors"
   ]
  },
  {
   "cell_type": "markdown",
   "id": "ca81fa1b",
   "metadata": {},
   "source": [
    "## Aim"
   ]
  },
  {
   "cell_type": "markdown",
   "id": "35ecbb39",
   "metadata": {},
   "source": [
    "This notebook gives an example on how we can run multiple calculations on a structure. For this example: we will load a structure, run geomopt, run descriptors and finally run a filter script to structures into train.xyz, test.xyz and valid.xyz."
   ]
  },
  {
   "cell_type": "markdown",
   "id": "5acf0b46",
   "metadata": {},
   "source": [
    "### Setup\n",
    "\n",
    "The initial setup is very similar to the other tutorials, such as `singlepoint.ipynb` which goes into more detail about what each step is doing."
   ]
  },
  {
   "cell_type": "markdown",
   "id": "73bfb65e",
   "metadata": {},
   "source": [
    "Load the aiida profile and code:"
   ]
  },
  {
   "cell_type": "code",
   "execution_count": null,
   "id": "79098139",
   "metadata": {},
   "outputs": [],
   "source": [
    "from aiida import load_profile\n",
    "load_profile()"
   ]
  },
  {
   "cell_type": "code",
   "execution_count": null,
   "id": "3bc2cf3b",
   "metadata": {},
   "outputs": [],
   "source": [
    "from aiida_mlip.data.model import ModelData\n",
    "uri = \"https://github.com/stfc/janus-core/raw/main/tests/models/mace_mp_small.model\"\n",
    "model = ModelData.from_uri(uri, architecture=\"mace_mp\", cache_dir=\"mlips\")"
   ]
  },
  {
   "cell_type": "code",
   "execution_count": null,
   "id": "ae62816f",
   "metadata": {},
   "outputs": [],
   "source": [
    "from aiida.orm import load_code\n",
    "janus_code = load_code(\"janus@localhost\")"
   ]
  },
  {
   "cell_type": "markdown",
   "id": "65fbe939",
   "metadata": {},
   "source": [
    "Inputs should include the model, code, metadata, and any other keyword arguments expected by the calculation we are running:"
   ]
  },
  {
   "cell_type": "code",
   "execution_count": null,
   "id": "1795dd41",
   "metadata": {},
   "outputs": [],
   "source": [
    "from aiida.orm import Str, Float, Bool\n",
    "inputs = {\n",
    "    \"code\": janus_code,\n",
    "    \"model\": model,\n",
    "    \"arch\": Str(model.architecture),\n",
    "    \"precision\": Str(\"float64\"),\n",
    "    \"device\": Str(\"cpu\"),\n",
    "    \"fmax\": Float(0.1), \n",
    "    \"opt_cell_lengths\": Bool(False), \n",
    "    \"opt_cell_fully\": Bool(True), \n",
    "    \"metadata\": {\"options\": {\"resources\": {\"num_machines\": 1}}},\n",
    "}"
   ]
  },
  {
   "cell_type": "markdown",
   "id": "1d661593",
   "metadata": {},
   "source": [
    "We now load the calculations we want to run:"
   ]
  },
  {
   "cell_type": "code",
   "execution_count": null,
   "id": "0e4c78c9",
   "metadata": {},
   "outputs": [],
   "source": [
    "from aiida.plugins import CalculationFactory\n",
    "\n",
    "geomoptCalc = CalculationFactory(\"mlip.opt\")\n",
    "descriptorsCalc = CalculationFactory(\"mlip.descriptors\")\n"
   ]
  },
  {
   "cell_type": "markdown",
   "id": "37df1f81",
   "metadata": {},
   "source": [
    "Now we can create our WorkGraph. This includes passing in the inputs, looping through and running the calculations on each structure."
   ]
  },
  {
   "cell_type": "markdown",
   "id": "86036116",
   "metadata": {},
   "source": [
    "In the loop we can call each structure; \n",
    "* Run geomopt calculation and get the xyz_output data\n",
    "* Pass the xyz_output data into and run descriptors calculation \n",
    "* Get the xyz_output of all the structures from descriptors and pass it to process_and_split_data\n",
    "* process_and_split_data creates train.xyz, test.xyz and valid.xyz files and returns a dictionary with filepaths"
   ]
  },
  {
   "cell_type": "code",
   "execution_count": null,
   "id": "e186c8e2",
   "metadata": {},
   "outputs": [],
   "source": [
    "from aiida.orm import Str, Float, Bool, Int\n",
    "from ase.io import read\n",
    "from aiida_workgraph import WorkGraph\n",
    "from aiida.orm import StructureData\n",
    "from sample_split import process_and_split_data\n",
    "\n",
    "initail_structure = \"structures/lj-traj.xyz\"\n",
    "num_structs = len(read(initail_structure, index=\":\"))\n",
    "\n",
    "with WorkGraph(\"Calculation Workgraph\") as wg:\n",
    "    wg.inputs = inputs\n",
    "    final_structures = {}\n",
    "\n",
    "    for i in range(num_structs):\n",
    "        structure = StructureData(ase=read(initail_structure, index=i))\n",
    "\n",
    "        geomopt_calc = wg.add_task(\n",
    "            geomoptCalc,\n",
    "            code=wg.inputs.code,\n",
    "            model=wg.inputs.model,\n",
    "            arch=wg.inputs.arch,\n",
    "            precision=wg.inputs.precision,\n",
    "            device=wg.inputs.device,\n",
    "            metadata=wg.inputs.metadata,\n",
    "            fmax=wg.inputs.fmax,\n",
    "            opt_cell_lengths=wg.inputs.opt_cell_lengths,\n",
    "            opt_cell_fully=wg.inputs.opt_cell_fully,\n",
    "            struct=structure,\n",
    "        )\n",
    "\n",
    "        descriptors_calc = wg.add_task(\n",
    "            descriptorsCalc,\n",
    "            code=wg.inputs.code,\n",
    "            model=wg.inputs.model,\n",
    "            arch=wg.inputs.arch,\n",
    "            precision=wg.inputs.precision,\n",
    "            device=wg.inputs.device,\n",
    "            metadata=wg.inputs.metadata,\n",
    "            struct=geomopt_calc.outputs.final_structure,\n",
    "            calc_per_element=True,\n",
    "        )\n",
    "\n",
    "        final_structures[f\"structs{i}\"] = descriptors_calc.outputs.xyz_output\n",
    "\n",
    "    wg.add_task(\n",
    "        process_and_split_data,\n",
    "        config_types= Str(\"\"),\n",
    "        n_samples=Int(num_structs),\n",
    "        prefix= Str(\"\"),\n",
    "        scale= Float(1.0e5),\n",
    "        append_mode= Bool(False),\n",
    "        trajectory_data= final_structures\n",
    "        )\n"
   ]
  },
  {
   "cell_type": "markdown",
   "id": "de1905c6",
   "metadata": {},
   "source": [
    "Visualise the WorkGraph"
   ]
  },
  {
   "cell_type": "code",
   "execution_count": null,
   "id": "0d119cad",
   "metadata": {},
   "outputs": [],
   "source": [
    "wg\n"
   ]
  },
  {
   "cell_type": "markdown",
   "id": "b99c2d62",
   "metadata": {},
   "source": [
    "Run the tasks"
   ]
  },
  {
   "cell_type": "code",
   "execution_count": null,
   "id": "5c5fd6df",
   "metadata": {},
   "outputs": [],
   "source": [
    "wg.run()"
   ]
  },
  {
   "cell_type": "markdown",
   "id": "0db33aa6",
   "metadata": {},
   "source": [
    "We should get a dictionary with filepaths:"
   ]
  },
  {
   "cell_type": "code",
   "execution_count": null,
   "id": "fe7291b7",
   "metadata": {},
   "outputs": [],
   "source": [
    "wg.tasks.process_and_split_data.outputs.result"
   ]
  }
 ],
 "metadata": {
  "kernelspec": {
   "display_name": "aiida-mlip (3.12.3)",
   "language": "python",
   "name": "python3"
  },
  "language_info": {
   "codemirror_mode": {
    "name": "ipython",
    "version": 3
   },
   "file_extension": ".py",
   "mimetype": "text/x-python",
   "name": "python",
   "nbconvert_exporter": "python",
   "pygments_lexer": "ipython3",
   "version": "3.12.3"
  }
 },
 "nbformat": 4,
 "nbformat_minor": 5
}
